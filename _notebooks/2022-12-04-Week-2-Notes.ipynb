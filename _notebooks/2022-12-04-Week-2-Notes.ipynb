{
 "cells": [
  {
   "cell_type": "markdown",
   "metadata": {},
   "source": [
    "# Week 2 Notes"
   ]
  },
  {
   "cell_type": "markdown",
   "metadata": {},
   "source": [
    "### 3.8 to 3.10 Notes\n",
    "\n",
    "Iteration: a repeating portion of an algorithm, repeats a specified number of times or until a given condition is met.\n",
    "\n",
    "Iteration Statements: change the sequential flow of control by repeating a set of statements zero or more times, until a stopping condition is met\n",
    "\n",
    "Repeat Until: if the condition evaluates to true initially, the loop body is not executed at all, due to the condition being checked before the loop.\n",
    "\n",
    "Stopping conditions can stop an interaction if it was already met.\n",
    "\n",
    "Definition:\n",
    "Iteration Statement - cause statements to be executed zero or more times, subject to some loop-termination criteria\n",
    "\n",
    "range function gives the range for the variable\n"
   ]
  },
  {
   "cell_type": "code",
   "execution_count": 7,
   "metadata": {},
   "outputs": [
    {
     "name": "stdout",
     "output_type": "stream",
     "text": [
      "2\n",
      "3\n",
      "4\n",
      "5\n",
      "6\n",
      "7\n",
      "8\n",
      "9\n"
     ]
    }
   ],
   "source": [
    "a = 1\n",
    "\n",
    "for a in range(2,10):\n",
    "    print(a)\n"
   ]
  },
  {
   "cell_type": "markdown",
   "metadata": {},
   "source": [
    "Breaking statements can also be used to break a loop. Conditions can be constantly used in lists that are not numbers."
   ]
  },
  {
   "cell_type": "code",
   "execution_count": 1,
   "metadata": {},
   "outputs": [
    {
     "name": "stdout",
     "output_type": "stream",
     "text": [
      "dog\n",
      "cat\n"
     ]
    }
   ],
   "source": [
    "animals = [\"dog\", \"cat\", ]\n",
    "for i in animals:\n",
    "    if i == \"fish\":\n",
    "        break\n",
    "    print(i)\n",
    "\n",
    "    # Make piece of code that gives three different recommendations for possible classes to take at a school based on two different conditions. These conditions could be if the student likes STEM or not.\n",
    "\n",
    "stem = [\"Biology\", \"Math\", \"Engineering\"]\n",
    "notstem = [\"pe\", \"offrole\"]\n",
    "\n",
    "love = [\"Alex\", \"Daniel\"]\n",
    "dislike = [\"kim\", \"elliot\"]\n",
    "\n",
    "list = [love, dislike]\n",
    "\n",
    "for item in list:\n",
    "    if item in love:\n",
    "        print(stem)\n",
    "    elif item in dislike:\n",
    "        print(notstem)\n",
    "\n"
   ]
  },
  {
   "cell_type": "markdown",
   "metadata": {},
   "source": [
    "List Operations: write expressions that use list indexing and list procedures.\n",
    "\n",
    "Traversing Lists: all elements in the list are assessed, or a partial traversal, where only a portion of elements are accessed (can be complete).\n",
    "\n",
    "Complete Traversal: All elements in a list are assessed\n",
    "Partial Traversal: Only a given portion of elements are assessed\n",
    "Iterative Traversal: When loops are used to iterate through a list and to access each single element at a time.\n",
    "\n",
    "- insert( ) allows a value to be inserted into a list at index i\n",
    "- append( ) allows a value to be added at the end of a list \n",
    "- remove( ) allows an element at index i to be deleted from a list\n",
    "- length( ) returns the number of elements currently in a specific list\n"
   ]
  }
 ],
 "metadata": {
  "kernelspec": {
   "display_name": "Python 3.8.10 64-bit",
   "language": "python",
   "name": "python3"
  },
  "language_info": {
   "codemirror_mode": {
    "name": "ipython",
    "version": 3
   },
   "file_extension": ".py",
   "mimetype": "text/x-python",
   "name": "python",
   "nbconvert_exporter": "python",
   "pygments_lexer": "ipython3",
   "version": "3.8.10"
  },
  "orig_nbformat": 4,
  "vscode": {
   "interpreter": {
    "hash": "916dbcbb3f70747c44a77c7bcd40155683ae19c65e1c03b4aa3499c5328201f1"
   }
  }
 },
 "nbformat": 4,
 "nbformat_minor": 2
}
