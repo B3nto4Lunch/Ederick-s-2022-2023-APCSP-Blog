{
 "cells": [
  {
   "cell_type": "markdown",
   "metadata": {},
   "source": [
    "# Week 2 Notes"
   ]
  },
  {
   "cell_type": "markdown",
   "metadata": {},
   "source": [
    "### 3.8 to 3.10 Notes\n",
    "\n",
    "Iteration: a repeating portion of an algorithm, repeats a specified number of times or until a given condition is met.\n",
    "\n",
    "Iteration Statements: change the sequential flow of control by repeating a set of statements zero or more times, until a stopping condition is met\n",
    "\n",
    "Repeat Until: if the condition evaluates to true initially, the loop body is not executed at all, due to the condition being checked before the loop.\n",
    "\n",
    "Stopping conditions can stop an interaction if it was already met.\n",
    "\n",
    "Definition:\n",
    "Iteration Statement - cause statements to be executed zero or more times, subject to some loop-termination criteria\n",
    "\n",
    "range function gives the range for the variable\n"
   ]
  },
  {
   "cell_type": "code",
   "execution_count": 7,
   "metadata": {},
   "outputs": [
    {
     "name": "stdout",
     "output_type": "stream",
     "text": [
      "2\n",
      "3\n",
      "4\n",
      "5\n",
      "6\n",
      "7\n",
      "8\n",
      "9\n"
     ]
    }
   ],
   "source": [
    "a = 1\n",
    "\n",
    "for a in range(2,10):\n",
    "    print(a)\n"
   ]
  },
  {
   "cell_type": "markdown",
   "metadata": {},
   "source": [
    "Breaking statements can also be used to break a loop. Conditions can be constantly used in lists that are not numbers."
   ]
  },
  {
   "cell_type": "code",
   "execution_count": 1,
   "metadata": {},
   "outputs": [
    {
     "name": "stdout",
     "output_type": "stream",
     "text": [
      "dog\n",
      "cat\n"
     ]
    }
   ],
   "source": [
    "animals = [\"dog\", \"cat\", ]\n",
    "for i in animals:\n",
    "    if i == \"fish\":\n",
    "        break\n",
    "    print(i)\n",
    "\n",
    "    # Make piece of code that gives three different recommendations for possible classes to take at a school based on two different conditions. These conditions could be if the student likes STEM or not.\n",
    "\n",
    "stem = [\"Biology\", \"Math\", \"Engineering\"]\n",
    "notstem = [\"pe\", \"offrole\"]\n",
    "\n",
    "love = [\"Alex\", \"Daniel\"]\n",
    "dislike = [\"kim\", \"elliot\"]\n",
    "\n",
    "list = [love, dislike]\n",
    "\n",
    "for item in list:\n",
    "    if item in love:\n",
    "        print(stem)\n",
    "    elif item in dislike:\n",
    "        print(notstem)\n",
    "\n"
   ]
  },
  {
   "cell_type": "markdown",
   "metadata": {},
   "source": [
    "List Operations: write expressions that use list indexing and list procedures.\n",
    "\n",
    "Traversing Lists: all elements in the list are assessed, or a partial traversal, where only a portion of elements are accessed (can be complete).\n",
    "\n",
    "Complete Traversal: All elements in a list are assessed\n",
    "Partial Traversal: Only a given portion of elements are assessed\n",
    "Iterative Traversal: When loops are used to iterate through a list and to access each single element at a time.\n",
    "\n",
    "- insert( ) allows a value to be inserted into a list at index i\n",
    "- append( ) allows a value to be added at the end of a list \n",
    "- remove( ) allows an element at index i to be deleted from a list\n",
    "- length( ) returns the number of elements currently in a specific list\n"
   ]
  },
  {
   "cell_type": "markdown",
   "metadata": {},
   "source": [
    "# 3.9 and 3.11 Algorithms\n",
    "\n",
    "Three components of an Algorithm:\n",
    "* Selection\n",
    "* Sequence\n",
    "* Iteration\n",
    "\n",
    "Algorithms can be written in different ways and still create the same thing.\n",
    "\n",
    "It is important to notice the differences in the algorithms to see if there are any errors that can occur\n",
    "\n",
    "Tommy and Billy are working on solving the same issue with an algorithm<br>\n",
    "Tommy creates a functioning code and yells \"I did it!\"<br>\n",
    "He looks over at his friend Billy which is having a bit of trouble and he offers help<br>\n",
    "However, Billy's code looks basically the same! which confuses them<br>\n",
    "Then they remember that they were taught that algorithms that look similar don't always have the same results and they collaborate to do further investigation:)\n",
    "\n"
   ]
  },
  {
   "cell_type": "code",
   "execution_count": null,
   "metadata": {},
   "outputs": [],
   "source": [
    "print(\"What Grade Did You Get?\")\n",
    "grade = int(input(\"Enter Grade:\"))\n",
    "A = grade >= 90\n",
    "B = 70 <= grade < 90\n",
    "C = grade < 70\n",
    "if A:\n",
    "        print(\"Wow! Good job!\")\n",
    "elif B:\n",
    "        print(\"Nice!\")\n",
    "elif C:\n",
    "        print(\"Do Better\")\n",
    "\n"
   ]
  },
  {
   "cell_type": "markdown",
   "metadata": {},
   "source": [
    "The code above does look different from the first two, but it is the same thing, where instead of the number being identified, it is being identified through the letter that it is given. Does the same thing, but uses a different method to find said grade."
   ]
  },
  {
   "cell_type": "markdown",
   "metadata": {},
   "source": [
    "##### Developing Algorithms\n",
    "\n",
    "When creating an algorithm, it is good to outline its process before coding to ensure that it is sequenced correctly (the steps taken to derive your answer)\n",
    "\n",
    "- Visualization helps one see the flow of the whole algorithm\n",
    "- More efficient and effective\n",
    "\n",
    "_____________________________________________________________________________________________________________\n",
    "\n",
    "\n",
    "**Algorithms with iteration repeat functions until a goal is fulfilled.**\n",
    "\n",
    "**Algorithms with selection will only go through certain functions if certain things are true or false**\n",
    "\n",
    "\n",
    "An  example of visualization is shown below\n",
    "\n",
    "1. Start\n",
    "2. Input number of hours parked\n",
    "3. If hours is less than 1, cost is free\n",
    "4. If hours is between 1 and 2, cost is $5\n",
    "5. If hours is between 2 and 3, cost is $8\n",
    "6. If hours is between 3 and 4, cost is $10\n",
    "7. If hours is more than 4, cost is $12\n",
    "8. Display cost and goodbye\n",
    "9. Finish\n",
    "\n"
   ]
  },
  {
   "cell_type": "code",
   "execution_count": null,
   "metadata": {},
   "outputs": [],
   "source": [
    "print(\"The parking rate is as follows: \\n Less than one hour: Free \\n 1-2 hours: $5 \\n 2-3 hours: $8 \\n 3-4 hours: $10 \\n 4+ hours: $12\")\n",
    "\n",
    "time = float(input(\"How many hours have you parked at this garage?\"))\n",
    "print(\"How many hours have you parked at this garage?\")\n",
    "print(time, \"hours costs:\")\n",
    "\n",
    "if time < 1 :\n",
    "    print(\"Free\")\n",
    "elif time >= 1 and time < 2 :\n",
    "    print(\"$5\")\n",
    "elif time >= 2 and time < 3 :\n",
    "    print(\"$8\")\n",
    "elif time >= 3 and time < 4 :\n",
    "    print(\"$10\")\n",
    "else:\n",
    "    print(\"$12\")\n",
    "\n",
    "print(\"Have a good day!\")"
   ]
  },
  {
   "cell_type": "markdown",
   "metadata": {},
   "source": [
    "Notice how the algorithm is planned out before creating, making it more efficient and less prone to errors.\n",
    "\n",
    "\n",
    "To use preexisting algorithms, knowing some can help construct new ones\n",
    " - simple existing algorithms include determining the min and max of 2+ numbers\n",
    " - Computing sum or average\n",
    " - identifying if an integer is even or odd\n",
    "- Using existing algorithms structures can help as building blocks to reduce the time to develop, testing, and errors.\n",
    "\n"
   ]
  }
 ],
 "metadata": {
  "kernelspec": {
   "display_name": "Python 3.8.10 64-bit",
   "language": "python",
   "name": "python3"
  },
  "language_info": {
   "codemirror_mode": {
    "name": "ipython",
    "version": 3
   },
   "file_extension": ".py",
   "mimetype": "text/x-python",
   "name": "python",
   "nbconvert_exporter": "python",
   "pygments_lexer": "ipython3",
   "version": "3.8.10"
  },
  "orig_nbformat": 4,
  "vscode": {
   "interpreter": {
    "hash": "916dbcbb3f70747c44a77c7bcd40155683ae19c65e1c03b4aa3499c5328201f1"
   }
  }
 },
 "nbformat": 4,
 "nbformat_minor": 2
}
