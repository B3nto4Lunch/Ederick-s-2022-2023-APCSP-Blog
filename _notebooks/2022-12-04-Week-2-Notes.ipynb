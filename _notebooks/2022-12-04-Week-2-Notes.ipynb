{
 "cells": [
  {
   "attachments": {},
   "cell_type": "markdown",
   "metadata": {},
   "source": [
    "# Week 2 Notes\n",
    "\n",
    "- categories: [Notes]"
   ]
  },
  {
   "cell_type": "markdown",
   "metadata": {},
   "source": [
    "### 3.8 to 3.10 Notes\n",
    "\n",
    "Iteration: a repeating portion of an algorithm, repeats a specified number of times or until a given condition is met.\n",
    "\n",
    "Iteration Statements: change the sequential flow of control by repeating a set of statements zero or more times, until a stopping condition is met\n",
    "\n",
    "Repeat Until: if the condition evaluates to true initially, the loop body is not executed at all, due to the condition being checked before the loop.\n",
    "\n",
    "Stopping conditions can stop an interaction if it was already met.\n",
    "\n",
    "Definition:\n",
    "Iteration Statement - cause statements to be executed zero or more times, subject to some loop-termination criteria\n",
    "\n",
    "range function gives the range for the variable\n"
   ]
  },
  {
   "cell_type": "code",
   "execution_count": 7,
   "metadata": {},
   "outputs": [
    {
     "name": "stdout",
     "output_type": "stream",
     "text": [
      "2\n",
      "3\n",
      "4\n",
      "5\n",
      "6\n",
      "7\n",
      "8\n",
      "9\n"
     ]
    }
   ],
   "source": [
    "a = 1\n",
    "\n",
    "for a in range(2,10):\n",
    "    print(a)\n"
   ]
  },
  {
   "cell_type": "markdown",
   "metadata": {},
   "source": [
    "Breaking statements can also be used to break a loop. Conditions can be constantly used in lists that are not numbers."
   ]
  },
  {
   "cell_type": "code",
   "execution_count": 1,
   "metadata": {},
   "outputs": [
    {
     "name": "stdout",
     "output_type": "stream",
     "text": [
      "dog\n",
      "cat\n"
     ]
    }
   ],
   "source": [
    "animals = [\"dog\", \"cat\", ]\n",
    "for i in animals:\n",
    "    if i == \"fish\":\n",
    "        break\n",
    "    print(i)\n",
    "\n",
    "    # Make piece of code that gives three different recommendations for possible classes to take at a school based on two different conditions. These conditions could be if the student likes STEM or not.\n",
    "\n",
    "stem = [\"Biology\", \"Math\", \"Engineering\"]\n",
    "notstem = [\"pe\", \"offrole\"]\n",
    "\n",
    "love = [\"Alex\", \"Daniel\"]\n",
    "dislike = [\"kim\", \"elliot\"]\n",
    "\n",
    "list = [love, dislike]\n",
    "\n",
    "for item in list:\n",
    "    if item in love:\n",
    "        print(stem)\n",
    "    elif item in dislike:\n",
    "        print(notstem)\n",
    "\n"
   ]
  },
  {
   "cell_type": "markdown",
   "metadata": {},
   "source": [
    "List Operations: write expressions that use list indexing and list procedures.\n",
    "\n",
    "Traversing Lists: all elements in the list are assessed, or a partial traversal, where only a portion of elements are accessed (can be complete).\n",
    "\n",
    "Complete Traversal: All elements in a list are assessed\n",
    "Partial Traversal: Only a given portion of elements are assessed\n",
    "Iterative Traversal: When loops are used to iterate through a list and to access each single element at a time.\n",
    "\n",
    "- insert( ) allows a value to be inserted into a list at index i\n",
    "- append( ) allows a value to be added at the end of a list \n",
    "- remove( ) allows an element at index i to be deleted from a list\n",
    "- length( ) returns the number of elements currently in a specific list\n"
   ]
  },
  {
   "attachments": {},
   "cell_type": "markdown",
   "metadata": {},
   "source": [
    "### 3.9 and 3.11 Algorithms\n",
    "\n",
    "Three components of an Algorithm:\n",
    "* Selection\n",
    "* Sequence\n",
    "* Iteration\n",
    "\n",
    "Algorithms can be written in different ways and still create the same thing.\n",
    "\n",
    "It is important to notice the differences in the algorithms to see if there are any errors that can occur\n",
    "\n",
    "Tommy and Billy are working on solving the same issue with an algorithm<br>\n",
    "Tommy creates a functioning code and yells \"I did it!\"<br>\n",
    "He looks over at his friend Billy which is having a bit of trouble and he offers help<br>\n",
    "However, Billy's code looks basically the same! which confuses them<br>\n",
    "Then they remember that they were taught that algorithms that look similar don't always have the same results and they collaborate to do further investigation:)\n",
    "\n"
   ]
  },
  {
   "cell_type": "code",
   "execution_count": null,
   "metadata": {},
   "outputs": [],
   "source": [
    "print(\"What Grade Did You Get?\")\n",
    "grade = int(input(\"Enter Grade:\"))\n",
    "A = grade >= 90\n",
    "B = 70 <= grade < 90\n",
    "C = grade < 70\n",
    "if A:\n",
    "        print(\"Wow! Good job!\")\n",
    "elif B:\n",
    "        print(\"Nice!\")\n",
    "elif C:\n",
    "        print(\"Do Better\")\n",
    "\n"
   ]
  },
  {
   "cell_type": "markdown",
   "metadata": {},
   "source": [
    "The code above does look different from the first two, but it is the same thing, where instead of the number being identified, it is being identified through the letter that it is given. Does the same thing, but uses a different method to find said grade."
   ]
  },
  {
   "cell_type": "markdown",
   "metadata": {},
   "source": [
    "##### Developing Algorithms\n",
    "\n",
    "When creating an algorithm, it is good to outline its process before coding to ensure that it is sequenced correctly (the steps taken to derive your answer)\n",
    "\n",
    "- Visualization helps one see the flow of the whole algorithm\n",
    "- More efficient and effective\n",
    "\n",
    "_____________________________________________________________________________________________________________\n",
    "\n",
    "\n",
    "**Algorithms with iteration repeat functions until a goal is fulfilled.**\n",
    "\n",
    "**Algorithms with selection will only go through certain functions if certain things are true or false**\n",
    "\n",
    "\n",
    "An  example of visualization is shown below\n",
    "\n",
    "1. Start\n",
    "2. Input number of hours parked\n",
    "3. If hours is less than 1, cost is free\n",
    "4. If hours is between 1 and 2, cost is $5\n",
    "5. If hours is between 2 and 3, cost is $8\n",
    "6. If hours is between 3 and 4, cost is $10\n",
    "7. If hours is more than 4, cost is $12\n",
    "8. Display cost and goodbye\n",
    "9. Finish\n",
    "\n"
   ]
  },
  {
   "cell_type": "code",
   "execution_count": null,
   "metadata": {},
   "outputs": [],
   "source": [
    "print(\"The parking rate is as follows: \\n Less than one hour: Free \\n 1-2 hours: $5 \\n 2-3 hours: $8 \\n 3-4 hours: $10 \\n 4+ hours: $12\")\n",
    "\n",
    "time = float(input(\"How many hours have you parked at this garage?\"))\n",
    "print(\"How many hours have you parked at this garage?\")\n",
    "print(time, \"hours costs:\")\n",
    "\n",
    "if time < 1 :\n",
    "    print(\"Free\")\n",
    "elif time >= 1 and time < 2 :\n",
    "    print(\"$5\")\n",
    "elif time >= 2 and time < 3 :\n",
    "    print(\"$8\")\n",
    "elif time >= 3 and time < 4 :\n",
    "    print(\"$10\")\n",
    "else:\n",
    "    print(\"$12\")\n",
    "\n",
    "print(\"Have a good day!\")"
   ]
  },
  {
   "cell_type": "markdown",
   "metadata": {},
   "source": [
    "Notice how the algorithm is planned out before creating, making it more efficient and less prone to errors.\n",
    "\n",
    "\n",
    "To use preexisting algorithms, knowing some can help construct new ones\n",
    " - simple existing algorithms include determining the min and max of 2+ numbers\n",
    " - Computing sum or average\n",
    " - identifying if an integer is even or odd\n",
    "- Using existing algorithms structures can help as building blocks to reduce the time to develop, testing, and errors.\n",
    "\n"
   ]
  },
  {
   "attachments": {},
   "cell_type": "markdown",
   "metadata": {},
   "source": [
    "### Binary Search\n",
    "\n",
    "- The binary search algorithm starts at the middle of a sorted data set of numbers and eliminates half of the data; this process repeats until the desired value is found or all elements have been eliminated. However, data must be sorted order to use this algorithm (set of instructions to solve something) \n",
    "- Binary searching is oftentimes more efficient than sequential/linear search when applied to sorted data.\n",
    "\n",
    "**Computers line up values in order and search sequentially down the line, one at a time. This is called a sequential search because each element in a list is examined starting with the first element until we find the desired target or reach the end of the list. The elements do not need to be in any order to do a sequential search. If you are searching for a number in the middle of 7 values, it would take four comparisons to find it.**\n",
    "\n",
    "**Steps for Binary Search**\n",
    "    1. Start by placing the numbers in order (ascending or descending, both work).\n",
    "    2. Look at the middle number first\n",
    "    3. The middle number is determined by taking the highest index (the order of it) number and the lowest and divide by two. If we have 7 numbers placed in order, the first and last's places are added together, so 1+7/2 = 4. If the number is greater than the middle it will take the middle of the middle index and last index and will continue in this process.\n",
    "\n",
    "This is similar to Divide and Conquer\n",
    "If you have 600 sorted numbers. you would go in this process\n",
    "600/2 = 300(middle) \n",
    "300/2 = 150\n",
    "150/2 = 75 (Always round up)\n",
    "75/2 = 38\n",
    "19/2 = 10\n",
    "5/2 = 3\n",
    "3/2 = 2\n",
    "2/2 = 1 <-- the answer\n",
    "\n",
    "You can also conduct a binary search on lists with words in alphabetical order. For example, \n",
    "\n",
    "Fruit = [\"Apple\", \"Banana\" , \"Kiwi\", \"Mango\" , \"Strawberry\"]\n",
    "To find Mango you need to go to the middle and look at Kiwi and then Mango second, it is the arithmetic of the index number that will determine the element you are looking at.\n"
   ]
  },
  {
   "attachments": {},
   "cell_type": "markdown",
   "metadata": {},
   "source": [
    "### 3.12 and 3.13\n",
    "\n",
    "***procedure***: a named set of instructions that can take in parameters and return values. It can also be called method or function in different programming languages.\n",
    "\n",
    "***Parameter***: independent variables used in the procedure to produce a result It allows a procedure to execute without initially knowing specific input values\n",
    "\n",
    "#### Return Function in Python\n",
    "\n",
    "To determine the result of a procedure or any code, you must follow the code line by line and see what each one does\n",
    "\n",
    "Using syntax, you can determine the result by\n",
    "\n",
    "function parameters\n",
    "return value and statements\n",
    "To use return values, you have to write the syntax return followed by the expression you would like to return var\n",
    "A return statement exits a function and instructs python to continue executing the program and to return a certain value\n",
    "\n",
    "Value can be string, a tuple, or any other type that is being sent back to the main program\n",
    "\n",
    "Ex:\n",
    "\n",
    "We use the **Return** function will assign the values for the variables. Try it below with and without the return result. The code basically defines the function as find_cube(num), but in order for it to update it the result, we use the return (variable) for it \n",
    "```python\n",
    "return (\"what is being called, in this case the result\")(this is also called the parameter)\n",
    "```"
   ]
  },
  {
   "cell_type": "code",
   "execution_count": 1,
   "metadata": {},
   "outputs": [
    {
     "name": "stdout",
     "output_type": "stream",
     "text": [
      "Cube: 0b11011\n",
      "Cube: 0b1000000\n"
     ]
    }
   ],
   "source": [
    "def find_cube(num):\n",
    "    result = bin(num * num * num) \n",
    "    return result\n",
    "cube = find_cube(3)\n",
    "cube2 = find_cube(4)\n",
    "\n",
    "\n",
    "print('Cube:',cube)\n",
    "print('Cube:',cube2 )"
   ]
  },
  {
   "attachments": {},
   "cell_type": "markdown",
   "metadata": {},
   "source": [
    "- **Modularity** - the practice of breaking a complex program into smaller, independent parts or modules that can be used and reused in different parts of the program\n",
    "- **Abstraction** - the practice of hiding the details of how a particular code or system works and exposing only the essential features or functions that are necessary for other parts of the program to use\n",
    "- **Duplication** - having multiple duplicate code blocks, often decreasing readability and efficiency\n",
    "- **Logic** - the sequence of steps and operations that a computer follows to\n",
    "\n",
    "\n",
    "Parameters are used to manage complexity\n",
    "calling functions with procedure names\n",
    "\n",
    "###### Vocab\n",
    "\n",
    "- **Procedure**: a module of code that is created to complete a certain tasks, also known as a function\n",
    "- **Procedure Name**: the name that is given to the function/procedure\n",
    "- **Parameter**: a variable (independent) that is used in a function to allow for data to be important into said function\n",
    "- **Arguments**: A way to provide information to a function usually defined outside a function and then important into a function with parameters.\n",
    "\n",
    "Example Below:\n",
    " ```bash\n",
    "def function(a,b): # function is defined\n",
    "  print(a+b) # prints output of variables\n",
    "\n",
    "function(1,2) # one instance that it can be used\n",
    "function(2,3) # another instance\n",
    "```\n",
    "\n",
    "```\n",
    "3\n",
    "5\n",
    "```\n",
    "\n",
    "a and b are the parameters "
   ]
  },
  {
   "cell_type": "code",
   "execution_count": 4,
   "metadata": {},
   "outputs": [
    {
     "name": "stdout",
     "output_type": "stream",
     "text": [
      "2.0\n"
     ]
    }
   ],
   "source": [
    "def InchestoFeet(inches):\n",
    "    Feet = inches/12\n",
    "    return Feet\n",
    "result = InchestoFeet(24)\n",
    "print(result)"
   ]
  },
  {
   "attachments": {},
   "cell_type": "markdown",
   "metadata": {},
   "source": [
    "## Vocab for the Week 2\n",
    "Bits, Bytes, Hexadecimal / Nibbles\n",
    "\n",
    "- Bits - A given byte contains either bits or a code. A designation of 'bits' means that each individual bit has its own meaning, independent of the meaning of other bits in the byte.\n",
    "- Byte - code is computer object code that an interpreter converts into binary machine code so it can be read by a computer's hardware processor.\n",
    "- Hexadecimal - relating to or using a system of numerical notation that has 16 rather than 10 as its base.\n",
    "- Nibble - a nibble is four consecutive binary digits or half of an 8-bit byte. \n",
    "\n",
    "____________________________________________________________________________________________________\n",
    "\n",
    "Unsigned Integer, Signed Integer, Floating Point\n",
    "\n",
    "- Unsigned Integer - Unsigned Integers (often called \"uints\") are just like integers (whole numbers) but have the property that they don't have a + or - sign associated with them\n",
    "- Signed Integer - A signed integer is a 32-bit datum that encodes an integer in the range [-2147483648 to 2147483647]. \n",
    "- Floating Point - There are two floating point primitive types. Data type float is sometimes called \"single-precision floating point\". Data type double has twice as many bits and is sometimes called \"double-precision floating point\".\n",
    "\n",
    "____________________________________________________________________________________________________\n",
    "\n",
    "Binary Data Abstractions: Boolean, ASCII, Unicode, RGB\n",
    "\n",
    "- Boolean - True or False statements\n",
    "- ASCII - ASCII (American Standard Code for Information Interchange) is the most common character encoding format for text data in computers and on the internet.\n",
    "- Unicode - an international encoding standard for use with different languages and scripts, by which each letter, digit, or symbol is assigned a unique numeric value that applies across different platforms and programs.\n",
    "- RGB - Red Green Blue (Gamer)\n",
    "\n",
    "____________________________________________________________________________________________________\n",
    "\n",
    "Data Compression: Lossy, Lossless (note discussed yet)\n",
    "\n",
    "- Lossy - Lossy is a data encoding and compression technique that deliberately discards some data in the compression process.\n",
    "- Lossless - With lossless compression, every bit of data originally in a file remains after it is uncompressed, and all the information is restored\n",
    "\n"
   ]
  }
 ],
 "metadata": {
  "kernelspec": {
   "display_name": "Python 3.8.10 64-bit",
   "language": "python",
   "name": "python3"
  },
  "language_info": {
   "codemirror_mode": {
    "name": "ipython",
    "version": 3
   },
   "file_extension": ".py",
   "mimetype": "text/x-python",
   "name": "python",
   "nbconvert_exporter": "python",
   "pygments_lexer": "ipython3",
   "version": "3.8.10"
  },
  "orig_nbformat": 4,
  "vscode": {
   "interpreter": {
    "hash": "916dbcbb3f70747c44a77c7bcd40155683ae19c65e1c03b4aa3499c5328201f1"
   }
  }
 },
 "nbformat": 4,
 "nbformat_minor": 2
}
