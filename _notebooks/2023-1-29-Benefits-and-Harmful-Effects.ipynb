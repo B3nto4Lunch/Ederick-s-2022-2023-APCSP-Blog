{
 "cells": [
  {
   "cell_type": "code",
   "execution_count": null,
   "metadata": {},
   "outputs": [],
   "source": []
  },
  {
   "attachments": {},
   "cell_type": "markdown",
   "metadata": {},
   "source": [
    "# Big Idea 5.1 and 5.2 Reflection\n",
    "\n",
    "---\n",
    "- categories: [eTracker]\n",
    "- description: \"5.1 and 5.2 Reflection for my post\"\n",
    "---"
   ]
  },
  {
   "attachments": {},
   "cell_type": "markdown",
   "metadata": {},
   "source": [
    "### Think of Three Benefit Effects for Your Project Based on 5.1\n",
    "\n",
    "1. The creation of our project should allow fitness to become more approachable for those that are concerned about their body health but are too afraid to take any action because of societal norms.\n",
    "2. Adding goal planning with additional features encourages users to consistently exercising and to slice their big goal into smaller, more achievable goals.\n",
    "3. Outside of fitness itself, using goal planning can help encourage users to do the same thing in addition to exercise (but continue to do so!): to maintain motivation.\n",
    "\n",
    "\n",
    "### Think of a Harmful Effect of Your Project\n",
    "\n",
    "- The project based on goal-planning may create too many goals, which may result in the nullification of the entire purpose of the project itself. When you clutter your entire workspace with too many things with the original purpose to split the big picture into smaller, more attainable pictures, it can lead to too much stress and can lead to demotivation because they cannot reach all their goals on time.\n",
    "\n",
    "### Thoughts on Procs/Cons on Internet Blockers at router and lack of admin password on lab machines at school\n",
    "\n",
    "Well, there are a lot of Pros when it comes to internet blockers. It helps students stay on task by prohibiting wandering access into game sites and downloading potentially harmful products for school computers. It also keeps track of all students' histories. However, there are also a lot of downsides to having internet blockers. To address the white elephant in the room, the internet blockers have really been a pain to deal with when it comes to getting work in CS done. For example, the school, although in good intentions I'm sure, prohibits AWS to avoid potential harmful effects. Additionally, even in this day and age, not everyone has a hotspot to loop over to get to their work done through school materials (or, in retrospect, people that have hotspots basically make the blockers useless).\n",
    "\n",
    "### Concerns on Digital Divide\n",
    "\n",
    "Digital divide really does have a strong impact on students and districts based on economic statuses. For example, in much lower funded schools, people do not have access to decent computers that can accomplish tasks at decent rates and therefore cannot achieve optimal productivity, whereas somewhere like Del Norte has access to a well funded school and economic system where we are able to bring our own laptop (where many people in other places may not even have the money to afford personal laptops). This does an equal advantage to everyone and is a detriment for people's futures.\n",
    "\n",
    "### Additional Thoughts and Reflection \n",
    "\n",
    "A lot of things have the capability to benefit or harm society in a variety of ways. For example, UAV and Drones are capable of delivering packages to peoples doors for more convenience and can be utilized for military play. However, they also breach privacy and can set forest fires and such.\n",
    "OPEN AI and ChatGPT are things as well, they can help find people get quick and easy access to information so that it is easier to get work done. However, on the flip side, they also contribute to people cheating and violating Academic Honesty. It really depends on the integrity of the user to not abuse the software. Overall though, if many people can cooperate with baseline rules when using these AI's, it will, without a doubt, benefit the evolution of technology and society as we know it. Some question I have though are:\n",
    "\n",
    "- For each software, how can baseline rules be implemented so that these softwares are not abused? (Example: create some security so that if someone asks \"How to make cocaine\" or anything along those lines the software will refuse to give any information)\n",
    "- How can schools use this technology to their advantage to help students enhance their academic and mechanical skill?\n",
    "- Can these softwares also become emotionally intelligent? Many people do not have anyone to talk to\n",
    "- Are these softwares more useful for anything outside of information gathering? Example: I want to become good at CS:GO or Valorant. Can the software give me advice to improve at said games for a specific character or gun mechanic?"
   ]
  }
 ],
 "metadata": {
  "language_info": {
   "name": "python"
  },
  "orig_nbformat": 4
 },
 "nbformat": 4,
 "nbformat_minor": 2
}
