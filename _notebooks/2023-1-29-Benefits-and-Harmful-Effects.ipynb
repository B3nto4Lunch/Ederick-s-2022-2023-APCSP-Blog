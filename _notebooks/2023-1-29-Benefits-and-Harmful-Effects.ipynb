{
 "cells": [
  {
   "cell_type": "code",
   "execution_count": null,
   "metadata": {},
   "outputs": [],
   "source": []
  },
  {
   "attachments": {},
   "cell_type": "markdown",
   "metadata": {},
   "source": [
    "# Big Idea 5.1 and 5.2 Reflection\n",
    "\n",
    "---\n",
    "- categories: [eTracker]\n",
    "- description: \"5.1 and 5.2 Reflection for my post\"\n",
    "---"
   ]
  },
  {
   "attachments": {},
   "cell_type": "markdown",
   "metadata": {},
   "source": [
    "### Think of Three Benefit Effects for Your Project Based on 5.1\n",
    "\n",
    "1. The creation of our project should allow fitness to become more approachable for those that are concerned about their body health but are too afraid to take any action because of societal norms.\n",
    "2. Adding goal planning with additional features encourages users to consistently exercising and to slice their big goal into smaller, more achievable goals.\n",
    "3. Outside of fitness itself, using goal planning can help encourage users to do the same thing in addition to exercise (but continue to do so!): to maintain motivation.\n",
    "\n",
    "\n",
    "### Think of a Harmful Effect of Your Project\n",
    "\n",
    "- The project based on goal-planning may create too many goals, which may result in the nullification of the entire purpose of the project itself. When you clutter your entire workspace with too many things with the original purpose to split the big picture into smaller, more attainable pictures, it can lead to too much stress and can lead to demotivation because they cannot reach all their goals on time.\n",
    "\n",
    "### Thoughts on Procs/Cons on Internet Blockers at router and lack of admin password on lab machines at school\n",
    "\n",
    "Well, there are a lot of Pros when it comes to internet blockers. It helps students stay on task by prohibiting wandering access into game sites and downloading potentially harmful products for school computers. It also keeps track of all students' histories. However, there are also a lot of downsides to having internet blockers. To address the white elephant in the room, the internet blockers have really been a pain to deal with when it comes to getting work in CS done. For example, the school, although in good intentions I'm sure, prohibits AWS to avoid potential harmful effects. Additionally, even in this day and age, not everyone has a hotspot to loop over to get to their work done through school materials (or, in retrospect, people that have hotspots basically make the blockers useless).\n",
    "\n",
    "### Concerns on Digital Divide\n",
    "\n",
    "Digital divide really does have a strong impact on students and districts based on economic statuses. For example, in much lower funded schools, people do not have access to decent computers that can accomplish tasks at decent rates and therefore cannot achieve optimal productivity, whereas somewhere like Del Norte has access to a well funded school and economic system where we are able to bring our own laptop (where many people in other places may not even have the money to afford personal laptops). This does an equal advantage to everyone and is a detriment for people's futures."
   ]
  }
 ],
 "metadata": {
  "language_info": {
   "name": "python"
  },
  "orig_nbformat": 4
 },
 "nbformat": 4,
 "nbformat_minor": 2
}
