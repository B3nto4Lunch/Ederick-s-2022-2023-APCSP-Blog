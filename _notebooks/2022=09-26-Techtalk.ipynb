{
 "cells": [
  {
   "cell_type": "markdown",
   "metadata": {},
   "source": [
    "# Tech Talk Diagram"
   ]
  },
  {
   "cell_type": "markdown",
   "metadata": {},
   "source": [
    "For our project, we will be creating a scheduling program that consists of using Canvas's API to make a reliable program that allows for prime schedule making so that students will have no more trouble integrated their daily schedule in with their work.\n",
    "\n",
    "Front End Dev: Alan\n",
    "Back End Dev: Noor\n",
    "DevOPs: Ederick\n",
    "Scrum Master: Steven\n",
    "\n",
    "We should have the layout done in the next three days of the project and have the software done by the end of project."
   ]
  }
 ],
 "metadata": {
  "kernelspec": {
   "display_name": "Python 3.8.10 64-bit",
   "language": "python",
   "name": "python3"
  },
  "language_info": {
   "name": "python",
   "version": "3.8.10"
  },
  "orig_nbformat": 4,
  "vscode": {
   "interpreter": {
    "hash": "916dbcbb3f70747c44a77c7bcd40155683ae19c65e1c03b4aa3499c5328201f1"
   }
  }
 },
 "nbformat": 4,
 "nbformat_minor": 2
}
