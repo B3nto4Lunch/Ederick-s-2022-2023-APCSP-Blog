{
 "cells": [
  {
   "cell_type": "markdown",
   "metadata": {},
   "source": [
    "# \"Unit 3, Section 1.1: Data Types and Variables\""
   ]
  },
  {
   "cell_type": "markdown",
   "metadata": {},
   "source": [
    "# Essential Knowledge (College Board's Must Knows):\n",
    " * A variable is an abstraction inside a program that holds a value, where each variable has associated data storage that represents a single value at a time (However, if the value is a collection type such as a list, then the value can contain multiple values).\n",
    " * Variables typically have meaningful names that helps with the overall organization of the code and understanding of what is being represented by the variables\n",
    " * Some programming languages provide a variety of methods to represent data, which are referenced using variables (Booleans, numbers, lists, and strings)\n",
    " * One form of a value is better suited for representation than another."
   ]
  },
  {
   "cell_type": "markdown",
   "metadata": {},
   "source": [
    "# What is a Variable?\n",
    "\n",
    "A variable is an abstraction made inside a program that holds a value. These variables are used in code to refer to more complex values that the variable contains and makes the program code more organized and smoother to run.\n",
    "\n",
    "Variables can be seen as \"containers\" and each container has a name that holds what it is supposed to hold.\n",
    "In the following code, we can see that a variable has the value of \"Alex.\" How can we make the variable appear more organized in the code?"
   ]
  },
  {
   "cell_type": "code",
   "execution_count": null,
   "metadata": {},
   "outputs": [],
   "source": [
    "x = \"Alex\"\n",
    "\n",
    "print(x + \"likes pie.\")\n",
    "\n",
    "# Make it so that \"x\" is easier to identify to the user"
   ]
  },
  {
   "cell_type": "markdown",
   "metadata": {},
   "source": [
    "# Choosing Variables\n",
    "When choosing variables, it is important to assign the variables name to something that correlates with what the function of the variable is supposed to do. For example, we do not want a variable that is supposed to hold a name be named \"age\" becaue it can be confusing and mistakes may be more prevalent."
   ]
  },
  {
   "cell_type": "code",
   "execution_count": 1,
   "metadata": {},
   "outputs": [
    {
     "name": "stdout",
     "output_type": "stream",
     "text": [
      "39 is Timothy\n"
     ]
    }
   ],
   "source": [
    "age = \"Timothy\"\n",
    "name = \"39\"\n",
    "# Notice how age is going to be seen when printing the code. That can lead to confusion\n",
    "\n",
    "print(name + \" is \" + age)\n",
    "\n",
    "\n",
    "\n"
   ]
  },
  {
   "cell_type": "markdown",
   "metadata": {},
   "source": [
    "# Data Types\n",
    "\n",
    "Variables have different data types that store specific kinds of data depending on what is being represented. Some examples are shown below:\n",
    "\n",
    "* integer (numbers)\n",
    "* string (or text/letters)\n",
    "* Boolean (True/False statements)\n",
    "\n",
    "These types of data types can be useful when trying to represent a value. For example, you would not want a variable meant to represent someone's name with an integer.\n",
    "\n",
    "Questions (College Board's Essential Knowledge):\n",
    "1. What exactly IS a variable?\n",
    "2. What is the best data type to represent someone's dog's name?\n",
    "3. Why is it important to give variables specific names before containing values?\n",
    "4. What is the best way to represent someone's phone number?\n",
    "\n",
    "Bonus (Not required but important to know): \n",
    "1. How can we update a variable's value\n",
    "2. What function is used to recieve a user's input?\n"
   ]
  },
  {
   "cell_type": "markdown",
   "metadata": {},
   "source": [
    "# Hacks\n",
    "\n",
    "As your code becomes increasingly more complex, variables and their names will make reading and fixing your code easier. \n",
    "\n",
    "Create code that...\n",
    "* Uses variables\n",
    "* Show your understanding of different variable data types by using at least 2 different types in your code\n",
    "* Uses meaningful names to prevent confusion"
   ]
  },
  {
   "cell_type": "markdown",
   "metadata": {},
   "source": [
    "# Rubric\n",
    "\n",
    "1. Code needs to function\n",
    "2. Data types are properly used for their given function\n",
    "3. Each variable has identification to prevent confusion\n",
    "4. Each Variable is utilized for their intended purpose"
   ]
  }
 ],
 "metadata": {
  "kernelspec": {
   "display_name": "Python 3.8.10 64-bit",
   "language": "python",
   "name": "python3"
  },
  "language_info": {
   "codemirror_mode": {
    "name": "ipython",
    "version": 3
   },
   "file_extension": ".py",
   "mimetype": "text/x-python",
   "name": "python",
   "nbconvert_exporter": "python",
   "pygments_lexer": "ipython3",
   "version": "3.8.10 (default, Jun 22 2022, 20:18:18) \n[GCC 9.4.0]"
  },
  "orig_nbformat": 4,
  "vscode": {
   "interpreter": {
    "hash": "916dbcbb3f70747c44a77c7bcd40155683ae19c65e1c03b4aa3499c5328201f1"
   }
  }
 },
 "nbformat": 4,
 "nbformat_minor": 2
}
