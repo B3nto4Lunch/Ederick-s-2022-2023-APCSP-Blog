{
 "cells": [
  {
   "cell_type": "code",
   "execution_count": null,
   "metadata": {},
   "outputs": [],
   "source": []
  },
  {
   "attachments": {},
   "cell_type": "markdown",
   "metadata": {},
   "source": [
    "# Agile Manifesto and Ideation and Comments\n",
    "\n",
    "---\n",
    "- categories: [eTracker]\n",
    "- description: \"comments and ideations for our project\"\n",
    "---"
   ]
  },
  {
   "attachments": {},
   "cell_type": "markdown",
   "metadata": {},
   "source": [
    "### Agile Manifesto\n",
    "- Create a project that satisfies the teachers expectations and the developers\n",
    "- Have a product that goes above and beyond the project criteria and is beneficial to others\n",
    "- Don't worry about making mistakes! Mistakes are learning opportunities!\n",
    "- We will respect each others time and commitment and strive to be reliable and meet the deadlines on time\n",
    "- Support and encourage each others personal and professional growth"
   ]
  },
  {
   "attachments": {},
   "cell_type": "markdown",
   "metadata": {},
   "source": [
    "### Project 1\n",
    "\n",
    "- [x] Program Purpose and Function\n",
    "- [x] Data Abstraction\n",
    "- [x] Managing Complexity\n",
    "- [ ] Procedural Abstraction\n",
    "- [x] Algorithm Implementation\n",
    "- [x] Testing\n",
    "\n",
    "Does not really provide too many details about the subject, but rather it does do a decent job at explaining everything. This can work in my code, but I think that more details have to be more thorough to make sure no confusion is present and complexity is there. If not, vague answers and descriptions of our product may be a liability when actually finalizing it because we do not have a fully constructed blueprint.\n"
   ]
  },
  {
   "attachments": {},
   "cell_type": "markdown",
   "metadata": {},
   "source": [
    "### Project 2\n",
    "\n",
    "- [x] Program Purpose and Function\n",
    "- [x] Data Abstraction\n",
    "- [x] Managing Complexity\n",
    "- [x] Procedural Abstraction\n",
    "- [x] Algorithm Implementation\n",
    "- [x] Testing\n",
    "\n",
    "This student, similar to student one, did do a decent job describing everything... only it was much better. The student had more in depth composition and seemed like they knew what what they were talking about. Additionally, the student also implemented various pictures as blocks which can help visualize the code better. Additionally, their description is very complex and thorough and goes through most details. This is a good example of what I should be include in our code to reduce confusion.\n",
    "In my code, we should add lots of infographics and descriptions to reduce the amount of errors that might occur and have a more clear idea of what we are going to do."
   ]
  },
  {
   "attachments": {},
   "cell_type": "markdown",
   "metadata": {},
   "source": [
    "### Reflections for the Future\n",
    "\n",
    "\n",
    "**What would you code given absolute freedom?**\n",
    "It's hard to say what the ultimate thing I would want to code would be, but something that can help me and others and potentially become a source of revenue would be ideal. Because of this, I think programming a video game would be the best way to exercise my coding because video games, such as League of Legends, generate lots of revenue through in game purchases and such and allows for socializing between people on the internet and provides a way of entertainment. Additionally, people that create content based around said video game can attract more users plus make the content creator more successful as well (through social media revenue and payouts). However, if video games was not an option, something more trivial like calculator apps and such that can still generate money would be ideal, where it helps people and still allows for a source of income.\n",
    "\n",
    "**What would motivate you to be productive each day given the freedom to code what you want?**\n",
    "Well, to have motivation for that ultimate coding project, there needs to be an incentive, of course. Incentives will allow people to perform tasks to achieve said incentives. One popular incentive, and probably the most sought out, is money. That is the main incentive that would motivate me to continue working on said project. I don't want to just create something without compensation. Of course, I want to help those in need and create apps and code that can benefit society, but what's the point of creating said helpful apps if I am not rewarded for creating them? However, something that's just as important is the enjoyment. Even if I generate money from a project, I would still want to enjoy creating said project because I don't want to be miserable for the majority of my day. Together, with enjoyment and money, that should be enough to sustain my motivation to code my dream project.\n",
    "\n",
    "**How would you measure success in your team?**\n",
    "Measuring success in a team can be measured in three main concepts. Firstly, and most important, is the team collaborating? Are they working together? If a team is not a team, then many errors can occur. No communication means that many mixups can occur (e.g One person updated frontend development that altered the backend, but failed to notify the backend developer, resulting in the crashing of the program or code). Good collaboration almost always correlates to more success in a team's product. Secondly, is the program popular? Is it generating money? Money makes the work go 'round. Again, incentives are what motivate people and teams to continue their jobs and such. Money can go more in-depth, though. Money can help support families, live a lavish lifestyle, etc. If the team is constantly working on a project that does not generate any money, then the team will not be able to use it as a way to become more successful or at the very least, live more comfortably. Tax, mortgage, and student loans, all need money. That's why people have jobs and create projects, to generate money to pay off these horrors of today. Finally, does this team enjoy what they are doing? If you love your job, you will start to think of it less of a job and more of a hobby -- a hobby that generates money. The more the team enjoys what they are doing, the more willing they are to fix errors, apply updates, continue improving, their project. The best way to stop a man from escaping a prison is to make them think that they aren't in prison in the first place.\n",
    "\n",
    "**In a project, most students are more motivated if the project seems useful, unique, and has an interested consumer. How will you maintain motivation?**\n",
    "I will maintain my motivation by continuously revising my incentives: money and enjoyment. I want to seek enjoyment in everything that I do and I hope that it will be useful for me in the future (whether I learn something or generate income)\n",
    "\n",
    "\n",
    "**Take a moment to review standards linked on this page. Provide summary in comment on why information is this blog is important?.**\n",
    "Firstly, being *agile*, is extremely important because it helps increase the efficiency and the process of what we do can affect the amount of time it will take and the quality of life while performing tasks. Additionally, being open to change can make it easier to improve one's project, which can help consumers retain more engagement, increasing success. Building mutual interests with others can also help with creating a project because it demonstrates one's gregariousness and openess to improvement from others. This helps build the quality of team creativity and productivity.\n",
    "On another note, having commitment to a project and to overall improvement is extremely important. It shows your dedication and motivation towards a certain topic and will certainly aide in your willingness to collaborate and develop with others.\n",
    "Valuing creativity and quality in ones' work will also help in the overall improvement of not just you, but the entirety of a team.\n",
    "\n",
    "**Would you rather work on PBL project, or or do assigned free-response coding questions (aka FRQs)? Which would be easier to meet class standards?**\n",
    "PBL projects would allow for individual growth and show the process of trial and error and will help develop and grow as a person and how I can use PBL in daily life and other projects and classes. However, FRQs can be a little bit easier because there is generally a more concrete answer rather than the different ways one can develop and grow as a person through projects. \n",
    "\n",
    "**Trust and Freedom are often earned. How will you show your passion and ability to succeed in your work?**\n",
    "Demonstrating one's commitment and dedication to their coding and projects shows their passion. While the ability to succeed in work may be a struggle at the start, the more I learn from others and the internet, the easier it becomes in the easier. The progress displayed throughout the assignment demonstrates a person's commitment and development as a student and as an individual. This, in turn, can allow for others to trust you with work more easily knowing that you will find a suitable way to fulfill    said task.\n",
    "\n",
    "**What key learnings and focusses are a priority for you?**\n",
    "Being open to collaboration and the willingness to improve and grow are a priority for me because the faster and better that I can develop and grow as a person, the more likely that my product will be successful in the future because I can utilize more complex features of code to implement into my program to perform more dedicated and specific tasks.\n",
    "\n"
   ]
  }
 ],
 "metadata": {
  "kernelspec": {
   "display_name": "Python 3",
   "language": "python",
   "name": "python3"
  },
  "language_info": {
   "name": "python",
   "version": "3.8.10 (default, Jun 22 2022, 20:18:18) \n[GCC 9.4.0]"
  },
  "orig_nbformat": 4,
  "vscode": {
   "interpreter": {
    "hash": "916dbcbb3f70747c44a77c7bcd40155683ae19c65e1c03b4aa3499c5328201f1"
   }
  }
 },
 "nbformat": 4,
 "nbformat_minor": 2
}
