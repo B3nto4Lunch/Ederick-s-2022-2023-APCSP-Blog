{
 "cells": [
  {
   "cell_type": "code",
   "execution_count": null,
   "metadata": {},
   "outputs": [],
   "source": []
  },
  {
   "attachments": {},
   "cell_type": "markdown",
   "metadata": {},
   "source": [
    "# Agile Manifesto and Ideation and Comments\n",
    "\n",
    "---\n",
    "- categories: [eTracker]\n",
    "- description: \"comments and ideations for our project\"\n",
    "---"
   ]
  },
  {
   "attachments": {},
   "cell_type": "markdown",
   "metadata": {},
   "source": [
    "### Agile Manifesto\n",
    "- Create a project that satisfies the teachers expectations and the developers\n",
    "- Have a product that goes above and beyond the project criteria and is beneficial to others\n",
    "- Don't worry about making mistakes! Mistakes are learning opportunities!\n",
    "- We will respect each others time and commitment and strive to be reliable and meet the deadlines on time\n",
    "- Support and encourage each others personal and professional growth"
   ]
  }
 ],
 "metadata": {
  "kernelspec": {
   "display_name": "Python 3",
   "language": "python",
   "name": "python3"
  },
  "language_info": {
   "name": "python",
   "version": "3.8.10 (default, Jun 22 2022, 20:18:18) \n[GCC 9.4.0]"
  },
  "orig_nbformat": 4,
  "vscode": {
   "interpreter": {
    "hash": "916dbcbb3f70747c44a77c7bcd40155683ae19c65e1c03b4aa3499c5328201f1"
   }
  }
 },
 "nbformat": 4,
 "nbformat_minor": 2
}
