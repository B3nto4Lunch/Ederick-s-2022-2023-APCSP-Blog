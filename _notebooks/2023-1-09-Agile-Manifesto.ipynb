{
 "cells": [
  {
   "cell_type": "code",
   "execution_count": null,
   "metadata": {},
   "outputs": [],
   "source": []
  },
  {
   "attachments": {},
   "cell_type": "markdown",
   "metadata": {},
   "source": [
    "# Agile Manifesto and Ideation and Comments\n",
    "\n",
    "---\n",
    "- categories: [eTracker]\n",
    "- description: \"comments and ideations for our project\"\n",
    "---"
   ]
  },
  {
   "attachments": {},
   "cell_type": "markdown",
   "metadata": {},
   "source": [
    "### Agile Manifesto\n",
    "- Create a project that satisfies the teachers expectations and the developers\n",
    "- Have a product that goes above and beyond the project criteria and is beneficial to others\n",
    "- Don't worry about making mistakes! Mistakes are learning opportunities!\n",
    "- We will respect each others time and commitment and strive to be reliable and meet the deadlines on time\n",
    "- Support and encourage each others personal and professional growth"
   ]
  },
  {
   "attachments": {},
   "cell_type": "markdown",
   "metadata": {},
   "source": [
    "### Project 1\n",
    "\n",
    "- [x] Program Purpose and Function\n",
    "- [x] Data Abstraction\n",
    "- [x] Managing Complexity\n",
    "- [ ] Procedural Abstraction\n",
    "- [x] Algorithm Implementation\n",
    "- [x] Testing\n",
    "\n",
    "Does not really provide too many details about the subject, but rather it does do a decent job at explaining everything. This can work in my code, but I think that more details have to be more thorough to make sure no confusion is present and complexity is there. If not, vague answers and descriptions of our product may be a liability when actually finalizing it because we do not have a fully constructed blueprint.\n"
   ]
  },
  {
   "attachments": {},
   "cell_type": "markdown",
   "metadata": {},
   "source": [
    "### Project 2\n",
    "\n",
    "- [x] Program Purpose and Function\n",
    "- [x] Data Abstraction\n",
    "- [x] Managing Complexity\n",
    "- [x] Procedural Abstraction\n",
    "- [x] Algorithm Implementation\n",
    "- [x] Testing\n",
    "\n",
    "This student, similar to student one, did do a decent job describing everything... only it was much better. The student had more in depth composition and seemed like they knew what what they were talking about. Additionally, the student also implemented various pictures as blocks which can help visualize the code better. Additionally, their description is very complex and thorough and goes through most details. This is a good example of what I should be include in our code to reduce confusion.\n",
    "In my code, we should add lots of infographics and descriptions to reduce the amount of errors that might occur and have a more clear idea of what we are going to do."
   ]
  }
 ],
 "metadata": {
  "kernelspec": {
   "display_name": "Python 3",
   "language": "python",
   "name": "python3"
  },
  "language_info": {
   "name": "python",
   "version": "3.8.10 (default, Jun 22 2022, 20:18:18) \n[GCC 9.4.0]"
  },
  "orig_nbformat": 4,
  "vscode": {
   "interpreter": {
    "hash": "916dbcbb3f70747c44a77c7bcd40155683ae19c65e1c03b4aa3499c5328201f1"
   }
  }
 },
 "nbformat": 4,
 "nbformat_minor": 2
}
