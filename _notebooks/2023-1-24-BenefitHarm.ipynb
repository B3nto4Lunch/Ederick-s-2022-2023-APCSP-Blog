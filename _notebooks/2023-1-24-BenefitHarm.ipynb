{
 "cells": [
  {
   "attachments": {},
   "cell_type": "markdown",
   "metadata": {},
   "source": [
    "# Beneficial and Harmful Effects"
   ]
  },
  {
   "attachments": {},
   "cell_type": "markdown",
   "metadata": {},
   "source": [
    "A lot of things have the capability to benefit or harm society in a variety of ways. For example, UAV and Drones are capable of delivering packages to peoples doors for more convenience and can be utilized for military play. However, they also breach privacy and can set forest fires and such.\n",
    "OPEN AI and ChatGPT are things as well, they can help find people get quick and easy access to information so that it is easier to get work done. However, on the flip side, they also contribute to people cheating and violating Academic Honesty."
   ]
  }
 ],
 "metadata": {
  "language_info": {
   "name": "python"
  },
  "orig_nbformat": 4
 },
 "nbformat": 4,
 "nbformat_minor": 2
}
