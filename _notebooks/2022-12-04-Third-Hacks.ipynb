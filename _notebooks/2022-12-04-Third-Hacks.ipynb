{
 "cells": [
  {
   "cell_type": "markdown",
   "metadata": {},
   "source": [
    "# 3.5 to 3.7 Hacks"
   ]
  },
  {
   "cell_type": "code",
   "execution_count": null,
   "metadata": {},
   "outputs": [],
   "source": []
  },
  {
   "cell_type": "markdown",
   "metadata": {},
   "source": [
    "### 1st Hacks\n",
    "\n",
    "- Explain in your own words what each logical operator does\n",
    "    - NOT: Essentially creates the opposite of what a true/false statement is. For example, is something is set to True, using NOT will make the outcome false\n",
    "    - AND: Looks for conditions and judges whether the conditions are met or not\n",
    "    - OR: Looks at a set of conditions and only determines if at least one condition is met\n",
    "- Code your own scenario that makes sense for each logical operator"
   ]
  },
  {
   "cell_type": "code",
   "execution_count": null,
   "metadata": {},
   "outputs": [],
   "source": [
    "# Example of NOT\n",
    "\n",
    "Awake = True\n",
    "result = not(Awake)\n",
    "print(result)\n",
    "\n",
    "# Example of AND\n",
    "\n",
    "age = 21\n",
    "if age > 18 and age >= 21:\n",
    "    print(\"Congratulations! You are legally an adult that can drink!\")\n",
    "\n",
    "# Example of OR\n",
    "\n",
    "money = 10\n",
    "time = 30\n",
    "\n",
    "if money > 5 or time >= 30:\n",
    "    print(\"You've worked for long enough and you have enough money.\")\n"
   ]
  },
  {
   "cell_type": "markdown",
   "metadata": {},
   "source": [
    "### Second Hacks"
   ]
  },
  {
   "cell_type": "code",
   "execution_count": null,
   "metadata": {},
   "outputs": [],
   "source": [
    "Likes = [\"Peter\", \"Amanda\", \"Cynthia\"]\n",
    "Dislikes = [ \"Jake\"]\n",
    "Neutral = [\"Steven\", \"Tracer\"]\n",
    "\n",
    "\n",
    "Post = [Likes, Dislikes, Neutral]\n",
    "for Item in Post:\n",
    "    for Item in Item:\n",
    "        if Item in Likes:\n",
    "            print(str(Item) + \" likes this post\")\n",
    "        elif Item in Dislikes:\n",
    "            print(str(Item) + \" does not like this post\")\n",
    "        elif Item in Neutral:\n",
    "            print(str(Item) + \" has not seen this post yet\")\n",
    "\n"
   ]
  }
 ],
 "metadata": {
  "kernelspec": {
   "display_name": "Python 3.8.10 64-bit",
   "language": "python",
   "name": "python3"
  },
  "language_info": {
   "name": "python",
   "version": "3.8.10"
  },
  "orig_nbformat": 4,
  "vscode": {
   "interpreter": {
    "hash": "916dbcbb3f70747c44a77c7bcd40155683ae19c65e1c03b4aa3499c5328201f1"
   }
  }
 },
 "nbformat": 4,
 "nbformat_minor": 2
}
