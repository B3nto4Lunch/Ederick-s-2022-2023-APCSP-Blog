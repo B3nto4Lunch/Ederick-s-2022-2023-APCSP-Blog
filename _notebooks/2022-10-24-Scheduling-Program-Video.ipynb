{
 "cells": [
  {
   "attachments": {},
   "cell_type": "markdown",
   "metadata": {},
   "source": [
    "# Programming Schedule Video\n",
    "\n",
    "- categories: [Webapp]"
   ]
  },
  {
   "cell_type": "markdown",
   "metadata": {},
   "source": [
    "[Link to the Video](https://www.youtube.com/watch?v=hL29zTqDQ-c)\n",
    "\n",
    "This video has all of our group members our purpose and layout for our programming. All links and resources refered in the video are linked in the description. :)"
   ]
  }
 ],
 "metadata": {
  "kernelspec": {
   "display_name": "Python 3.8.10 64-bit",
   "language": "python",
   "name": "python3"
  },
  "language_info": {
   "name": "python",
   "version": "3.8.10 (default, Jun 22 2022, 20:18:18) \n[GCC 9.4.0]"
  },
  "orig_nbformat": 4,
  "vscode": {
   "interpreter": {
    "hash": "916dbcbb3f70747c44a77c7bcd40155683ae19c65e1c03b4aa3499c5328201f1"
   }
  }
 },
 "nbformat": 4,
 "nbformat_minor": 2
}
