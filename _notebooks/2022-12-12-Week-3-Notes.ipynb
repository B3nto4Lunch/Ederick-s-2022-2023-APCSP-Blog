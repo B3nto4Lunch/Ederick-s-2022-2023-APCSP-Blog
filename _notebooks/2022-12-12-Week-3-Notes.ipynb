{
 "cells": [
  {
   "cell_type": "code",
   "execution_count": null,
   "metadata": {},
   "outputs": [],
   "source": []
  },
  {
   "attachments": {},
   "cell_type": "markdown",
   "metadata": {},
   "source": [
    "# Week 3 Notes \n",
    "\n",
    "- categories: [Notes]"
   ]
  },
  {
   "attachments": {},
   "cell_type": "markdown",
   "metadata": {},
   "source": [
    "### 3.14 to 3.15\n",
    "\n",
    "- A software library contains procedures that can be used in the creation of new programs.\n",
    "- Existing segments of code can come from internal or external sources, ie. libraries or previously written code.\n",
    "- The use of libraries simplifies the task of creating complex programs.\n",
    "- Application program interfaces (APIs) are specifications for how the procedures in a library behave and can be used.\n",
    "- Documentation for a library or API is necessary in understanding the key behaviors provided by the API/library and how to utilize them in your work.\n",
    "\n",
    "##### Defining a Library\n",
    "\n",
    "- A library is a collection of code from an external source that can be used to add functionality to a program.\n",
    "- Libraries are very useful, as they can be used to save time and effort in the development process.\n",
    "- Libraries are usually included in a program using a special keyword called \"import\" This keyword tells the program to look for the library and use its code.\n",
    "\n",
    "##### Randomization\n",
    "\n",
    "1) Randomization generates a value between two numbers. For example RANDOM(1,3) may result as 1 or 2 or 3, either one of those.\n",
    "\n",
    "2) Now if we look into our day to day life we can see that randomization is all around us."
   ]
  },
  {
   "cell_type": "code",
   "execution_count": 11,
   "metadata": {},
   "outputs": [
    {
     "name": "stdout",
     "output_type": "stream",
     "text": [
      "10\n"
     ]
    }
   ],
   "source": [
    "import random\n",
    "\n",
    "answer1 = random.randint(0,3)\n",
    "answer2 = random.randint(1,8)\n",
    "answer3 = answer1 + answer2\n",
    "print(answer3)"
   ]
  },
  {
   "attachments": {},
   "cell_type": "markdown",
   "metadata": {},
   "source": [
    "## Use \"Pip install ___\" for new libraries\n"
   ]
  },
  {
   "cell_type": "code",
   "execution_count": 52,
   "metadata": {},
   "outputs": [
    {
     "name": "stdout",
     "output_type": "stream",
     "text": [
      "Head\n"
     ]
    }
   ],
   "source": [
    "import random\n",
    "\n",
    "num = random.randint(1,2)\n",
    "\n",
    "if num == 1:\n",
    "    print(\"Head\")\n",
    "elif num == 2:\n",
    "    print(\"Tails\")\n"
   ]
  },
  {
   "attachments": {},
   "cell_type": "markdown",
   "metadata": {},
   "source": [
    "Some Essential Knowledge that you need to know\n",
    "- RANDOM (a,b) will provide you with a random integer between the numbers a-b\n",
    "- Ex. RANDOM (7,18) can provide you with the number 13.\n",
    "- Using a random generator means each result can come out as different.\n"
   ]
  },
  {
   "attachments": {},
   "cell_type": "markdown",
   "metadata": {},
   "source": [
    "### 3.16\n",
    "\n",
    "So, why use a simulation?\n",
    "\n",
    "- **Advantages**: \n",
    "    - Can be safer\n",
    "    - More cost-effective\n",
    "    - More efficient \n",
    "    - More data in less time\n",
    "- **Disadvantages**:\n",
    "    - Not as accurate as experiments\n",
    "    - outside factors not included (ex: in rolling dice simulation gravity and air resistance)\n",
    "- When do you <u>not</u> use a simulation?\n",
    "    - when a situation already has set results/data (won't change) \n",
    "    - examples: a score in a game, most purchased food, average yearly wage\n"
   ]
  },
  {
   "attachments": {},
   "cell_type": "markdown",
   "metadata": {},
   "source": [
    "# 3.17 3.18\n",
    " Undecidable problems are codes that are so long that the computer just cannot compute whether it is infinite or not\n",
    " UNsolvable problem is just unsolvable\n",
    "\n",
    " Undecidable problems are codes that could definitely not have an input that won't run iterations.\n",
    " Ex: (3x + 1/ Collatz). We don't know if there will  be an input that will not follow this code because there are an infinite amount of inputs and we just don't know for sure yet.\n",
    "\n",
    "\n",
    " Algorithm Efficiency:\n",
    "\n",
    " Algorithm Efficiency is an aspect of algorithmic programming that measures the number of steps needed to solve a problem. Ex. I want to create a sorting algorithm that sorts the numbers from least to greatest, and rather than having an algorithm that compares itself to the next number and swaps it accordingly, it would be more efficient if you had a program that scans through all the numbers.\n",
    "\n",
    " Vocab:\n",
    " - Heuristic approach: making it so that you take the least amount of work or anything needed.\n",
    "\n"
   ]
  }
 ],
 "metadata": {
  "kernelspec": {
   "display_name": "Python 3",
   "language": "python",
   "name": "python3"
  },
  "language_info": {
   "codemirror_mode": {
    "name": "ipython",
    "version": 3
   },
   "file_extension": ".py",
   "mimetype": "text/x-python",
   "name": "python",
   "nbconvert_exporter": "python",
   "pygments_lexer": "ipython3",
   "version": "3.8.10 (default, Jun 22 2022, 20:18:18) \n[GCC 9.4.0]"
  },
  "orig_nbformat": 4,
  "vscode": {
   "interpreter": {
    "hash": "916dbcbb3f70747c44a77c7bcd40155683ae19c65e1c03b4aa3499c5328201f1"
   }
  }
 },
 "nbformat": 4,
 "nbformat_minor": 2
}
