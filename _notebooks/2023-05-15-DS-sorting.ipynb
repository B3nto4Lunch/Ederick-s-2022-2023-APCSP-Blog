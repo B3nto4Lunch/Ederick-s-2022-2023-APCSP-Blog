{
 "cells": [
  {
   "attachments": {},
   "cell_type": "markdown",
   "metadata": {},
   "source": [
    "# Sorting Algorithms\n",
    "> Working with Data Structures and manipulating data.\n",
    "\n",
    "- toc: true\n",
    "- categories: []\n",
    "- type: pbl\n",
    "- week: 34"
   ]
  },
  {
   "attachments": {},
   "cell_type": "markdown",
   "metadata": {},
   "source": [
    "[wget link](https://raw.githubusercontent.com/nighthawkcoders/APCSP/master/_notebooks/2023-05-15-DS-sorting.ipynb)"
   ]
  },
  {
   "cell_type": "code",
   "execution_count": 1,
   "metadata": {},
   "outputs": [
    {
     "name": "stdout",
     "output_type": "stream",
     "text": [
      "Random List\n",
      "[67, 60, 23, 28, 98, 33, 44, 90, 34, 84]\n"
     ]
    }
   ],
   "source": [
    "import random\n",
    "\n",
    "numbers = []\n",
    "for i in range(10):\n",
    "    numbers.append(random.randint(0,100))\n",
    "print(\"Random List\")\n",
    "print(numbers)"
   ]
  },
  {
   "attachments": {},
   "cell_type": "markdown",
   "metadata": {},
   "source": [
    "# Warm Up\n",
    "\n",
    "> Discuss with a partner... \n",
    "What are some strategies you would use to sort this list? (Don't worry about writing code for now)\n",
    "-  If you have a list of different names and such, you can assign each of them into a number and use that to sort the list to whatever you want. However, we can also use a way to sort it least to greatest by making so that if x is greater than y, then swap them, else, just leave them alone, then just keep moving it to each integer and eventually it'll sort."
   ]
  },
  {
   "attachments": {},
   "cell_type": "markdown",
   "metadata": {},
   "source": [
    "# Explore\n",
    "\n",
    "Get into groups of 3\n",
    "\n",
    "We will be focusing on 4 algorithms today.\n",
    "\n",
    "We will look at the first one together, Bubble Sort\n",
    "\n",
    "![](images/bubble-sort.png)\n",
    "\n",
    "What is happening with this sort?\n",
    "\n",
    "In your groups you will each choose to be an expert on a sorting algorithm. Merge, Selection, and Insertion.\n",
    "Take about 5 minutes to read about your algorithm (Geek for Geeks linked below) and be ready to explain it to your other group members. \n",
    "\n",
    "[Merge](https://www.geeksforgeeks.org/merge-sort/#)\n",
    "\n",
    "[Selection](https://www.geeksforgeeks.org/selection-sort/)\n",
    "\n",
    "[Insertion](https://www.geeksforgeeks.org/insertion-sort/)"
   ]
  },
  {
   "attachments": {},
   "cell_type": "markdown",
   "metadata": {},
   "source": [
    "## Practice\n",
    "\n",
    "[75, 17, 46, 80, 67, 45, 69, 79, 40, 0]\n",
    "\n",
    "How would you sort this list with... \n",
    "- Bubble Sort: Bubble sort takes the first element and compares it to the next element. If the second element is smaller then it will switch, if not it will stay the same. It will then do this process through the entire list, which will not always get it to sort correctly the first cycle. So multiple iterations are requried to get it to work.\n",
    "- Selection Sort: Very similar to how we do it naturally, selection sort takes the lowest value and puts it to the end through swapping. It will find the desired value and swap with the smallest index. It will find the next smallest/biggest value and swap it into the second index. It continues until the list is completely and properly sorted. This is like how we sort, where we organize the smallest value and it put it first, then find the next and put it second.\n",
    "\n",
    "[88, 39, 53, 39, 58, 43, 74, 81, 71, 51]\n",
    "\n",
    "How would you sort this list with... \n",
    "- Merge Sort: Merge sort splits the array into multiple subarrays, preferrably in two. It will then arrange each subarray into order, and then merge the two subarrays into a slightly larger subarray and sort accordingly. Keep repeating this process until it is back into a full array, where it will be fully sorted by the time it rearranges. If there is an odd amount of elements, this will not affect the array and will simply just have one subarray with three elements rather than two.\n",
    "- Insertion Sort: Similar to bubble sort, insertion will take the element and iterate it through the list and checks the values on whether they need to be swapped or not. The difference between it is that the iteration happens for each individual element rather than iterating through the entire list like bubble sort.\n",
    "> Explain.\n",
    "\n"
   ]
  },
  {
   "attachments": {},
   "cell_type": "markdown",
   "metadata": {},
   "source": [
    "# Sorting Words\n",
    "> Sorting strings works in the same way as integers. Using your expertise algorithm, sort the following list of random words."
   ]
  },
  {
   "cell_type": "code",
   "execution_count": 2,
   "metadata": {},
   "outputs": [
    {
     "name": "stderr",
     "output_type": "stream",
     "text": [
      "[nltk_data] Downloading package words to\n",
      "[nltk_data]     /Users/ederickwong/nltk_data...\n",
      "[nltk_data]   Unzipping corpora/words.zip.\n"
     ]
    },
    {
     "name": "stdout",
     "output_type": "stream",
     "text": [
      "Random List\n",
      "['unangry', 'vaccinia', 'fadmongery', 'crestless', 'choragium', 'judiciously', 'dominance', 'paroxysmic', 'bismarine', 'cavatina']\n"
     ]
    }
   ],
   "source": [
    "import nltk\n",
    "import random\n",
    "\n",
    "nltk.download('words')  # Download the word list (only required once)\n",
    "\n",
    "from nltk.corpus import words\n",
    "\n",
    "english_words = words.words()\n",
    "#print(len(english_words))  # Prints the number of words in the list\n",
    "\n",
    "# You can now use the 'english_words' list in your code\n",
    "\n",
    "words = []\n",
    "for i in range(10):\n",
    "    words.append(english_words[random.randint(0,len(english_words))])\n",
    "print(\"Random List\")\n",
    "print(words)"
   ]
  },
  {
   "attachments": {},
   "cell_type": "markdown",
   "metadata": {},
   "source": [
    "Assign each letter in each string a numeric value, where a = 1 and z = 26. We can then use a sorting algorithm to sort the values. If two values have the same first letter, check the value of the second value and sort again from there. "
   ]
  },
  {
   "attachments": {},
   "cell_type": "markdown",
   "metadata": {},
   "source": [
    "## Discuss \n",
    "Answer the following with your group.\n",
    "\n",
    "- When should you use each algorithm? What makes an algorithm the right choice\n",
    "- Given the following lists...\n",
    "    - [0, 2, 6, 4, 8, 10]\n",
    "    - [Elephant, Banana, Cat, Dog, Apple]\n",
    "    - [29, 13, 83, 47, 32, 78, 100, 60, 65, 15, 24, 9, 40, 68, 53, 8, 90, 58, 39, 32, 34, 91, 74, 94, 49, 87, 34, 87, 23, 17, 27, 2, 38, 58, 84, 15, 9, 46, 74, 40, 44, 8, 55, 28, 81, 92, 81, 88, 53, 38, 19, 21, 9, 54, 21, 67, 3, 41, 3, 74, 13, 71, 70, 45, 5, 36, 80, 64, 97, 86, 73, 74, 94, 79, 49, 32, 20, 68, 64, 69, 1, 77, 31, 56, 100, 80, 48, 75, 85, 93, 67, 57, 26, 56, 43, 53, 59, 28, 67, 50]\n",
    "Select the algorithm you believe is best for each, explain.\n",
    "    - The first one is already sorted. But if it was mixed, the best way to sort this would be selection because there is a small amount of values so it does not take long for it to find an a value and swap the indexes.\n",
    "    - All of the elements have different starting letters and there a small amount of values, so selection would be the best.\n",
    "    - Merge takes the least time to run with bigger values, so merge would be the best sorting algorithm"
   ]
  },
  {
   "attachments": {},
   "cell_type": "markdown",
   "metadata": {},
   "source": [
    "## HACKS\n",
    "> Provided below is a Bubble Sort Algorithm sorting a list of dictionaries based off of selected key.\n",
    "\n",
    "- Now it's time to do some coding...\n",
    "\n",
    "- Run code and then research and answer these questions...\n",
    "    - Is a list and/or dictionary in python considered a primitive or collection type?  Why?\n",
    "        - Lists and Dictionaries in python are not considered to be primitive types, but rather collection types. Primitive types refer to the utmost bsaic building blocks of Python (examples include intergers and strings). These types are not composed of other data types and are typically immutable (const). However, lists and dictionaries are collection types because they are able to hold multiple values and objects. Lists are ordered collections of elements, where each is assigned an index from 0 to n-1. Dictionaries are unordered collections of value pairs and each element is unique by a key, and the corresponding values can be anything.\n",
    "    - Is the list passed into bubble sort \"pass-by-value\" or \"pass-by-reference? Describe why in relation to output.\n",
    "        - the Bubble sort function accepts the list as a parameter. This means that it is passed by a reference because the modifications made to the list within the function will affect the original list outside the function.\n",
    "\n",
    "- Implement new cell(s) and/or organize cells to do the following.\n",
    "    - Create your own list\n",
    "    - Use your expertise sorting algorithm (selection, insertion, merge). Note, I got my bubble sort from Geek for Geeks and made modifications. Each student in a group should have a unique algorithm.\n",
    "    - Test your list with my bubble sort\n",
    "    - Test my list with your new sort\n",
    "    - Research analysis on sorting: comparisons, swaps, time.  Build this into your hacks.\n",
    "    - Find a better way to print the data, key first, then other elements in viewable form.\n",
    "\n",
    "Use the code below to help guide your adventure"
   ]
  },
  {
   "cell_type": "code",
   "execution_count": 4,
   "metadata": {},
   "outputs": [
    {
     "name": "stdout",
     "output_type": "stream",
     "text": [
      "Original\n",
      "[{'number': 1}, {'number': 2}, {'number': 8}, {'number': 0}]\n",
      "number\n",
      "[{'number': 0}, {'number': 1}, {'number': 2}, {'number': 8}]\n"
     ]
    }
   ],
   "source": [
    "\"\"\"\n",
    "* Creator: Nighthawk Coding Society\n",
    "Bubble Sort of a List with optimizations\n",
    "\"\"\"\n",
    "\n",
    "# bubble sorts a list of dictionaries, base off of provided key\n",
    "def bubbleSort(list, key):\n",
    "    n = len(list) - 1  # list are indexed 0 to n-1, len is n\n",
    "    \n",
    "    # Traverse through list with i index\n",
    "    for i in range(n):\n",
    "        swapped = False  # optimize code, so it exits if now swaps on inner loop\n",
    "\n",
    "        # Inner traversal using j index\n",
    "        for j in range(n-i):  # n-i as positions on right are in order in bubble\n",
    " \n",
    "            # Swap if the element KeyN is greater KeyN1\n",
    "            keyN = list[j].get(key)\n",
    "            keyN1 = list[j+1].get(key)\n",
    "            if keyN > keyN1:\n",
    "                swapped = True\n",
    "                list[j], list[j + 1] = list[j + 1], list[j]  # single line swap\n",
    "         \n",
    "        if not swapped:  # if no swaps on inner pass, list is sorted\n",
    "            return  # exit function\n",
    "    \n",
    "\n",
    "if __name__ == \"__main__\":\n",
    "    # list/dictionary sample\n",
    "    list_of_people = [\n",
    "    {\"number\": 1},\n",
    "    {\"number\": 2},\n",
    "    {\"number\": 8},\n",
    "    {\"number\": 0}\n",
    "    ]\n",
    "    \n",
    "    # assuming uniform keys, pick 1st row as source of keys\n",
    "    key_row = list_of_people[0]\n",
    "\n",
    "    # print list as defined\n",
    "    print(\"Original\")\n",
    "    print(list_of_people)\n",
    "    \n",
    "    for key in key_row:  # finds each key in the row\n",
    "        print(key)\n",
    "        bubbleSort(list_of_people, key)  # sort list of people\n",
    "        print(list_of_people)"
   ]
  },
  {
   "cell_type": "code",
   "execution_count": 2,
   "metadata": {},
   "outputs": [
    {
     "name": "stdout",
     "output_type": "stream",
     "text": [
      "Sorted List: [1, 2, 3, 4, 5, 6, 7, 8, 9]\n",
      "Target 7 found at index 6.\n"
     ]
    }
   ],
   "source": [
    "\"\"\"\n",
    "* Creator: Nighthawk Coding Society\n",
    "Merge Sort and Linear Search in a List of Numbers\n",
    "\"\"\"\n",
    "\n",
    "# Linear search function\n",
    "def linearSearch(numbers, target):\n",
    "    for index, num in enumerate(numbers):\n",
    "        if num == target:\n",
    "            return index  # Return the index if the target is found\n",
    "    return -1  # Return -1 if the target is not found\n",
    "\n",
    "\n",
    "# Merge sort function\n",
    "def mergeSort(numbers):\n",
    "    if len(numbers) <= 1:\n",
    "        return numbers\n",
    "    \n",
    "    mid = len(numbers) // 2\n",
    "    left = mergeSort(numbers[:mid])\n",
    "    right = mergeSort(numbers[mid:])\n",
    "    \n",
    "    return merge(left, right)\n",
    "\n",
    "\n",
    "# Merge helper function for merge sort\n",
    "def merge(left, right):\n",
    "    merged = []\n",
    "    i = j = 0\n",
    "    \n",
    "    while i < len(left) and j < len(right):\n",
    "        if left[i] <= right[j]:\n",
    "            merged.append(left[i])\n",
    "            i += 1\n",
    "        else:\n",
    "            merged.append(right[j])\n",
    "            j += 1\n",
    "    \n",
    "    while i < len(left):\n",
    "        merged.append(left[i])\n",
    "        i += 1\n",
    "    \n",
    "    while j < len(right):\n",
    "        merged.append(right[j])\n",
    "        j += 1\n",
    "    \n",
    "    return merged\n",
    "\n",
    "\n",
    "if __name__ == \"__main__\":\n",
    "    # Sample list of numbers\n",
    "    numbers = [4, 2, 9, 7, 5, 1, 8, 3, 6]\n",
    "    \n",
    "    # Target number to search for\n",
    "    target = 7\n",
    "    \n",
    "    # Perform merge sort\n",
    "    sorted_numbers = mergeSort(numbers)\n",
    "    \n",
    "    # Perform linear search\n",
    "    index = linearSearch(sorted_numbers, target)\n",
    "    \n",
    "    # Print the sorted list and search result\n",
    "    print(\"Sorted List:\", sorted_numbers)\n",
    "    \n",
    "    if index != -1:\n",
    "        print(f\"Target {target} found at index {index}.\")\n",
    "    else:\n",
    "        print(f\"Target {target} not found in the list.\")\n"
   ]
  }
 ],
 "metadata": {
  "kernelspec": {
   "display_name": "base",
   "language": "python",
   "name": "python3"
  },
  "language_info": {
   "codemirror_mode": {
    "name": "ipython",
    "version": 3
   },
   "file_extension": ".py",
   "mimetype": "text/x-python",
   "name": "python",
   "nbconvert_exporter": "python",
   "pygments_lexer": "ipython3",
   "version": "3.9.13"
  },
  "orig_nbformat": 4,
  "vscode": {
   "interpreter": {
    "hash": "40d3a090f54c6569ab1632332b64b2c03c39dcf918b08424e98f38b5ae0af88f"
   }
  }
 },
 "nbformat": 4,
 "nbformat_minor": 2
}
