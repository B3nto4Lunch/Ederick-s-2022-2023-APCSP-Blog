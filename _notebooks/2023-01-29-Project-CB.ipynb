{
 "cells": [
  {
   "cell_type": "code",
   "execution_count": null,
   "metadata": {},
   "outputs": [],
   "source": []
  },
  {
   "attachments": {},
   "cell_type": "markdown",
   "metadata": {},
   "source": [
    "# Project Approval and CSA Examples for the Future\n",
    "\n",
    "---\n",
    "- categories: [eTracker]\n",
    "- description: \"A post that is part of my review ticket that is dedicated to my outline/write-up of materials needed for College Board, Beneficial and Harmful effects, and a revision of all the questions I got incorrect on the MCQ.\"\n",
    "---"
   ]
  },
  {
   "attachments": {},
   "cell_type": "markdown",
   "metadata": {},
   "source": [
    "## Outline for Goal Planning\n",
    "\n",
    "Firstly, for goal planning, I wanted to create something that would correlate and synchronize with my teammates. So, I created \"Goal-Planning,\" which is something that can interact with my teammate Steven's workout calendar.\n",
    "Brief Overview: My page, the goal planning, helps users record and split their final goal into smaller, more achievable goals to encourage progress in \"doing better than last time,\" whether it be for mentality or physical fitness. There will be three input boxes for the user to fill in: \n",
    "- The name of the goal\n",
    "- How hard they would rate it on a scale of 1-10\n",
    "- WHEN do you want to achieve said goal (This aligns with Steven's calendar because I want the goals to hopefully appear on the calendar when said goal is recorded)\n",
    "\n",
    "These goals will then be stored somewhere (DB, Dictionary, etc.) and will be logged in a \"goal box.\" I will make sure to make each goal editable and an \"x\" button to remove any goals to remove clutter. Whenever the data is changed, the program will send the data as a compilation of lists to backend, which should save in the SQL DB. This also ensures that when the user clicks off or is returning to a page, the data is correctly updated to each specific goal.\n",
    "\n",
    "The video that is in production demonstrating this feature will include the creation, editing, and removal of each goal and how it updates (in sync with the calendar hopefully).\n",
    "Here is a brief outline so far:\n",
    "\n",
    "##### CB Scoring\n",
    "\n",
    "1. Purpose: To set small, attainable goals for users to help them step by step to help them achieve their ultimate goal\n",
    "\n",
    "2. - 2a. \n",
    "        - Provides a database that will include all of the user's inputs goals and has them rate it on a scale from 1 to 10 in terms of difficulty\n",
    "        - This list will then be ordered to help the user by making suggestions on what specific task they should work on to progress closer to their \"big\" idea.\n",
    "\n",
    "    - 2b.\n",
    "        - Name of the Variable can be \"Goals\"\n",
    "        - The data in the list is represented in the program by choosing specific goals for the user based on difficulty, which will then be used to recommend specific exercises for the user.\n",
    "3.  - 3a.\n",
    "        - From this list, we can use a sort() function that is given to each exercise (from difficulty) to create a more organized program. Additionally, many other lists can be derived from the original to show a more organized compilation of different goals that the user wants to achieve.\n",
    "    - 3b. \n",
    "        - The selected lists should ideally have a lesser amount and increased specificity for each goal that the user has input. For example, using a list named \"easy_goals\" for milestones that are within a few days of completion can be used later in the program to sort out easy from difficult tasks\n",
    "4.  - 4a.\n",
    "        - The feature I will be using will be a function that goes along the lines of \"sort,\" which will aid the user in selecting one specific goal if the user is struggling to determine whether they want to progress on A or B.\n",
    "    - 4b.\n",
    "      - The purpose of the program is to allow users to set their own pace rather than conform to others that may be setting unrealistic goal standards for their scenarios.\n",
    "    \n",
    "\n",
    "    **An Example of my Thought Process Below (We are using JS, so this is merely a Demo):**\n",
    "5. (In Progress)\n",
    "6. (In Progress)\n"
   ]
  },
  {
   "cell_type": "code",
   "execution_count": null,
   "metadata": {},
   "outputs": [],
   "source": [
    "def sort_goal(x,y):\n",
    "    if x > y:\n",
    "        answer = print(\"Choose goal Y\")\n",
    "    elif y > x:\n",
    "        answer = print(\"Choose Goal Y\")\n",
    "    return answer\n",
    "    \n",
    "x = 1\n",
    "y = 2\n",
    "sort_goal(x,y)\n",
    "    "
   ]
  },
  {
   "attachments": {},
   "cell_type": "markdown",
   "metadata": {},
   "source": [
    "## Incorporation of CSA\n",
    "\n",
    "These are some features that a perfect example from CSA and how I can use this inspiration to create something just as amazing\n",
    "\n",
    "\n",
    "\n",
    "### Purpose and Functionality\n",
    "\n",
    "- Shows a good demonstration of usefulness\n",
    "- gives real life examples of why \n",
    "\n",
    "\n",
    "### Features (How can I Implement these Features into MY Project)\n",
    "\n",
    "- Only certain people can access the site to ensure safety\n",
    "- Security features will be added\n",
    "- A sign in / login page will be implemented\n",
    "- Has a very organized calendar for what will be used\n",
    "- Demonstrates organization with the Database rather than a messy process\n",
    "- ASB will have access to the website\n",
    "- Submit button connects frontend and backend (one of the problems is how to send a file from front to backend)\n",
    "- Database can also add files\n",
    "- Demonstrates many frontend features\n",
    "- Club Search helps manage complexity because a search will help clarify for specific interests rather than looking at small texts\n",
    "- Includes a scrum board\n",
    "- Has a manifesto"
   ]
  },
  {
   "attachments": {},
   "cell_type": "markdown",
   "metadata": {},
   "source": [
    "### "
   ]
  }
 ],
 "metadata": {
  "kernelspec": {
   "display_name": "Python 3",
   "language": "python",
   "name": "python3"
  },
  "language_info": {
   "name": "python",
   "version": "3.8.10 (default, Jun 22 2022, 20:18:18) \n[GCC 9.4.0]"
  },
  "orig_nbformat": 4,
  "vscode": {
   "interpreter": {
    "hash": "916dbcbb3f70747c44a77c7bcd40155683ae19c65e1c03b4aa3499c5328201f1"
   }
  }
 },
 "nbformat": 4,
 "nbformat_minor": 2
}
