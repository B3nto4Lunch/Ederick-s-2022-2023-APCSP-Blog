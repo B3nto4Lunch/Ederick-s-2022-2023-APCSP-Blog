{
 "cells": [
  {
   "cell_type": "code",
   "execution_count": null,
   "metadata": {},
   "outputs": [],
   "source": []
  },
  {
   "attachments": {},
   "cell_type": "markdown",
   "metadata": {},
   "source": [
    "# CSA Example for a Good Project\n",
    "\n",
    "### Purpose and Funtionality\n",
    "\n",
    "- Shows a good deomnstration of usefullness\n",
    "- gives real life examples of why \n",
    "\n",
    "\n",
    "### FEatures\n",
    "\n",
    "Only certain people can access the site to ensure safety\n",
    "Security features will be added\n",
    "A sign in / login page will be implemented\n",
    "Has a very organized calendar for what will be used\n",
    "Demonstrates organization with the Database rather than a messy process\n",
    "ASB will have access to the website\n",
    "Submit button connects frontend and backend (one of the problems is how to send a file from front to backend)\n",
    "Database can also add files\n",
    "Demonstrates many frontend features\n",
    "Club Search helps manage complexity because a search will help clarify for specific interests rather than looking at small texts\n",
    "Includes a scrum board\n",
    "Has a manifesto"
   ]
  }
 ],
 "metadata": {
  "language_info": {
   "name": "python"
  },
  "orig_nbformat": 4
 },
 "nbformat": 4,
 "nbformat_minor": 2
}
