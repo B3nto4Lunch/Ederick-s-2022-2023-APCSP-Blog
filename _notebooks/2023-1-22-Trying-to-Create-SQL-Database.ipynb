{
 "cells": [
  {
   "cell_type": "code",
   "execution_count": null,
   "metadata": {},
   "outputs": [],
   "source": []
  },
  {
   "attachments": {},
   "cell_type": "markdown",
   "metadata": {},
   "source": [
    "# My Attempt at Trying SQL DB \n",
    "\n",
    "---\n",
    "- categories: [eTracker]\n",
    "- description: \"My genuine attempt at the SQL DB\"\n"
   ]
  },
  {
   "attachments": {},
   "cell_type": "markdown",
   "metadata": {},
   "source": [
    "First, I create my file, **sports.py** that utilized some of Mort's code that would track the sport that each person did in a data table.\n",
    "**Code shown below**"
   ]
  },
  {
   "cell_type": "code",
   "execution_count": null,
   "metadata": {},
   "outputs": [],
   "source": [
    "from random import randrange\n",
    "from datetime import date\n",
    "import os, base64\n",
    "import json\n",
    "\n",
    "from __init__ import app, db\n",
    "from sqlalchemy.exc import IntegrityError\n",
    "\n",
    "class sports(db.Model):\n",
    "    __tablename__ = 'sports' \n",
    "    _uid = db.Column(db.String(255), primary_key=True)\n",
    "    _name = db.Column(db.String(255), unique=False, nullable=False)\n",
    "\n",
    "    def __init__(self, uid, name):\n",
    "        self. uid = uid\n",
    "        self._name = name\n",
    "\n",
    "    @property\n",
    "    def uid(self):\n",
    "        return self. uid\n",
    "    \n",
    "    @uid.setter\n",
    "    def uid(self, uid):\n",
    "        self. uid = uid\n",
    "\n",
    "    @property\n",
    "    def name(self):\n",
    "        return self._name\n",
    "\n",
    "    @name.setter\n",
    "    def name(self, name):\n",
    "        self._name = name\n",
    "\n",
    "    @property\n",
    "    def dictionary(self):\n",
    "        dict = {\n",
    "            \"userid\" : self.uid,\n",
    "            \"Name\" : self.name,\n",
    "        }\n",
    "        return dict\n",
    "\n",
    "\n",
    "\n",
    "    \n",
    "    def create(self):\n",
    "        try:\n",
    "            db.session.add(self)  \n",
    "            db.session.commit()  \n",
    "            return self\n",
    "        except IntegrityError:\n",
    "            db.session.remove()\n",
    "            return None\n",
    "\n",
    "\n",
    "    def read(self):\n",
    "        return {\n",
    "            \"uid\": self.uid,\n",
    "            \"name\": self.name,\n",
    "        }\n",
    "\n",
    "\n",
    "    def update(self, uid=\"\", name=\"\"):\n",
    "        \"\"\"only updates values with length\"\"\"\n",
    "        if len(uid) > 0:\n",
    "            self.uid = uid\n",
    "        if len(name) > 0:\n",
    "            self.name = name\n",
    "        db.session.commit()\n",
    "        return self\n",
    "\n",
    "\n",
    "    def delete(self):\n",
    "        db.session.delete(self)\n",
    "        db.session.commit()\n",
    "        return None\n",
    "\n",
    "def initSports():\n",
    "    \"\"\"Create database and tables\"\"\"\n",
    "    db.create_all()\n",
    "    \"\"\"Tester data for table\"\"\"\n",
    "    u1 = sports(uid=1 , name = \"Jace\")\n",
    "    u2 = sports(uid=2 , name = \"Julien\")\n",
    "\n",
    "    users = [u1, u2]\n",
    "\n",
    "    \"\"\"Builds sample user/note(s) data\"\"\"\n",
    "    for user in users:\n",
    "        try:\n",
    "            user.create()\n",
    "        except IntegrityError:\n",
    "            '''fails with bad or duplicate data'''\n",
    "            db.session.remove()\n",
    "            print(f\"Records exist, duplicate username, or error: {user.uid}\")\n",
    "\n"
   ]
  },
  {
   "attachments": {},
   "cell_type": "markdown",
   "metadata": {},
   "source": [
    "However, I kept getting this error, and even after trying to resolve with:\n",
    "- Temporarily deleting athletes.py\n",
    "- pip installing flask\n",
    "- redownloading and such\n",
    "- Would not work"
   ]
  },
  {
   "attachments": {},
   "cell_type": "markdown",
   "metadata": {},
   "source": [
    "![]({{ site.baseurl }}/images/image.png)"
   ]
  }
 ],
 "metadata": {
  "kernelspec": {
   "display_name": "Python 3",
   "language": "python",
   "name": "python3"
  },
  "language_info": {
   "name": "python",
   "version": "3.8.10 (default, Jun 22 2022, 20:18:18) \n[GCC 9.4.0]"
  },
  "orig_nbformat": 4,
  "vscode": {
   "interpreter": {
    "hash": "916dbcbb3f70747c44a77c7bcd40155683ae19c65e1c03b4aa3499c5328201f1"
   }
  }
 },
 "nbformat": 4,
 "nbformat_minor": 2
}
