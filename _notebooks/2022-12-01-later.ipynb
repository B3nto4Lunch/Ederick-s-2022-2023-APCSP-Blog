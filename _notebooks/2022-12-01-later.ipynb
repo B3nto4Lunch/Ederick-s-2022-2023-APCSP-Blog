{
 "cells": [
  {
   "cell_type": "markdown",
   "metadata": {},
   "source": [
    "# 3.5 to 3.7 Hacks"
   ]
  },
  {
   "cell_type": "markdown",
   "metadata": {},
   "source": [
    "### 1st Hacks\n",
    "\n",
    "- Explain in your own words what each logical operator does\n",
    "    - NOT: Essentially creates the opposite of what a true/false statement is. For example, is something is set to True, using NOT will make the outcome false\n",
    "    - AND: Looks for conditions and judges whether the conditions are met or not\n",
    "    - OR: Looks at a set of conditions and only determines if at least one condition is met\n",
    "- Code your own scenario that makes sense for each logical operator"
   ]
  },
  {
   "cell_type": "code",
   "execution_count": 2,
   "metadata": {},
   "outputs": [
    {
     "name": "stdout",
     "output_type": "stream",
     "text": [
      "False\n",
      "Congratulations! You are legally an adult that can drink!\n",
      "You've worked for long enough and you have enough money.\n"
     ]
    }
   ],
   "source": [
    "# Example of NOT\n",
    "\n",
    "Awake = True\n",
    "result = not(Awake)\n",
    "print(result)\n",
    "\n",
    "# Example of AND\n",
    "\n",
    "age = 21\n",
    "if age > 18 and age >= 21:\n",
    "    print(\"Congratulations! You are legally an adult that can drink!\")\n",
    "\n",
    "# Example of OR\n",
    "\n",
    "money = 10\n",
    "time = 30\n",
    "\n",
    "if money > 5 or time >= 30:\n",
    "    print(\"You've worked for long enough and you have enough money.\")\n"
   ]
  },
  {
   "cell_type": "markdown",
   "metadata": {},
   "source": [
    "### Second Hacks\n",
    "- For the first hack, pretend you are a school's test grader. Create an array with integers, each integer representing one score from a student's taken tests. If the average of the student's test scores are at least 75 percent, then display that the student is elligible for credit, and if not, display that the student must retake the tests over break. \n",
    "- The second hack is more number-oriented. Create an algorithm that calculates the sum of two numbers, then determines whether the sum is greater than or less than 100.\n",
    "- The hacks above was heavily derived from CollegeBoard. As a computer science student, you should be able to create an algorithm utilizing conditionals. Try something number-oriented if you get stuck. Creativity gets points."
   ]
  },
  {
   "cell_type": "code",
   "execution_count": 17,
   "metadata": {},
   "outputs": [
    {
     "name": "stdout",
     "output_type": "stream",
     "text": [
      "eligible for credit\n",
      "not eligible for credit\n",
      "eligible for credit\n",
      "eligible for credit\n",
      "eligible for credit\n"
     ]
    }
   ],
   "source": [
    "# 1st Bullet Point\n",
    "\n",
    "Score = [82, 23, 100, 75, 89]\n",
    "Min = 75\n",
    "for item in Score:\n",
    "    if item >= Min:\n",
    "        print(\"eligible for credit\")\n",
    "    else:\n",
    "     print(\"not eligible for credit\")"
   ]
  },
  {
   "cell_type": "markdown",
   "metadata": {},
   "source": [
    "### Second Hacks\n",
    "\n",
    "Hacks\n",
    "1 point for defining all the key terms in your own words. 0.5 points if you use examples that show you truly understand it.\n",
    "1 point for writing a program that uses binary conditional logic. 0.5 points if it is original and shows complexity\n",
    "1 extra point for each challenge that you program or pair program.\n",
    "0.5 points for your review ticket looking nice, or you convincing me that it does.\n",
    "1 point for each and any extra work you do that helps show your understanding of conditionals."
   ]
  },
  {
   "cell_type": "code",
   "execution_count": 32,
   "metadata": {},
   "outputs": [
    {
     "data": {
      "text/plain": [
       "'Less than 10'"
      ]
     },
     "metadata": {},
     "output_type": "display_data"
    },
    {
     "data": {
      "text/plain": [
       "'Less than 10'"
      ]
     },
     "metadata": {},
     "output_type": "display_data"
    },
    {
     "data": {
      "text/plain": [
       "'Less than 10'"
      ]
     },
     "metadata": {},
     "output_type": "display_data"
    },
    {
     "data": {
      "text/plain": [
       "'More than 10'"
      ]
     },
     "metadata": {},
     "output_type": "display_data"
    },
    {
     "data": {
      "text/plain": [
       "'More than 10'"
      ]
     },
     "metadata": {},
     "output_type": "display_data"
    },
    {
     "data": {
      "text/plain": [
       "'More than 10'"
      ]
     },
     "metadata": {},
     "output_type": "display_data"
    }
   ],
   "source": [
    "num = 3\n",
    "num2 = [1, 3, 5, 7, 9, 11]\n",
    "\n",
    "for item in num2:\n",
    "    if item + num >= 10:\n",
    "        display(\"More than 10\")\n",
    "    else:\n",
    "        display(\"Less than 10\")\n",
    "\n",
    "\n"
   ]
  },
  {
   "cell_type": "markdown",
   "metadata": {},
   "source": [
    "Level II: Who Likes It?\n",
    "You probably know the \"like\" system from Facebook and other pages. People can \"like\" blog posts, pictures or other items. We want to create the text that should be displayed next to such an item.\n",
    "\n",
    "Implement the function which takes an array containing the names of people that like an item. It must return the display text as shown in the examples:                                               \n",
    "\n",
    "[] --> \"no one likes this\"\n",
    "\n",
    "[\"Peter\"] --> \"Peter likes this\"\n",
    "\n",
    "[\"Jacob\", \"Alex\"] --> \"Jacob and Alex like this\"\n",
    "\n",
    "[\"Max\", \"John\", \"Mark\"] --> \"Max, John and Mark like this\"\n",
    "\n",
    "[\"Alex\", \"Jacob\", \"Mark\", \"Max\"] --> \"Alex, Jacob and 2 others like this\""
   ]
  },
  {
   "cell_type": "code",
   "execution_count": 1,
   "metadata": {},
   "outputs": [
    {
     "name": "stdout",
     "output_type": "stream",
     "text": [
      "Peter likes this post\n",
      "Amanda likes this post\n",
      "Cynthia likes this post\n",
      "Jake does not like this post\n",
      "Steven has not seen this post yet\n",
      "Tracer has not seen this post yet\n"
     ]
    }
   ],
   "source": [
    "Likes = [\"Peter\", \"Amanda\", \"Cynthia\"]\n",
    "Dislikes = [ \"Jake\"]\n",
    "Neutral = [\"Steven\", \"Tracer\"]\n",
    "\n",
    "\n",
    "Post = [Likes, Dislikes, Neutral]\n",
    "for Item in Post:\n",
    "    for Item in Item:\n",
    "        if Item in Likes:\n",
    "            print(str(Item) + \" likes this post\")\n",
    "        elif Item in Dislikes:\n",
    "            print(str(Item) + \" does not like this post\")\n",
    "        elif Item in Neutral:\n",
    "            print(str(Item) + \" has not seen this post yet\")\n",
    "\n"
   ]
  },
  {
   "cell_type": "markdown",
   "metadata": {},
   "source": [
    "Explanation of Everything:\n",
    "\n",
    "I made multiple lists that displayed the following status of multiple people. However, to make the further code easier on myself, I put each list into a list.\n",
    "\n",
    "I used the for ... in ... function to make the code work for each value in the list. But for eat item I wanted each item in the lists to be factored for, so I used a for Item in Item\n",
    "\n",
    "Since I had three conditions, instead of using else, I made an elif which basically means: \"If this condition does work, try this instead. But if this also doesn't meet the condition, try this instead.\" "
   ]
  },
  {
   "cell_type": "code",
   "execution_count": null,
   "metadata": {},
   "outputs": [],
   "source": []
  },
  {
   "cell_type": "markdown",
   "metadata": {},
   "source": [
    "![]({{ site.baseurl }}/images/Flowchart 1.png)"
   ]
  }
 ],
 "metadata": {
  "kernelspec": {
   "display_name": "Python 3.8.10 64-bit",
   "language": "python",
   "name": "python3"
  },
  "language_info": {
   "codemirror_mode": {
    "name": "ipython",
    "version": 3
   },
   "file_extension": ".py",
   "mimetype": "text/x-python",
   "name": "python",
   "nbconvert_exporter": "python",
   "pygments_lexer": "ipython3",
   "version": "3.8.10"
  },
  "orig_nbformat": 4,
  "vscode": {
   "interpreter": {
    "hash": "916dbcbb3f70747c44a77c7bcd40155683ae19c65e1c03b4aa3499c5328201f1"
   }
  }
 },
 "nbformat": 4,
 "nbformat_minor": 2
}
