{
 "cells": [
  {
   "cell_type": "markdown",
   "metadata": {},
   "source": [
    "# 3.5 to 3.7 Hacks"
   ]
  },
  {
   "cell_type": "markdown",
   "metadata": {},
   "source": [
    "### 1st Hacks\n",
    "\n",
    "- Explain in your own words what each logical operator does\n",
    "    - NOT: Essentially creates the opposite of what a true/false statement is. For example, is something is set to True, using NOT will make the outcome false\n",
    "    - AND: Looks for conditions and judges whether the conditions are met or not\n",
    "    - OR: Looks at a set of conditions and only determines if at least one condition is met\n",
    "- Code your own scenario that makes sense for each logical operator"
   ]
  },
  {
   "cell_type": "code",
   "execution_count": 2,
   "metadata": {},
   "outputs": [
    {
     "name": "stdout",
     "output_type": "stream",
     "text": [
      "False\n",
      "Congratulations! You are legally an adult that can drink!\n",
      "You've worked for long enough and you have enough money.\n"
     ]
    }
   ],
   "source": [
    "# Example of NOT\n",
    "\n",
    "Awake = True\n",
    "result = not(Awake)\n",
    "print(result)\n",
    "\n",
    "# Example of AND\n",
    "\n",
    "age = 21\n",
    "if age > 18 and age >= 21:\n",
    "    print(\"Congratulations! You are legally an adult that can drink!\")\n",
    "\n",
    "# Example of OR\n",
    "\n",
    "money = 10\n",
    "time = 30\n",
    "\n",
    "if money > 5 or time >= 30:\n",
    "    print(\"You've worked for long enough and you have enough money.\")\n"
   ]
  },
  {
   "cell_type": "markdown",
   "metadata": {},
   "source": [
    "### Second Hacks\n",
    "\n",
    "Hacks\n",
    "- 1 point for defining all the key terms in your own words. 0.5 points if you use examples that show you truly understand it.\n",
    "- 1 point for writing a program that uses binary conditional logic. 0.5 points if it is original and shows complexity\n",
    "- 1 extra point for each challenge that you program or pair program.\n",
    "- 0.5 points for your review ticket looking nice, or you convincing me that it does.\n",
    "- 1 point for each and any extra work you do that helps show your understanding of conditionals."
   ]
  },
  {
   "cell_type": "markdown",
   "metadata": {},
   "source": [
    "##### Level I: Vowel Count\n",
    "Return the number (count) of vowels in the given string. We will consider a, e, i, o, u as vowels for this challenge (but not y). The input string will only consist of lower case letters and/or spaces.\n",
    "\n",
    "Hint: If you use a lot of if-statements and there are more than one outcome, that is to be expected. If not, don't panic, just keep trying."
   ]
  },
  {
   "cell_type": "code",
   "execution_count": 24,
   "metadata": {},
   "outputs": [
    {
     "name": "stdout",
     "output_type": "stream",
     "text": [
      "2\n"
     ]
    }
   ],
   "source": [
    "# Level 1\n",
    "\n",
    "vowel = (\"aeiou\")\n",
    "word = input(\"Insert a word to get its vowel checked\") # I am going to use the word Canton\n",
    "a = 0\n",
    "\n",
    "for alphabet in word:\n",
    "    if alphabet in vowel:\n",
    "        a = a + 1\n",
    "\n",
    "print(a)\n"
   ]
  },
  {
   "cell_type": "markdown",
   "metadata": {},
   "source": [
    "##### Level II: Who Likes It?\n",
    "You probably know the \"like\" system from Facebook and other pages. People can \"like\" blog posts, pictures or other items. We want to create the text that should be displayed next to such an item.\n",
    "\n",
    "Implement the function which takes an array containing the names of people that like an item. It must return the display text as shown in the examples:                                               \n",
    "\n",
    "[] --> \"no one likes this\"\n",
    "\n",
    "[\"Peter\"] --> \"Peter likes this\"\n",
    "\n",
    "[\"Jacob\", \"Alex\"] --> \"Jacob and Alex like this\"                                        \n",
    "\n",
    "[\"Max\", \"John\", \"Mark\"] --> \"Max, John and Mark like this\"\n",
    "\n",
    "[\"Alex\", \"Jacob\", \"Mark\", \"Max\"] --> \"Alex, Jacob and 2 others like this\""
   ]
  },
  {
   "cell_type": "code",
   "execution_count": 13,
   "metadata": {},
   "outputs": [
    {
     "name": "stdout",
     "output_type": "stream",
     "text": [
      "Peter likes this post\n",
      "Amanda likes this post\n",
      "Cynthia likes this post\n",
      "Jake does not like this post\n",
      "Steven has not seen this post yet\n",
      "Tracer has not seen this post yet\n"
     ]
    }
   ],
   "source": [
    "# Level 2\n",
    "\n",
    "Likes = [\"Peter\", \"Amanda\", \"Cynthia\"]\n",
    "Dislikes = [ \"Jake\"]\n",
    "Neutral = [\"Steven\", \"Tracer\"]\n",
    "\n",
    "\n",
    "Post = [Likes, Dislikes, Neutral]\n",
    "for Item in Post:\n",
    "    for Item in Item:\n",
    "        if Item in Likes:\n",
    "            print(str(Item) + \" likes this post\")\n",
    "        elif Item in Dislikes:\n",
    "            print(str(Item) + \" does not like this post\")\n",
    "        elif Item in Neutral:\n",
    "            print(str(Item) + \" has not seen this post yet\")\n",
    "\n"
   ]
  },
  {
   "cell_type": "code",
   "execution_count": 22,
   "metadata": {},
   "outputs": [
    {
     "data": {
      "text/plain": [
       "'Less than 10'"
      ]
     },
     "metadata": {},
     "output_type": "display_data"
    },
    {
     "data": {
      "text/plain": [
       "'Less than 10'"
      ]
     },
     "metadata": {},
     "output_type": "display_data"
    },
    {
     "data": {
      "text/plain": [
       "'Less than 10'"
      ]
     },
     "metadata": {},
     "output_type": "display_data"
    },
    {
     "data": {
      "text/plain": [
       "'More than 10'"
      ]
     },
     "metadata": {},
     "output_type": "display_data"
    },
    {
     "data": {
      "text/plain": [
       "'More than 10'"
      ]
     },
     "metadata": {},
     "output_type": "display_data"
    },
    {
     "data": {
      "text/plain": [
       "'More than 10'"
      ]
     },
     "metadata": {},
     "output_type": "display_data"
    }
   ],
   "source": [
    "# Extra display of knowledge for conditionals\n",
    "\n",
    "num = 3\n",
    "num2 = [1, 3, 5, 7, 9, 11]\n",
    "\n",
    "for item in num2:\n",
    "    if item + num >= 10:\n",
    "        display(\"More than 10\")\n",
    "    else:\n",
    "        display(\"Less than 10\")\n",
    "\n",
    "\n"
   ]
  },
  {
   "cell_type": "markdown",
   "metadata": {},
   "source": [
    "Key Terms (1 Point):\n",
    "\n",
    "- **Selection**: Basically gives the computer options that will return an action (true or false) depending on the given conditions are met or not. Ex: It's raining, and the selection is 'It it raining?' (Yes, then go outside) or (No, stay at home).\n",
    "\n",
    "- **Algorithm**: A set of instructions that are to be carried out by the computer to achieve a certain goal. Example: To find out the solution to (8 * 5 / 2) + 1 , the computer must first solve for 8*5, THEN divide that product by 2, and then FINALLY add 1 to find the solution.\n",
    "\n",
    "- **Conditional Statement (If-statements)**: Something that gives the computer a statement (condition) that will affect its sequence of actions based on if it is met (true) or not (false). The if statement is an example of this. Going back to the original statement, a conditional statement would be: \"**if** it is not raining, go outside. **else**: stay at home.\""
   ]
  },
  {
   "cell_type": "markdown",
   "metadata": {},
   "source": [
    "### 3rd Hacks"
   ]
  },
  {
   "cell_type": "markdown",
   "metadata": {},
   "source": [
    "[Link to Flowchart 1](https://www.canva.com/design/DAFT6wvMeUk/QwZG5-bgRr-96M-k9S6ZYw/view?utm_content=DAFT6wvMeUk&utm_campaign=designshare&utm_medium=link2&utm_source=sharebutton)"
   ]
  },
  {
   "cell_type": "code",
   "execution_count": 14,
   "metadata": {},
   "outputs": [
    {
     "name": "stdout",
     "output_type": "stream",
     "text": [
      "B is greater than A\n"
     ]
    }
   ],
   "source": [
    "a = 1\n",
    "b = 2\n",
    "\n",
    "if a == b:\n",
    "    print(\"Equal\")\n",
    "else:\n",
    "    if a > b:\n",
    "        print(\"A is greater than B\")\n",
    "    elif a < b:\n",
    "        print(\"B is greater than A\")"
   ]
  },
  {
   "cell_type": "markdown",
   "metadata": {},
   "source": [
    "[Link to Flowchart 2](https://www.canva.com/design/DAFT9kroNFo/im-4yvmQn8dtqz3fa9jL5A/view?utm_content=DAFT9kroNFo&utm_campaign=designshare&utm_medium=link2&utm_source=sharebutton)"
   ]
  },
  {
   "cell_type": "code",
   "execution_count": 44,
   "metadata": {},
   "outputs": [
    {
     "name": "stdout",
     "output_type": "stream",
     "text": [
      "Sterling likes y\n",
      "Jake does not like y\n",
      "Steven has not interacted with y\n",
      "Tracer has not interacted with y\n"
     ]
    }
   ],
   "source": [
    "\n",
    "Likes = [\"Sterling\"]\n",
    "Dislikes = [ \"Lindsey\"]\n",
    "Neutral = [\"Jacob\", \"Owen\"]\n",
    "\n",
    "\n",
    "Post = [Likes, Dislikes, Neutral]\n",
    "for Item in Post:\n",
    "    for Item in Item:\n",
    "        if Item in Likes:\n",
    "            print(Item + \" likes y\")\n",
    "        elif Item in Dislikes:\n",
    "            print(Item + \" does not like y\")\n",
    "        elif Item in Neutral:\n",
    "            print(Item + \" has not interacted with y\")\n",
    "\n"
   ]
  },
  {
   "cell_type": "markdown",
   "metadata": {},
   "source": [
    "[Link to Flowchart 3](https://www.canva.com/design/DAFT9RJ1gg8/TAbJ5WExceNxpvgN6TQmFg/view?utm_content=DAFT9RJ1gg8&utm_campaign=designshare&utm_medium=link2&utm_source=sharebutton)"
   ]
  },
  {
   "cell_type": "code",
   "execution_count": 43,
   "metadata": {},
   "outputs": [
    {
     "name": "stdout",
     "output_type": "stream",
     "text": [
      "you can buy a burger\n",
      "you can buy a hotdog\n",
      "you can buy a burger\n",
      "you're broke\n",
      "you can buy fries\n"
     ]
    }
   ],
   "source": [
    "burger = 6\n",
    "hotdog = 4\n",
    "fries = 3\n",
    "money = [6, 4, 10, 2, 3]\n",
    "\n",
    "for i in money:\n",
    "    if i >= 6:\n",
    "        print(\"you can buy a burger\")\n",
    "    else:\n",
    "        if i >= 4:\n",
    "            print(\"you can buy a hotdog\")\n",
    "        else:\n",
    "            if i >= 3:\n",
    "                print(\"you can buy fries\")\n",
    "            else:\n",
    "                print(\"you're broke\")"
   ]
  },
  {
   "cell_type": "code",
   "execution_count": 45,
   "metadata": {},
   "outputs": [
    {
     "name": "stdout",
     "output_type": "stream",
     "text": [
      "you can buy a burger\n",
      "you can buy a hotdog\n",
      "you can buy a burger\n",
      "you're broke\n",
      "you can buy fries\n"
     ]
    }
   ],
   "source": [
    "# Going to use my third example, but with the elif statement!\n",
    "\n",
    "burger = 6\n",
    "hotdog = 4\n",
    "fries = 3\n",
    "money = [6, 4, 10, 2, 3]\n",
    "\n",
    "for i in money:\n",
    "    if i >= 6:\n",
    "        print(\"you can buy a burger\")\n",
    "    elif i >= 4:\n",
    "        print(\"you can buy a hotdog\")\n",
    "    elif i >= 3:\n",
    "        print(\"you can buy fries\")\n",
    "    else: \n",
    "        print(\"you're broke\")"
   ]
  },
  {
   "cell_type": "code",
   "execution_count": 66,
   "metadata": {},
   "outputs": [
    {
     "name": "stdout",
     "output_type": "stream",
     "text": [
      "Alex cannot take these courses\n",
      "Daniel should take the following classes: ['Biology', 'Math', 'Engineering']\n",
      "kim should take the following classes: ['pe', 'off_role']\n",
      "elliot should take the following classes: ['pe', 'off_role']\n"
     ]
    }
   ],
   "source": [
    "# Make piece of code that gives three different recommendations for possible classes to take at a school based on two different conditions. These conditions could be if the student likes STEM or not.\n",
    "\n",
    "stem = [\"Biology\", \"Math\", \"Engineering\"]\n",
    "not_stem = [\"pe\", \"off_role\"]\n",
    "\n",
    "expelled = [\"Alex\"]\n",
    "love = [\"Alex\", \"Daniel\"]\n",
    "dislike = [\"kim\", \"elliot\"]\n",
    "\n",
    "list = [love, dislike, expelled]\n",
    "\n",
    "if item in expelled:\n",
    "    print(item + \" cannot take these courses\")\n",
    "\n",
    "\n",
    "for item in list:\n",
    "        for item in item:\n",
    "            if item in expelled:\n",
    "                (item + \" cannot take these courses\")\n",
    "            elif item in love:\n",
    "                print(item + \" should take the following classes: \" + str(stem))\n",
    "            elif item in dislike:\n",
    "                print(item + \" should take the following classes: \" + str(not_stem))"
   ]
  }
 ],
 "metadata": {
  "kernelspec": {
   "display_name": "Python 3.8.10 64-bit",
   "language": "python",
   "name": "python3"
  },
  "language_info": {
   "codemirror_mode": {
    "name": "ipython",
    "version": 3
   },
   "file_extension": ".py",
   "mimetype": "text/x-python",
   "name": "python",
   "nbconvert_exporter": "python",
   "pygments_lexer": "ipython3",
   "version": "3.8.10"
  },
  "orig_nbformat": 4,
  "vscode": {
   "interpreter": {
    "hash": "916dbcbb3f70747c44a77c7bcd40155683ae19c65e1c03b4aa3499c5328201f1"
   }
  }
 },
 "nbformat": 4,
 "nbformat_minor": 2
}
