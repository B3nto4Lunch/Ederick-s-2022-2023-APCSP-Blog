{
 "cells": [
  {
   "cell_type": "code",
   "execution_count": null,
   "metadata": {},
   "outputs": [],
   "source": []
  },
  {
   "attachments": {},
   "cell_type": "markdown",
   "metadata": {},
   "source": [
    "# 5.5 Legal and Ethical Concerns\n",
    "\n",
    "---\n",
    "- categories: [eTracker, CB]\n",
    "- description: \"LEgal and Ethical Concerns of Computer Science (Principles)\"\n",
    "---"
   ]
  },
  {
   "attachments": {},
   "cell_type": "markdown",
   "metadata": {},
   "source": [
    "### GPL General Public Licensing \n",
    "\n",
    "- Companies like Qualcomm makes its money on patents. If you use GPL software you could be voiding your rights to charge for software and patents.\n",
    "- Open  source means it is meant to be shared\n",
    "- Qualcomm wants all derivative work to require a royalty payment payment, also anyone who uses the idea/patent pays royalty.\n",
    "- Examples: Blackduck manages security, quality, etc.\n",
    "- analyzing impact of such licenses to its ability to charge royalties for the use of their Patents.\n",
    "\n",
    "### What's the Problem with Open Source?\n",
    "\n",
    "- often they are given an assignment and instead of developing their own algorithm they opt to copy something off the internet. \n",
    "- In summary, it is important to know the type of software license you are copying, it could impact billions of dollars in business.\n",
    "\n",
    "\n",
    "###  Licebse Types\n",
    "\n",
    "Generally, there are three things that people need to follow if they want a license or patent on github or anywhere else\n",
    "\n",
    "- Do I want to waive default copyright in reuse?\n",
    "- Do I want to allow derivative works or not?\n",
    "- Do I want to require all derivative code to be shared?\n",
    "\n",
    "\n",
    "- Open source MIT License: This license in friendly to someone like Qualcomm! This allows using code freely and making and distributing closed source versions.\n",
    "- Open Source GPL: The GNU GPLv3 also lets people do almost anything they want with your project, except distributing closed source versions. Open source means the GitHub project must be public.\n",
    "- \n",
    "\n",
    "### Legality and Ethics\n",
    "\n",
    "- Must comply with terms and services of each individual license that is distributed to the individual or company.\n",
    "- As consumers, we have become aware that Music and Movie companies own content. These companies build DRM (Digital Rights Management) software to protect, play, and/or distribute content.\n",
    "- Mostly, if we use things in class, there is “no problem” with Open Source as our usage is considered educational use. Creative Commons software has enabled innovation because it's free!\n",
    "- Examples of GPL: A very premium (or version)  of Linux called Red Hat was required by GPL's licensing that they were distributing the\n",
    "- **However, businesses will not last without income. And today, businesses won’t last without engineers pulling Open Source software.**"
   ]
  }
 ],
 "metadata": {
  "language_info": {
   "name": "python"
  },
  "orig_nbformat": 4
 },
 "nbformat": 4,
 "nbformat_minor": 2
}
