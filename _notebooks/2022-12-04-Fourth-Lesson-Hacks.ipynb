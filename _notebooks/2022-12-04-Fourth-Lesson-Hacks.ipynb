{
 "cells": [
  {
   "cell_type": "markdown",
   "metadata": {},
   "source": [
    "# 3.8 - 3.10 Hacks "
   ]
  },
  {
   "cell_type": "markdown",
   "metadata": {},
   "source": [
    "### Hacks 3.8.1\n",
    "\n",
    "Iteration: An Iteration is a loop in an algorithm that repeats until a certain condition is met (or if there is a given amount of times that needs to be repeated)."
   ]
  },
  {
   "cell_type": "code",
   "execution_count": 5,
   "metadata": {},
   "outputs": [
    {
     "name": "stdout",
     "output_type": "stream",
     "text": [
      "0\n",
      "1\n",
      "2\n",
      "3\n",
      "4\n",
      "5\n",
      "6\n",
      "7\n"
     ]
    }
   ],
   "source": [
    "for i in range(10):\n",
    "    print(i)\n",
    "    if i == 7:\n",
    "        break\n"
   ]
  },
  {
   "cell_type": "markdown",
   "metadata": {},
   "source": [
    "### Hacks 3.8.2\n",
    "\n",
    "An iteration statement is something that makes a statement to be ran zero or more times that can be affected by any condition that affects the loop."
   ]
  },
  {
   "cell_type": "code",
   "execution_count": 53,
   "metadata": {},
   "outputs": [
    {
     "name": "stdout",
     "output_type": "stream",
     "text": [
      "Regular list:  [1, 10, 20, 69, 12, 56, 190, 2001, 19983, 2, 3, 6, 72]\n",
      "Sorted list: [19983, 2001, 190, 72, 69, 56, 20, 12, 10, 6, 3, 2, 1]\n"
     ]
    }
   ],
   "source": [
    "\n",
    "number = [1, 10 , 20, 69, 12, 56, 190, 2001, 19983, 2, 3, 6, 72]\n",
    "print('Regular list: ', number)\n",
    "for i in number:\n",
    "    number.sort(reverse = True)\n",
    "print('Sorted list:', number)"
   ]
  },
  {
   "cell_type": "code",
   "execution_count": 63,
   "metadata": {},
   "outputs": [
    {
     "name": "stdout",
     "output_type": "stream",
     "text": [
      "3\n",
      "16\n",
      "29\n",
      "42\n",
      "55\n",
      "68\n",
      "81\n"
     ]
    }
   ],
   "source": [
    "# numbers = [3, 16, 29, 42, 55, 68, 81]\n",
    "# for item in numbers:\n",
    "#     print(item)\n",
    "\n",
    "for item in range(3,82,13):\n",
    "    print(item)"
   ]
  },
  {
   "cell_type": "markdown",
   "metadata": {},
   "source": [
    "### 3.8.3\n"
   ]
  },
  {
   "cell_type": "markdown",
   "metadata": {},
   "source": [
    "\n",
    "No Hacks given on presentation"
   ]
  },
  {
   "cell_type": "markdown",
   "metadata": {},
   "source": [
    "### 3.10 Hacks"
   ]
  },
  {
   "cell_type": "code",
   "execution_count": 38,
   "metadata": {},
   "outputs": [
    {
     "name": "stdout",
     "output_type": "stream",
     "text": [
      "10\n"
     ]
    }
   ],
   "source": [
    "nums = [10, 15, 20, 25, 30, 35]\n",
    "min = 20\n",
    "for i in nums:\n",
    "    if i < min:\n",
    "        min = i\n",
    "        print(min)"
   ]
  },
  {
   "cell_type": "code",
   "execution_count": 41,
   "metadata": {},
   "outputs": [
    {
     "name": "stdout",
     "output_type": "stream",
     "text": [
      "What allows a value to be added at the end of a list?\n",
      "append()\n",
      "Correct!\n",
      "What returns the number of elements currently in a specific list?\n",
      "length()\n",
      "Correct!\n",
      "What allows a value to be inserted into a list at index i?\n",
      "index()\n",
      "Correct!\n",
      "What allows an element at index i to be deleted from a list?\n",
      "remove()\n",
      "Correct!\n",
      "100.00%\n",
      "Your total score is:  4 out of 4. Not too bad, keep on studying! \n"
     ]
    }
   ],
   "source": [
    "import getpass, sys\n",
    "import random\n",
    "\n",
    "def ask_question (question, answer):\n",
    "\n",
    "    print(question)\n",
    "    ans = input(question)\n",
    "    print(ans)\n",
    "   \n",
    "    if ans == answer:\n",
    "        print(\"Correct!\")\n",
    "        return 1\n",
    "\n",
    "    else:\n",
    "        print(\"Wrong\")\n",
    "        return 0\n",
    "\n",
    "question_list = [\"What allows a value to be inserted into a list at index i?\" , \"What allows an element at index i to be deleted from a list?\" , \"What returns the number of elements currently in a specific list?\" , \"What allows a value to be added at the end of a list?\"]\n",
    "answer_list = [\"index()\", \"remove()\", \"length()\" , \"append()\"]\n",
    "\n",
    "# Set points to 0 at the start of the quiz\n",
    "points = 0\n",
    "\n",
    "# If the length of the quiz is greater than 0, then random questions will be chosen from the \"question_list\" set\n",
    "while len(question_list) > 0:\n",
    "    index = random.randint(0, len(question_list) - 1)\n",
    "    \n",
    "# The points system where a point is rewarded for each correct answer    \n",
    "    points = points + ask_question(question_list[index], answer_list[index])\n",
    "    \n",
    "# If a question or answer has already been used, then it shall be deleted    \n",
    "    del question_list[index]\n",
    "    del answer_list[index]\n",
    "\n",
    "# Calculating score using the points system and dividing it by the total number of questions (6)\n",
    "score = (points / 4)\n",
    "\n",
    "# Calculating the percentage of correct answers by multiplying the score by 100\n",
    "percent = (score * 100)\n",
    "\n",
    "# Printing the percentage, and formatting the percentage in a way where two decimals can be shown (through \"{:.2f}\")\n",
    "print(\"{:.2f}\".format(percent) + \"%\")\n",
    "\n",
    "# Adding final remarks based upon the users given scores\n",
    "if points >= 5:\n",
    "         print(\"Your total score is: \", points, \"out of 4. Amazing job!\")\n",
    "\n",
    "elif points == 4:\n",
    "         print(\"Your total score is: \", points, \"out of 4. Not too bad, keep on studying! \" )\n",
    "\n",
    "else:\n",
    "         print(\"Your total score is: \", points, \"out of 4. Its alright, better luck next time!\")\n"
   ]
  },
  {
   "cell_type": "markdown",
   "metadata": {},
   "source": [
    "# Extra Credit"
   ]
  },
  {
   "cell_type": "code",
   "execution_count": 5,
   "metadata": {},
   "outputs": [
    {
     "name": "stdout",
     "output_type": "stream",
     "text": [
      "Original grade list:  [100, 98, 56, 72, 60, 88, 92, 92, 100, 81]\n",
      "Updated List of Grades  [12, 34, 56, 56, 60, 67, 72, 76, 78, 81, 88, 89, 90, 90, 92, 92, 98, 98, 100, 100, 100]\n",
      "ineligible for credit\n",
      "ineligible for credit\n",
      "ineligible for credit\n",
      "ineligible for credit\n",
      "ineligible for credit\n",
      "ineligible for credit\n",
      "ineligible for credit\n",
      "eligible for credit\n",
      "eligible for credit\n",
      "eligible for credit\n",
      "eligible for credit\n",
      "eligible for credit\n",
      "eligible for credit\n",
      "eligible for credit\n",
      "eligible for credit\n",
      "eligible for credit\n",
      "eligible for credit\n",
      "eligible for credit\n",
      "eligible for credit\n",
      "eligible for credit\n",
      "eligible for credit\n"
     ]
    }
   ],
   "source": [
    "grades = [100, 98, 56, 72, 60, 88, 92, 92, 100, 81]\n",
    "students = 21\n",
    "passing = 75\n",
    "print(\"Original grade list: \", grades)\n",
    "while len(grades) < students:\n",
    "    item = int(input(\"Enter another student's grade\"))\n",
    "    grades.append(item)\n",
    "grades.sort()\n",
    "print(\"Updated List of Grades \", grades)\n",
    "for item in grades:\n",
    "    if item >= 75:\n",
    "        print(\"eligible for credit\")\n",
    "    elif item < 75:\n",
    "        print(\"ineligible for credit\")\n",
    "\n",
    "# I essentially have some grades that I have already corrected, but I have 21 students. I use the while function to make sure that \n",
    "# I get the rest of the remaining tests needed to be input, where it will then stop asking me for more grades to put in once i get everyone.\n",
    "# After that, I ask the code to sort the list\n",
    "# Additionally, after getting the grades for each student, I need it to sort the grades from least to greatest\n",
    "# Thats where I use the if and elif for whether they have enough for credit or not.\n",
    "    "
   ]
  },
  {
   "cell_type": "markdown",
   "metadata": {},
   "source": [
    " I essentially have some grades that I have already corrected, but I have 21 students. I use the while function to make sure that \n",
    " I get the rest of the remaining tests needed to be input, where it will then stop asking me for more grades to put in once i get everyone.\n",
    " After that, I ask the code to sort the list\n",
    " Additionally, after getting the grades for each student, I need it to sort the grades from least to greatest\n",
    "Thats where I use the if and elif for whether they have enough for credit or not."
   ]
  }
 ],
 "metadata": {
  "kernelspec": {
   "display_name": "Python 3.8.10 64-bit",
   "language": "python",
   "name": "python3"
  },
  "language_info": {
   "codemirror_mode": {
    "name": "ipython",
    "version": 3
   },
   "file_extension": ".py",
   "mimetype": "text/x-python",
   "name": "python",
   "nbconvert_exporter": "python",
   "pygments_lexer": "ipython3",
   "version": "3.8.10 (default, Jun 22 2022, 20:18:18) \n[GCC 9.4.0]"
  },
  "orig_nbformat": 4,
  "vscode": {
   "interpreter": {
    "hash": "916dbcbb3f70747c44a77c7bcd40155683ae19c65e1c03b4aa3499c5328201f1"
   }
  }
 },
 "nbformat": 4,
 "nbformat_minor": 2
}
