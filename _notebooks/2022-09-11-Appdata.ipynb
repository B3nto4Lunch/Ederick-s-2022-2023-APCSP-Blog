{
 "cells": [
  {
   "cell_type": "markdown",
   "metadata": {},
   "source": [
    "# Appdata"
   ]
  },
  {
   "cell_type": "markdown",
   "metadata": {},
   "source": [
    "[Quiz](https://studio.code.org/projects/applab/BYAxwarxtcyBcuCEz2Z1t6Yv2dcq22RKHs--IVU17A0/edit)\n",
    "\n"
   ]
  },
  {
   "cell_type": "markdown",
   "metadata": {},
   "source": [
    "Making this quiz was fairly simple, all I had to keep in mind were what I wanted to implement on the test and how I would record the score if someone picked the wrong answers.\n",
    "On top of my pondering, I also wanted to have a sound based test that would have audio play if you got the question wrong rather than a screen that directed you to whether the question was right or wrong. I used some audio files on my computer to create a yes and no audio.\n",
    "I decided that I would have a subtractive based code to determine one's score, with an initial score of 3, every question that the user gets wrong would subtact a point, therefore making the quiz viable for if you wanted to see the score or not."
   ]
  },
  {
   "cell_type": "markdown",
   "metadata": {},
   "source": []
  }
 ],
 "metadata": {
  "kernelspec": {
   "display_name": "Python 3.8.10 64-bit",
   "language": "python",
   "name": "python3"
  },
  "language_info": {
   "name": "python",
   "version": "3.8.10"
  },
  "orig_nbformat": 4,
  "vscode": {
   "interpreter": {
    "hash": "916dbcbb3f70747c44a77c7bcd40155683ae19c65e1c03b4aa3499c5328201f1"
   }
  }
 },
 "nbformat": 4,
 "nbformat_minor": 2
}
