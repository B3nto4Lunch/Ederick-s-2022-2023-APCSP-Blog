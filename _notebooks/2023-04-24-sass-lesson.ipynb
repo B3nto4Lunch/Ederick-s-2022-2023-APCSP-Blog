{
 "cells": [
  {
   "attachments": {},
   "cell_type": "markdown",
   "metadata": {},
   "source": [
    "# SASS"
   ]
  },
  {
   "attachments": {},
   "cell_type": "markdown",
   "metadata": {},
   "source": [
    "# Why SASS?\n",
    "\n",
    "SASS is an improvement on CSS in that there are methods of abstraction. It is a stylesheet language that is compiled into CSS, which means that  Sass will translate the Sass code you wrote into CSS, which is what your web browser can read.\n",
    "\n",
    "# SASS vs SCSS\n",
    "As you learn about Sass, you might notice something called Scss. They are basically the same thing except that Scss uses curly braces and semicolons to distinguish between lines. Sass uses indentation and newlines instead.\n",
    "\n",
    "We will be teaching the Scss syntax because it is more commonly used."
   ]
  },
  {
   "attachments": {},
   "cell_type": "markdown",
   "metadata": {},
   "source": [
    "# Getting started\n",
    "\n",
    "A easy way to write SASS and have it preprocessed into CSS is by using a Jekyll powered website, such as GitHub pages or Fastpages.\n",
    "\n",
    "The first step is to clone a GitHub pages repo, such as this [one](https://github.com/lwu1822/sassy_squad).\n",
    "\n",
    "Within the repository, head over to `assets/css/`, and open `style.scss`.\n",
    "\n",
    "This is where you can create your SASS code.\n",
    "\n",
    "To see your CSS-translated SASS code, head over to `_site/assets/css/style.css`\n",
    "\n",
    "Note: You will need to run bundle exec jekyll serve before the _site directory appears.\n",
    "\n",
    "The first few hundred lines are used to style Github's theme. Make sure to scroll to the very bottom to see the SASS code that you wrote, which is in the form of CSS."
   ]
  },
  {
   "attachments": {},
   "cell_type": "markdown",
   "metadata": {},
   "source": [
    "# Nesting\n",
    "\n",
    "- Nesting allows for more concise and organized Sass code.\n",
    "- Avoid excessive nesting to prevent overly specific and hard-to-maintain CSS output.\n",
    "- Use the ampersand (&) to reference the parent selector inside a nested selector for dynamic and flexible styles.\n",
    "- Utilize Sass's parent selector (@at-root) to break out of nested rules and output styles at the root level.\n",
    "- Consider using Sass linters or linting plugins to check for proper nesting syntax and best practices."
   ]
  },
  {
   "attachments": {},
   "cell_type": "markdown",
   "metadata": {},
   "source": [
    "# Mini-hack\n",
    "\n",
    "Write out the SASS equivalent for the following CSS code:\n",
    "\n",
    "```\n",
    ".a .b {\n",
    "    color: green;\n",
    "}\n",
    "\n",
    ".a .c {\n",
    "    color: blue;\n",
    "}\n",
    "```\n",
    "\n",
    "# SASS Equivalent\n",
    "```\n",
    ".a {\n",
    "  .b {\n",
    "    color: green;\n",
    "  }\n",
    "\n",
    "  .c {\n",
    "    color: blue;\n",
    "  }\n",
    "}\n",
    "```"
   ]
  },
  {
   "attachments": {},
   "cell_type": "markdown",
   "metadata": {},
   "source": [
    "# Extend/Inheritance\n",
    "\n",
    "What are some similarities that the buttons share? What are the differences?\n",
    "\n",
    "- n CSS, you would need to copy and paste the code each time, while in SASS, you can use @extend to inherit the code.\n",
    "- The buttons have the same width and height, font color, and spacing between each button. They have a different background color.\n",
    "- With SASS, we can create a placeholder class that stores the code we want to reuse. A placeholder class looks like this:\n",
    "    - %class-name{\n",
    "\n",
    "    }\n",
    "- For example, to specify the width, height, font color, and spacing for each button, we can create a placeholder class called %buttonLayout and write our styling in there.\n",
    "    - %buttonLayout {\n",
    "\n",
    "\twidth: 15em;\n",
    "\n",
    "\theight: 15em;\n",
    "\n",
    "\tcolor: #ffffff;\n",
    "\n",
    "\tmargin-right: 10%;\n",
    "\n",
    "}\n",
    "- A selector needs to be created for each button. Code from the placeholder class can be called with @extend %class-name\n",
    "\t- .gettingStartedButton, .nestingButton, .extendButton {\n",
    "\n",
    "\t@extend %buttonLayout;\n",
    "\n",
    "}\n",
    "\n",
    "\n"
   ]
  },
  {
   "attachments": {},
   "cell_type": "markdown",
   "metadata": {},
   "source": [
    "# Mixin\n",
    "\n",
    "- Buttons were given a background using background: radial-gradient().\n",
    "- Another approach for coding the background is through the use of a mixin.\n",
    "- A mixin is similar to extend, as it creates a reusable code template.\n",
    "- Mixins can also accept parameters for dynamic styling.\n",
    "- In the example of the buttons, all three buttons have a gradient background, but with different background colors."
   ]
  },
  {
   "attachments": {},
   "cell_type": "markdown",
   "metadata": {},
   "source": [
    "# Mini-hack\n",
    "\n",
    "Write out a mixin in SASS that takes in a color and a font size as the parameter. Within the mixin, set the background color and font color to the color parameter, and set the font size to the font size parameter. Then create a selector that calls the mixin, and pass in a color and font size of your choice as the arguments."
   ]
  },
  {
   "attachments": {},
   "cell_type": "markdown",
   "metadata": {},
   "source": [
    "# Function\n",
    "\n",
    "- A function can be created that takes in an rgb value and returns the inverted rgb color.\n",
    "- Functions are called by specifying the function name with parenthesis. Inside the parenthesis, you can specify the arguments."
   ]
  },
  {
   "attachments": {},
   "cell_type": "markdown",
   "metadata": {},
   "source": [
    "# Import\n",
    "\n",
    "- There is a way to split your code into multiple files and import them into one file.\n",
    "\n",
    "For instance, to put the styling for function.html in another SASS file, first create a directory called _sass.\n",
    "\n",
    "Within the directory, create another SASS file. In this case, the file is called functionStyle.scss"
   ]
  },
  {
   "attachments": {},
   "cell_type": "markdown",
   "metadata": {},
   "source": [
    "# SASS Hacks\n",
    "\n",
    "1. Take notes and complete the mini-hacks. (0.9)\n",
    "\n",
    "2. Complete the [quiz questions](https://lwu1822.github.io/sassy_squad/quizQuestions) and provide your answers in this notebook. (0.9)\n",
    "\n",
    "3. Use SASS to create something that uses either extend or mixin. (0.9)\n",
    "\n",
    "4. Extra credit: Research other SASS features and blog about what you learned or add to your SASS project with any extra features not covered in this lesson. More points will be given if both are done."
   ]
  },
  {
   "attachments": {},
   "cell_type": "markdown",
   "metadata": {},
   "source": [
    "What is SASS?\n",
    "b. A scripting language that has many styling operations\n",
    "\n",
    "\n",
    "What is the difference between SASS and SCSS?\n",
    "a. They are very similar in their function, but their syntax is slightly different\n",
    "\n",
    "\n",
    "What is an example of an advantage of using SASS over just CSS?\n",
    "a. SASS has more functions than CSS\n",
    "\n",
    "What does SASS stand for?\n",
    "a. Systematically Arranged Sample Sheets\n",
    "\n",
    "Which of the following is NOT an example of an available SASS directive?\n",
    "d. compute\n",
    "\n",
    "The __ directive is used to share rules and relationships between selectors.\n",
    "b. extend\n",
    "\n",
    "\n",
    "What is “@___” called?\n",
    "b. Directive\n",
    "\n",
    "\n"
   ]
  },
  {
   "attachments": {},
   "cell_type": "markdown",
   "metadata": {},
   "source": [
    "<button type=\"button\">Click Me!</button>\n",
    "\n",
    "<style>\n",
    ".button {\n",
    "  display: inline-block;\n",
    "  padding: 10px 20px;\n",
    "  background-color: blue;\n",
    "  color: white;\n",
    "  text-align: center;\n",
    "  border-radius: 5px;\n",
    "  cursor: pointer;\n",
    "}\n",
    "\n",
    "// Define a variation of the button for a primary action\n",
    ".button-primary {\n",
    "  @extend .button;\n",
    "  background-color: green;\n",
    "}\n",
    "\n",
    "// Define a variation of the button for a secondary action\n",
    ".button-secondary {\n",
    "  @extend .button;\n",
    "  background-color: gray;\n",
    "  color: black;\n",
    "}\n",
    "</style>\n"
   ]
  }
 ],
 "metadata": {
  "kernelspec": {
   "display_name": "base",
   "language": "python",
   "name": "python3"
  },
  "language_info": {
   "codemirror_mode": {
    "name": "ipython",
    "version": 3
   },
   "file_extension": ".py",
   "mimetype": "text/x-python",
   "name": "python",
   "nbconvert_exporter": "python",
   "pygments_lexer": "ipython3",
   "version": "3.9.13"
  },
  "orig_nbformat": 4,
  "vscode": {
   "interpreter": {
    "hash": "40d3a090f54c6569ab1632332b64b2c03c39dcf918b08424e98f38b5ae0af88f"
   }
  }
 },
 "nbformat": 4,
 "nbformat_minor": 2
}
