{
 "cells": [
  {
   "attachments": {},
   "cell_type": "markdown",
   "metadata": {},
   "source": [
    "# Feature for eTracker Goal Settings\n",
    "\n",
    "---\n",
    "- categories: [eTracker]\n",
    "- description: \"CPT Feature for eTracker\""
   ]
  },
  {
   "attachments": {},
   "cell_type": "markdown",
   "metadata": {},
   "source": [
    "### Program Purpose and Function\n",
    "\n",
    "- **1a** . Purpose: To set small, attainable goals for users to help them step by step to help them achieve their ultimate goal"
   ]
  },
  {
   "attachments": {},
   "cell_type": "markdown",
   "metadata": {},
   "source": [
    "### Data Abstraction\n",
    "\n",
    "- 2a. \n",
    "    - Provides a database that will include all of the user's inputs goals and has them rate it on a scale from 1 to 10 in terms of difficulty\n",
    "    - This list will then be ordered to help the user by making suggestions on what specific task they should work on to progress closer to their \"big\" idea.\n",
    "\n",
    "- 2b.\n",
    "    - Name of the Variable can be \"Goals\"\n",
    "    - The data in the list is represented in the program by choosing specific goals for the user based on difficulty, which will then be used to recommend specific exercises for the user.\n",
    "  "
   ]
  },
  {
   "attachments": {},
   "cell_type": "markdown",
   "metadata": {},
   "source": [
    "### Managing Complexity\n",
    "\n",
    "- 3a.\n",
    "    - From this list, we can use a sort() function that is given to each exercise (from difficulty) to create a more organized program. Additionally, many other lists can be derived from the original to show a more organized compilation of different goals that the user wants to achieve.\n",
    "- 3b. \n",
    "    - The selected lists should ideally have a lesser amount and increased specificity for each goal that the user has input. For example, using a list named \"easy_goals\" for milestones that are within a few days of completion can be used later in the program to sort out easy from difficult tasks\n"
   ]
  },
  {
   "attachments": {},
   "cell_type": "markdown",
   "metadata": {},
   "source": [
    "### Procedural Abstraction\n",
    "\n",
    "- 4a.\n",
    "    - The feature I will be using will be a function that goes along the lines of \"sort,\" which will aid the user in selecting one specific goal if the user is struggling to determine whether they want to progress on A or B.\n",
    "\n",
    "    **An Example of the code is given below:**"
   ]
  },
  {
   "cell_type": "code",
   "execution_count": 1,
   "metadata": {},
   "outputs": [
    {
     "name": "stdout",
     "output_type": "stream",
     "text": [
      "Choose Goal Y\n"
     ]
    }
   ],
   "source": [
    "def sort_goal(x,y):\n",
    "    if x > y:\n",
    "        answer = print(\"Choose goal Y\")\n",
    "    elif y > x:\n",
    "        answer = print(\"Choose Goal Y\")\n",
    "    return answer\n",
    "    \n",
    "x = 1\n",
    "y = 2\n",
    "sort_goal(x,y)\n",
    "    "
   ]
  },
  {
   "attachments": {},
   "cell_type": "markdown",
   "metadata": {},
   "source": [
    "- 4b.\n",
    "    - The purpose of the program is to allow users to set their own pace rather than conform to others that may be setting unrealistic goal standards for their scenarios.\n",
    "    "
   ]
  }
 ],
 "metadata": {
  "kernelspec": {
   "display_name": "base",
   "language": "python",
   "name": "python3"
  },
  "language_info": {
   "codemirror_mode": {
    "name": "ipython",
    "version": 3
   },
   "file_extension": ".py",
   "mimetype": "text/x-python",
   "name": "python",
   "nbconvert_exporter": "python",
   "pygments_lexer": "ipython3",
   "version": "3.9.12"
  },
  "orig_nbformat": 4,
  "vscode": {
   "interpreter": {
    "hash": "4b3cb3a8c7f53e9989d096b25f91896e19451a99e03972a5554db13e6b36e6c2"
   }
  }
 },
 "nbformat": 4,
 "nbformat_minor": 2
}
