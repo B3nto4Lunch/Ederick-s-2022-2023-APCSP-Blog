{
 "cells": [
  {
   "cell_type": "code",
   "execution_count": null,
   "metadata": {},
   "outputs": [],
   "source": []
  },
  {
   "attachments": {},
   "cell_type": "markdown",
   "metadata": {},
   "source": [
    "# Performance Scoring Task 2\n",
    "\n",
    "---\n",
    "- tags: [eTracker]\n",
    "- description: \"Grading sample CPTs\"\n",
    "---\n"
   ]
  },
  {
   "attachments": {},
   "cell_type": "markdown",
   "metadata": {},
   "source": [
    "### Submission 1\n",
    "\n",
    "- [] Program Purpose and Function\n",
    "- [] Data Abstraction\n",
    "- [] Managing Complexity\n",
    "- [] Procedural Abstraction\n",
    "- [] Algorithm Implementation\n",
    "- [x] Testing\n",
    "\n",
    "Submission one had a lot of flaws in its project. For one, there were not enough signs that demonstrated the Program Purpose nor Function and only displayed a demo of the program that displayed icons of animals and questions, with its purpose being to \"see all the animals and to identify them when asked later,\" but is actually not part of its intended functionality.\n",
    "Additionally, the two lists animalList and animalImages are also mixed with what the project says, which can add extra confusion to what they are trying to commit. There was no complexity used and was either not stated or was not directly shown. These minimal descriptions caused much complexity (but not in the good way) and ended up with only one point. Prime example of what to avoid and implement on when presenting the project. At the least the testing was done correctly."
   ]
  },
  {
   "attachments": {},
   "cell_type": "markdown",
   "metadata": {},
   "source": [
    "### Submission 2\n",
    "\n",
    "- [x] Program Purpose and Function\n",
    "- [x] Data Abstraction\n",
    "- [x] Managing Complexity\n",
    "- [x] Procedural Abstraction\n",
    "- [x] Algorithm Implementation\n",
    "- [x] Testing\n",
    "\n",
    "This submission was perfect. It had all the guidelines finished and was very organized and mannered. Additionally, there was very good insight on their intentions with the code and how they were going to utilize it in the future. There were varying items that prevented the code from becoming too entangled, such as lists of words to manage the complexity when generating said poetry, where it then explains how the code would be written if a list was not used, demonstrating their understanding of their project AND code and being a great example of what I want to use in my code. Perfection."
   ]
  },
  {
   "attachments": {},
   "cell_type": "markdown",
   "metadata": {},
   "source": [
    "### Submission 3\n",
    "\n",
    "- [] Program Purpose and Function\n",
    "- [x] Data Abstraction\n",
    "- [x] Managing Complexity\n",
    "- [x] Procedural Abstraction\n",
    "- [x] Algorithm Implementation \n",
    "- [x] Testing\n",
    "\n",
    "The project was well made, but had some glaring issues. For one, the purpose and function could have been written better, but generally was not a big issue. The user did show the program running and the program using its intended menus to select the characters that the user would want to use, and shows an input of the program displaying said values. They did a good job describing its function, but what is its PURPOSE? That is something that I will have to look out for, even in my code; I have to make my intentions clear on what I specifically want and how I want to achieve it.\n",
    "Everything else was done well, and received a point for the last 5 Categories, from the six rankings and images for the characters to the developed procedure and explanation, was done great. I also liked the way they did their testing where they used a procedure with different arguments that lead to different outcomes depending on what happens in the procedure.\n"
   ]
  },
  {
   "attachments": {},
   "cell_type": "markdown",
   "metadata": {},
   "source": [
    "### Submission 4\n",
    "\n",
    "- [x] Program Purpose and Function\n",
    "- [] Data Abstraction\n",
    "- [] Managing Complexity\n",
    "- [] Procedural Abstraction\n",
    "- [x] Algorithm Implementation\n",
    "- [] Testing\n",
    "\n",
    "This project got a point for Program Purpose and Function, where it was developed of describing the purpose and function of what they intended to do with their code for a text box that displayed results of a screen showing corresponding letters. However, this project did not provide the last point for Data Abstraction, where the data was simply the user's inputs. Additionally, the entire response did not include any solution to managing complexity and the use of a list does not satisfy what College Board wants. Procedural Abstraction also was somewhat off, where the parameter did not really comb in to satisfy what College Board wants. (Correction: CB said they got this point). The project did receive Algorithm Implementation, where they used an algorithm that said that if you guessed the word/ran out of guesses, a specific action of switching screens would occur. For testing, if the arguments were specific values to call the procedure, they would've gotten the point."
   ]
  }
 ],
 "metadata": {
  "kernelspec": {
   "display_name": "Python 3",
   "language": "python",
   "name": "python3"
  },
  "language_info": {
   "name": "python",
   "version": "3.8.10 (default, Jun 22 2022, 20:18:18) \n[GCC 9.4.0]"
  },
  "orig_nbformat": 4,
  "vscode": {
   "interpreter": {
    "hash": "916dbcbb3f70747c44a77c7bcd40155683ae19c65e1c03b4aa3499c5328201f1"
   }
  }
 },
 "nbformat": 4,
 "nbformat_minor": 2
}
