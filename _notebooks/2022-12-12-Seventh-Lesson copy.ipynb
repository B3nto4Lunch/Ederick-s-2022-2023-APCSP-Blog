{
 "cells": [
  {
   "attachments": {},
   "cell_type": "markdown",
   "metadata": {},
   "source": [
    "# 3.14 and 3.15 Hacks\n",
    "\n",
    "- categories: [Lesson]\n",
    "- description: All hacks done for students teaching lesson 3.14 and 3.15"
   ]
  },
  {
   "attachments": {},
   "cell_type": "markdown",
   "metadata": {},
   "source": [
    "### 3.14.1 Hacks\n",
    "\n",
    "- Write a program that uses a library/libraries in any sort of manner.\n",
    "- Explain your work/code\n"
   ]
  },
  {
   "cell_type": "code",
   "execution_count": 3,
   "metadata": {},
   "outputs": [
    {
     "name": "stdout",
     "output_type": "stream",
     "text": [
      "1230\n"
     ]
    },
    {
     "data": {
      "text/plain": [
       "35.07135583350036"
      ]
     },
     "execution_count": 3,
     "metadata": {},
     "output_type": "execute_result"
    }
   ],
   "source": [
    "import math\n",
    "\n",
    "A = int(input())\n",
    "\n",
    "def root(a):\n",
    "    Answer = math.sqrt(a)\n",
    "    return Answer\n",
    "\n",
    "print(A)\n",
    "root(A)\n",
    "\n",
    "\n"
   ]
  },
  {
   "attachments": {},
   "cell_type": "markdown",
   "metadata": {},
   "source": [
    "I imported the math library, which gives me access to a large amount of functions related to math, including the square root function to get the square root of a value. I ask the user to input a number, where it will then go through the function and return the square root of their value."
   ]
  },
  {
   "attachments": {},
   "cell_type": "markdown",
   "metadata": {},
   "source": [
    "### 3.15.1 Hacks\n",
    "\n",
    "- Write a few lines of code that implements the import function\n",
    "    * (Already did this but will repeat just incase)\n",
    "-  Define what an import random function do\n",
    "    - Import Random essentially imports the library for random, where it basically gives the user access to a bunch of shortcuts for randomization because coding your own randomization features is too difficult and inconvenient.\n",
    "\n",
    "- List a few other things that we can import other than random\n",
    "    - There are a variety of other libraries that you can import besides random. For example, if we import math, math will be able to give us access to different mathematic functions so that we do not need the inconvenience of coding something like, say a square root function. Other libraries for python include:\n",
    "- TensorFlow.\n",
    "- NumPy.\n",
    "- SciPy.\n",
    "- Pandas.\n",
    "- Matplotlib.\n",
    "- Keras.\n",
    "- SciKit-Learn.\n",
    "- PyTorch.\n",
    "To install libraries, use \"pip install _____\"\n"
   ]
  },
  {
   "cell_type": "code",
   "execution_count": 1,
   "metadata": {},
   "outputs": [
    {
     "name": "stdout",
     "output_type": "stream",
     "text": [
      "25\n"
     ]
    },
    {
     "data": {
      "text/plain": [
       "5.0"
      ]
     },
     "execution_count": 1,
     "metadata": {},
     "output_type": "execute_result"
    }
   ],
   "source": [
    "import math\n",
    "\n",
    "A = int(input())\n",
    "\n",
    "def root(a):\n",
    "    Answer = math.sqrt(a)\n",
    "    return Answer\n",
    "\n",
    "print(A)\n",
    "root(A)"
   ]
  },
  {
   "attachments": {},
   "cell_type": "markdown",
   "metadata": {},
   "source": [
    "### 3.15.2 Hacks\n",
    "- There is a spinner divided into eight equal parts. 3 parts of the spinner are green, two parts are blue, one part is purple, one part is red, and one part is orange. How can you simulate this situation using a random number generator.\n",
    "\n",
    "- Also answer this question: What numbers can be outputted from RANDOM(12,20) and what numbers are excluded?\n",
    "    - any number between 12 and 20 will be output, including 12 and 20 (tested). Any number besides those will not be included (excluded.)"
   ]
  },
  {
   "cell_type": "markdown",
   "metadata": {},
   "source": []
  },
  {
   "cell_type": "code",
   "execution_count": 7,
   "metadata": {},
   "outputs": [
    {
     "name": "stdout",
     "output_type": "stream",
     "text": [
      "Blue\n"
     ]
    }
   ],
   "source": [
    "import random\n",
    "\n",
    "area = random.randint(1,8)\n",
    "if area == 1:\n",
    "    print(\"Green\")\n",
    "elif area == 2:\n",
    "    print(\"Green\")\n",
    "elif area == 3:\n",
    "    print(\"Green\")\n",
    "elif area == 4:\n",
    "    print(\"Blue\")\n",
    "elif area == 5:\n",
    "    print(\"Blue\")\n",
    "elif area == 6:\n",
    "    print(\"Purple\")\n",
    "elif area == 7:\n",
    "    print(\"Red\")\n",
    "elif area == 8:\n",
    "    print(\"Orange\")"
   ]
  },
  {
   "cell_type": "code",
   "execution_count": 27,
   "metadata": {},
   "outputs": [
    {
     "name": "stdout",
     "output_type": "stream",
     "text": [
      "20\n"
     ]
    }
   ],
   "source": [
    "import random\n",
    "\n",
    "a = random.randint(12,20)\n",
    "print(a)"
   ]
  },
  {
   "attachments": {},
   "cell_type": "markdown",
   "metadata": {},
   "source": [
    "Also answer this question: What numbers can be outputted from RANDOM(12,20) and what numbers are excluded?\n",
    "- any number between 12 and 20 will be output, including 12 and 20 (tested). Any number besides those will not be included (excluded.)"
   ]
  }
 ],
 "metadata": {
  "kernelspec": {
   "display_name": "Python 3",
   "language": "python",
   "name": "python3"
  },
  "language_info": {
   "codemirror_mode": {
    "name": "ipython",
    "version": 3
   },
   "file_extension": ".py",
   "mimetype": "text/x-python",
   "name": "python",
   "nbconvert_exporter": "python",
   "pygments_lexer": "ipython3",
   "version": "3.8.10 (default, Jun 22 2022, 20:18:18) \n[GCC 9.4.0]"
  },
  "orig_nbformat": 4,
  "vscode": {
   "interpreter": {
    "hash": "916dbcbb3f70747c44a77c7bcd40155683ae19c65e1c03b4aa3499c5328201f1"
   }
  }
 },
 "nbformat": 4,
 "nbformat_minor": 2
}
