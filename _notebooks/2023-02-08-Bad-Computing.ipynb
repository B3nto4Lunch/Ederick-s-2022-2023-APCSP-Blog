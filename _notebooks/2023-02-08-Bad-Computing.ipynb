{
 "cells": [
  {
   "cell_type": "code",
   "execution_count": null,
   "metadata": {},
   "outputs": [],
   "source": []
  },
  {
   "attachments": {},
   "cell_type": "markdown",
   "metadata": {},
   "source": [
    "# 5.6 safe Computing\n",
    "\n"
   ]
  },
  {
   "attachments": {},
   "cell_type": "markdown",
   "metadata": {},
   "source": [
    "# PII Personal Indentifiable Information\n",
    "\n",
    "- Adding links makes different PII. \n",
    "- Example: Something like Linkedin makes it easy to see others and your achievements and accomplishments. However if you add klinks people will most likely look at your other social media while \"snooping\" in your profile.\n",
    "\n",
    "### PII Considerations\n",
    "\n",
    "- Things that are common for PII: \n",
    "    - Name \n",
    "    - Email \n",
    "    - Picture \n",
    "    - High School College \n",
    "    - Real Estate \n",
    "    - State/City of Residence\n",
    "- Things that you should be more cautious about when putting it as part of your PII (Gray zone):\n",
    "    - Birth date\n",
    "    - POB\n",
    "    - Address\n",
    "    - Phone #\n",
    "    - Maiden or Surnames\n",
    "- Things that should be entirely confidential and not given to anyone under any circumstances:\n",
    "    - Credentials for Access\n",
    "    - "
   ]
  }
 ],
 "metadata": {
  "language_info": {
   "name": "python"
  },
  "orig_nbformat": 4
 },
 "nbformat": 4,
 "nbformat_minor": 2
}
