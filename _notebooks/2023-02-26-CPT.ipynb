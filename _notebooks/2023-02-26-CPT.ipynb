{
 "cells": [
  {
   "cell_type": "code",
   "execution_count": null,
   "metadata": {},
   "outputs": [],
   "source": []
  },
  {
   "attachments": {},
   "cell_type": "markdown",
   "metadata": {},
   "source": [
    "# Trimester 2 CPT and Presentation\n",
    "\n",
    "---\n",
    "- categories: [eTracker]\n",
    "- description: \"The 1 minute video presentation and the functionality for CB grading\"\n",
    "---"
   ]
  },
  {
   "attachments": {},
   "cell_type": "markdown",
   "metadata": {},
   "source": [
    "[CSP Video Presentation](https://www.youtube.com/watch?v=CAbY350r51I)\n",
    "\n",
    "[Link to Frontend](https://unlqsting.github.io/tracker/goals)\n",
    "\n",
    "[Link to Backend](https://lennsflask.duckdns.org/api/sport/)"
   ]
  },
  {
   "attachments": {},
   "cell_type": "markdown",
   "metadata": {},
   "source": [
    "### Program Purpose and Function\n",
    "4.A: \n",
    "- The overall purpose of the program is to make it easier for the user to track their goals and such. This is performed by having the user put in specific key values to describe said goals, and is subsequently created through the backend and stored in a database, where all of the user's inputs are displayed in the table below.\n",
    "\n",
    "### Data Abstraction\n",
    "\n",
    "3.b \n",
    "- The two code segments below show how the data is stored in the list and the other demonstrates how it is fulfilled in the entirety of the program.\n",
    "\n",
    "-\n",
    "- All of the information in the list represents each specific goal that is created, where its difficulty and date specificity is defined in addition to its name.\n",
    "\n",
    "\n",
    "### Managing Complexity\n",
    "\n",
    "The list organizes each goal by categoring and identifying each variable by its traits, where the difficulty and the date classify each specific goal. The goals are also displayed in a organized table rather than being placed all over the page."
   ]
  }
 ],
 "metadata": {
  "kernelspec": {
   "display_name": "Python 3",
   "language": "python",
   "name": "python3"
  },
  "language_info": {
   "name": "python",
   "version": "3.9.6"
  },
  "orig_nbformat": 4,
  "vscode": {
   "interpreter": {
    "hash": "31f2aee4e71d21fbe5cf8b01ff0e069b9275f58929596ceb00d14d90e3e16cd6"
   }
  }
 },
 "nbformat": 4,
 "nbformat_minor": 2
}
