{
 "cells": [
  {
   "cell_type": "code",
   "execution_count": null,
   "metadata": {},
   "outputs": [],
   "source": []
  },
  {
   "attachments": {},
   "cell_type": "markdown",
   "metadata": {},
   "source": [
    "# Trimester 2 CPT and Presentation\n",
    "\n",
    "---\n",
    "- categories: [eTracker]\n",
    "- description: \"The 1 minute video presentation and the functionality for CB grading\"\n",
    "---"
   ]
  },
  {
   "attachments": {},
   "cell_type": "markdown",
   "metadata": {},
   "source": [
    "[CSP Video Presentation](https://www.youtube.com/watch?v=CAbY350r51I)\n",
    "\n",
    "[Link to Frontend](https://unlqsting.github.io/tracker/goals)\n",
    "\n",
    "[Link to Backend](https://lennsflask.duckdns.org/api/sport/)"
   ]
  }
 ],
 "metadata": {
  "kernelspec": {
   "display_name": "Python 3",
   "language": "python",
   "name": "python3"
  },
  "language_info": {
   "name": "python",
   "version": "3.9.6"
  },
  "orig_nbformat": 4,
  "vscode": {
   "interpreter": {
    "hash": "31f2aee4e71d21fbe5cf8b01ff0e069b9275f58929596ceb00d14d90e3e16cd6"
   }
  }
 },
 "nbformat": 4,
 "nbformat_minor": 2
}
