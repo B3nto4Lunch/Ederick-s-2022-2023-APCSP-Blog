{
 "cells": [
  {
   "cell_type": "code",
   "execution_count": null,
   "metadata": {},
   "outputs": [],
   "source": []
  },
  {
   "attachments": {},
   "cell_type": "markdown",
   "metadata": {},
   "source": [
    "# Computers and Networks"
   ]
  },
  {
   "attachments": {},
   "cell_type": "markdown",
   "metadata": {},
   "source": [
    "### How Does a Computer Work?\n",
    "\n",
    "- Computers need a program to do something\n",
    "- Starts with the CPU (Central processing unit)\n",
    "- CPU is a binary machine focussing on the progran instructions\n",
    "- CPU retrieves and stores the data with RAM (Random Access memory)\n",
    "- CPU, RAM, and Storage DEvices together can wrok with many programs.\n",
    "\n",
    "### List Specifications of my Computer\n",
    "- Processor: Intel Core i7 12700KF CPU @5.00 GHz\n",
    "- Memory (GB): 32 GB 4400 Mhz\n",
    "- Storage (GB): 2,047 GB\n",
    "- OS: Microsoft Windows 10 Home\n",
    "\n",
    "### Internet\n",
    "- EK\n",
    "    - A device is a artifact that can run a program. Examples are computers, tablets, routers, etc.\n",
    "- A CS is a group of devices and programs working together for a purpose\n",
    "- A network is a gorup of connected computing devices cpaable of sending or receiving data\n",
    "- A network is a type of computing system\n",
    "- A path between two devices on a network is a sequence of directly connected computing devices that begins at the sender.\n"
   ]
  }
 ],
 "metadata": {
  "kernelspec": {
   "display_name": "base",
   "language": "python",
   "name": "python3"
  },
  "language_info": {
   "name": "python",
   "version": "3.9.13"
  },
  "orig_nbformat": 4,
  "vscode": {
   "interpreter": {
    "hash": "40d3a090f54c6569ab1632332b64b2c03c39dcf918b08424e98f38b5ae0af88f"
   }
  }
 },
 "nbformat": 4,
 "nbformat_minor": 2
}
