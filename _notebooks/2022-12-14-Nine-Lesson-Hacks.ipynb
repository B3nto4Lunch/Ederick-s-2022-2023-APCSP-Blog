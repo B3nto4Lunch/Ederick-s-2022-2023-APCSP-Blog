{
 "cells": [
  {
   "cell_type": "code",
   "execution_count": null,
   "metadata": {},
   "outputs": [],
   "source": []
  },
  {
   "attachments": {},
   "cell_type": "markdown",
   "metadata": {},
   "source": [
    "# 3.17 and 3.18 Hacks\n",
    "\n",
    "- categories: [Lesson]\n"
   ]
  },
  {
   "cell_type": "code",
   "execution_count": null,
   "metadata": {},
   "outputs": [],
   "source": []
  },
  {
   "attachments": {},
   "cell_type": "markdown",
   "metadata": {},
   "source": [
    "# 3.17\n",
    "\n",
    "Take the two codes above and combine them so one input gives the output that contains both the hailstone numbers and the number of iterations it takes i = 1. The more efficient the code, the higher your grade will be. (Algorithm Efficiency) (.25)"
   ]
  },
  {
   "cell_type": "code",
   "execution_count": 1,
   "metadata": {},
   "outputs": [
    {
     "name": "stdout",
     "output_type": "stream",
     "text": [
      "Please enter a number: \n",
      "Number of iterations: 6\n",
      "[10, 5.0, 16.0, 8.0, 4.0, 2.0, 1.0]\n"
     ]
    }
   ],
   "source": [
    "\n",
    "\n",
    "def collatz(i):\n",
    "    while i != 1:\n",
    "        if i % 2 > 0:\n",
    "             i =((3 * i) + 1)\n",
    "             list_.append(i)\n",
    "        else:\n",
    "            i = (i / 2)\n",
    "            list_.append(i)\n",
    "    return list_\n",
    "\n",
    "\n",
    "print('Please enter a number: ', end='')\n",
    "while True:\n",
    "    try:\n",
    "        i = int(input())\n",
    "        list_ = [i]\n",
    "        break\n",
    "    except ValueError:\n",
    "        print('Invaid selection, try again: ', end='')\n",
    "\n",
    "\n",
    "l = collatz(i)\n",
    "\n",
    "print('')\n",
    "print('Number of iterations:', len(l) - 1)\n",
    "print(l)"
   ]
  },
  {
   "attachments": {},
   "cell_type": "markdown",
   "metadata": {},
   "source": [
    "# 3.17 Algorithm Efficiency\n",
    "\n",
    "## Hacks/assignment\n",
    "\n",
    "- Write 2 algorithms: One is efficent and one is innefficent, then explain why one is efficent while the other isn't. (.25)\n",
    "- Explain why one algorithm is more efficient than another using mathematical and/or formal reasoning. (.25)\n",
    "- use variables, if statements, and loops to program your algorithm and upload to jupyter notebooks/ fastpages. (.25)"
   ]
  },
  {
   "cell_type": "code",
   "execution_count": 4,
   "metadata": {},
   "outputs": [
    {
     "name": "stdout",
     "output_type": "stream",
     "text": [
      "[1, 2, 3, 4, 5]\n"
     ]
    }
   ],
   "source": [
    "# To demonstrate how to create a more simple and efficient algorithm, I will be using the demonstrated example.\n",
    "def inefficientWay(numbers):\n",
    " # Then it loops over the numbers\n",
    " for i in range(len(numbers)):\n",
    "   # Now it finds the minimum number in the unsorted part of the list\n",
    "   min_index = i\n",
    "   for j in range(i+1, len(numbers)):\n",
    "     if numbers[j] < numbers[min_index]:\n",
    "       min_index = j\n",
    "   # Then it swaps the minimum number with the first unsorted number\n",
    "   numbers[i], numbers[min_index] = numbers[min_index], numbers[i]\n",
    " \n",
    " return numbers\n",
    " \n",
    "# test the algorithm\n",
    "print(inefficientWay([2, 4, 5, 1, 3])) "
   ]
  },
  {
   "cell_type": "code",
   "execution_count": 3,
   "metadata": {},
   "outputs": [
    {
     "name": "stdout",
     "output_type": "stream",
     "text": [
      "[1, 2, 3, 4, 5]\n"
     ]
    }
   ],
   "source": [
    "list = [5,3,2,1,4]\n",
    "list.sort()\n",
    "print(list)"
   ]
  },
  {
   "attachments": {},
   "cell_type": "markdown",
   "metadata": {},
   "source": [
    "My algorithm works similarly to the \"inefficient\" algorithm shown in the examples for a multitude of reasons\n",
    "1. My algorithm uses a built in sort function, which ultimately leads to my code being shorter than the inefficient code; this saves a lot of time.\n",
    "2. A built in sort function will take less RAM than a bunch of code that makes a procedure\n",
    "3. Since there is less code, many less errors can occur (plus a built in function can sort all numbers, including floats and alphabetical orders)\n",
    "4. Takes up less room\n",
    "5. Faster because the sort function (one step) is faster than running multiple steps."
   ]
  },
  {
   "cell_type": "code",
   "execution_count": 3,
   "metadata": {},
   "outputs": [
    {
     "name": "stdout",
     "output_type": "stream",
     "text": [
      "Waking up now!\n",
      "Eating now\n",
      "I'm gonna go for a walk\n",
      "I'm going to school!\n"
     ]
    }
   ],
   "source": [
    "\n",
    "tasks = [\"Morning\", \"Hungry\", \"Stressed\", \"School\"]\n",
    "\n",
    "\n",
    " \n",
    "for item in tasks:\n",
    " \n",
    "   if item == \"Morning\":\n",
    "     print(\"Waking up now!\")\n",
    "   if item == \"Hungry\":\n",
    "     print(\"Eating now\")\n",
    "   if item == \"Stressed\":\n",
    "       print(\"I'm gonna go for a walk\")\n",
    "   if item == \"School\":\n",
    "       print(\"I'm going to school!\")\n",
    "\n",
    "\n",
    "\n"
   ]
  }
 ],
 "metadata": {
  "kernelspec": {
   "display_name": "Python 3",
   "language": "python",
   "name": "python3"
  },
  "language_info": {
   "codemirror_mode": {
    "name": "ipython",
    "version": 3
   },
   "file_extension": ".py",
   "mimetype": "text/x-python",
   "name": "python",
   "nbconvert_exporter": "python",
   "pygments_lexer": "ipython3",
   "version": "3.8.10"
  },
  "orig_nbformat": 4,
  "vscode": {
   "interpreter": {
    "hash": "916dbcbb3f70747c44a77c7bcd40155683ae19c65e1c03b4aa3499c5328201f1"
   }
  }
 },
 "nbformat": 4,
 "nbformat_minor": 2
}
