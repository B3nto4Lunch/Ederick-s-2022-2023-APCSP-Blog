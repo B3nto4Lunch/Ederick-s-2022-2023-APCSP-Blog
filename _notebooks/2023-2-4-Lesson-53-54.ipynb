{
 "cells": [
  {
   "cell_type": "code",
   "execution_count": null,
   "metadata": {},
   "outputs": [],
   "source": []
  },
  {
   "attachments": {},
   "cell_type": "markdown",
   "metadata": {},
   "source": [
    "# Lesson 5.3 and 5.4 Hacks\n",
    "\n",
    "## 5.3 Computing Bias\n",
    "- Google: Face Book vs TikTok Agegroup:\n",
    "    - The data suggests that the average age of a TikTok user is significantly younger than the age of the averange Face book user. This does make a lot of sense, however. Facebook was created many years ago, where many adults today back then as adolescents that needed a form of social media used facebook, and simply did not want to transition platforms after newer medias like Twitter and TikTok came out. Facebook is still a good profitable business, but is nowhere near its original monetary value increase.\n",
    "- Why do virtual assistants have female voices?\n",
    "    - Many different virtual assistants like Amazon, Alexa, Google, Apple Siri, all have female voices for many reasons. For one, I think many businesses think that the use of female voices makes the actual communication more coherrent, and this can be supported through the use of changing accents and languages. On top of that, I think that female is just a default option since you can create different other vocals, including male voices.\n",
    "- Algorithm tht influences decisions\n",
    "    - Algorithms like the For You Page (FYP) influence my decisions on a daily basis. For example, if I were to like episodes of X creator on tiktok, the algorithm will be like, \"Hey, this user likes X creator! Let's continue to post more videos similar to this creator's content\" to keep my attention span for longer, which is good for profit.\n",
    "\n",
    "\n",
    "\n",
    "### HP Computers are Racist\n",
    "\n",
    "Obviously, the owner/brand owner was unaware that this was going to happen. HP probably just had the camera focus on higher beams of light to recognize faces, which is why darker skinned individuals were undetected by the AI. If you were to single out an entire race, then that means unforgiving canceling (for social media platforms) and marketing purposes because you are noncoveraging a large chunk of the consumer market. If it WAS intentional though, that would mean that HP's reputation would be crippled and would end up creating many problems. I do not think HP is trying to ruin their reputation and harm users. Using a different algorithm to detect facial features of people to include the skin tone will make a more efficient method to detect facial features.\n",
    "To avoid Bias in our project, I think we should definitely include the different features that different people may have. Some of which include...\n",
    "- Different physical capabilities (Physical strength)\n",
    "- Any body parts lacking?\n",
    "- Any recent muscle trauma?"
   ]
  },
  {
   "attachments": {},
   "cell_type": "markdown",
   "metadata": {},
   "source": [
    "## 5.4 Crowdsourcing\n",
    "\n",
    "Notes:\n",
    "- Crowdsourcing provides the ability to obtain shared information, share information, and participate in distributed computing\n",
    "- Crowd sourcing **CAN** be inaccurate, but there are many editiorial teams that ensure the accuracy is good\n",
    "- Example: Crypto currency and the associated block chain have many exchanges of money that are validated at least 3 times a day by individuals daily. If there is a flaw the calculations are reiterated until done correctly. This makes it more reliable and impacts the affirmations of the government.\n",
    "\n",
    "\n",
    "- Computer Science 150 students Question:\n",
    "    - Computer science has about 150 students. This means that there is a lot of information being spread around that associates with work and social communication through interactions with the students themselves and teacher. Crowd sourcing is a way of getting a job done by involving a larger party rather than an individual, meaning that data can be collected a lot easier. Because of this, if you have a certain party of students that are in charge of grading certain tasks, like if we have multiple hacks and a certain person is in charge of grading a certain portion, then that can allow for more efficiency.\n",
    "- Del Norte Crowdsourcing?:\n",
    "    - It is true that Del Norte has done a great job gathering information from many students using different methods, one of which may be surveys and self assessments. However, a problem with these statistics is that biasing may be involved, so it is important to make it so that the user is not pressured into saying something that is not true to put them in a better impression to the interviewer. Taking this into account, we need to be as transparent with our users as possible to make sure no response bias, noncoverage, or other outlier skews the user's data and affects their experience with our program.\n",
    "- How can we show this at N@tM?\n",
    "    - Well, we want to demonstrate our control over the data that we collect through our program. Using this data, we have to utilize it in as many ways possible to get an effective amount of advice and quality of life for the user for the smallest amount of data given. For example, if we ask for something simple, like their age, we can generate a lot of advice catered towards their age and can use that, paired with the dream goals, to create something to \"wow.\"\n"
   ]
  }
 ],
 "metadata": {
  "language_info": {
   "name": "python"
  },
  "orig_nbformat": 4
 },
 "nbformat": 4,
 "nbformat_minor": 2
}
