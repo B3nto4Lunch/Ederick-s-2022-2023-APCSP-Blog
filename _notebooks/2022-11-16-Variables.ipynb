{
 "cells": [
  {
   "cell_type": "markdown",
   "metadata": {},
   "source": [
    "---\n",
    "title: Variables\n",
    "toc: true\n",
    "layout: post\n",
    "description: How variables are used\n",
    "categories: [markdown]\n",
    "---"
   ]
  },
  {
   "cell_type": "markdown",
   "metadata": {},
   "source": [
    "Variables are used to assign values to particular and specific names, such as \"Firstname\" being assigned a value of \"Steve.\" For example, variables can be used to be printed and are constantly being updated depending on the most recent change towards said update. (eg. if I had a code block, for instance, that had Firstname = \"Steve\", but the very next line is now Firstname = \"John\", the new value is now John rather than Steve."
   ]
  },
  {
   "cell_type": "code",
   "execution_count": 1,
   "metadata": {},
   "outputs": [
    {
     "name": "stdout",
     "output_type": "stream",
     "text": [
      "John\n"
     ]
    }
   ],
   "source": [
    "Firstname = \"Steven\"\n",
    "Firstname = \"John\"\n",
    "print(Firstname)"
   ]
  },
  {
   "cell_type": "markdown",
   "metadata": {},
   "source": [
    "Additionally, variables can be combined to create a sentence. You can use a user's input as well. An example is given below."
   ]
  },
  {
   "cell_type": "code",
   "execution_count": 3,
   "metadata": {},
   "outputs": [
    {
     "name": "stdout",
     "output_type": "stream",
     "text": [
      "Ederick likes Blue.\n"
     ]
    }
   ],
   "source": [
    "Name = input(\"What is your name? \")\n",
    "Color = input(\"What is your favorite color? \")\n",
    "\n",
    "print(Name + \" likes \" + Color + \".\")"
   ]
  },
  {
   "cell_type": "markdown",
   "metadata": {},
   "source": [
    "[Learn More About Variables](https://www.youtube.com/watch?v=ghCbURMWBD8)"
   ]
  }
 ],
 "metadata": {
  "kernelspec": {
   "display_name": "Python 3.8.10 64-bit",
   "language": "python",
   "name": "python3"
  },
  "language_info": {
   "codemirror_mode": {
    "name": "ipython",
    "version": 3
   },
   "file_extension": ".py",
   "mimetype": "text/x-python",
   "name": "python",
   "nbconvert_exporter": "python",
   "pygments_lexer": "ipython3",
   "version": "3.8.10"
  },
  "orig_nbformat": 4,
  "vscode": {
   "interpreter": {
    "hash": "916dbcbb3f70747c44a77c7bcd40155683ae19c65e1c03b4aa3499c5328201f1"
   }
  }
 },
 "nbformat": 4,
 "nbformat_minor": 2
}
