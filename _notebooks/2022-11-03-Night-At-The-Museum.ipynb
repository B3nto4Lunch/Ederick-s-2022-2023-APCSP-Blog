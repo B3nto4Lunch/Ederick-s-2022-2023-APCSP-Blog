{
 "cells": [
  {
   "cell_type": "markdown",
   "metadata": {},
   "source": [
    "# Night at the Museum Blog!!"
   ]
  },
  {
   "cell_type": "markdown",
   "metadata": {},
   "source": [
    "Today was such a great night at Night of the Museum. The first project that I encountered was my good friend Yuri Subrammamium. \"We call it Baboon Juice Club.\" says Yuri ('The among us lord and savior who is rich but uses a razer huntsman mini smh' -Yuri).\n",
    "\n",
    "Their website is essentially a time based project that focalizes on the convenience of projecting the time for ANY Timezone in specific cities. Additionally, Yuri's program also enables the user to have access to an alarm clock and stopwatch features. The alarm clock is such a life saver because I'm such a sleepy head! Wow! such a great looking site, the frontend sure does look amazing! I will definitely look into https://dnhstime.com and use it in the future!!!\n",
    "\n",
    "A quote from the master Yuri himself: \"Sometimes you just gotta eat a burger to finish.\"\n",
    "\n"
   ]
  },
  {
   "cell_type": "markdown",
   "metadata": {},
   "source": []
  },
  {
   "cell_type": "markdown",
   "metadata": {},
   "source": [
    "In the computer 3d animation's room, this student created such beautiful artwork. It shows the depiction of many different colors clashing with each other. The view of the sky is also amazing; it gives off a very welcome-y vibe! Props to whoever created this piece of art because it really reflects their effort throughout this entire trimester. It is unfortunate I could not see other work done by them."
   ]
  },
  {
   "cell_type": "markdown",
   "metadata": {},
   "source": [
    "Next, a trip to the ceramics room! There were so many great crafts to marvel at, but the two things that caught my attention the most were the Gomu-Gomu-no-mi (Nika nika) and the lovely octopus.\n",
    "\n",
    "The reason I loved the gomu gomu craft is because it is from one of my favorite shows of all time: One Piece. The attention to detail was immaculate and it is evident that they gave the swirls a definite value to add more detail. The attention to even the more minute details were amazing, and additionally the creator managed to create a convenience factor into their craft, making it capable of holding multipe small items and liquids! "
   ]
  }
 ],
 "metadata": {
  "kernelspec": {
   "display_name": "Python 3.8.10 64-bit",
   "language": "python",
   "name": "python3"
  },
  "language_info": {
   "name": "python",
   "version": "3.8.10"
  },
  "orig_nbformat": 4,
  "vscode": {
   "interpreter": {
    "hash": "916dbcbb3f70747c44a77c7bcd40155683ae19c65e1c03b4aa3499c5328201f1"
   }
  }
 },
 "nbformat": 4,
 "nbformat_minor": 2
}
