{
 "cells": [
  {
   "cell_type": "markdown",
   "metadata": {},
   "source": [
    "# Week 1 Notes"
   ]
  },
  {
   "cell_type": "markdown",
   "metadata": {},
   "source": [
    "\n",
    "\n",
    "# 3.3\n",
    "\n",
    "* algorithm: A finite set of instructions that accomplishes a task. This can expressed by natural language, diagrams, and various other methods\n",
    "* Three  parts to an algorithm:\n",
    "    * Sequencing: The order of how to do something to achieve a result, similarly to how you follow \"instructions from a teacher.\"\n",
    "    * Selection: Selections allow an algorithm to mkae a decision based on if a condition is met (fulfulled or confirmed). An example of this would be traveling to a gas station to fill your car,\n",
    "    * Iteration: An iteration is a loop and continues to loop until the condition if met, like if there was a check for when you put away your computer when you finish your work every five seconds, and will continue to repeat until you finish your work, otherwise meaning that your conditions are met.\n",
    "\n",
    "Mathematical Expressions\n",
    "* Sequential code statement: Sequential statements are used in processes to specify how signals are assigned. The process is executed in order as a whole. After all the sequential statements in the process are executed the signals are assigned their new values. They execute in the order in which they appear in the process.\n",
    "* Sequencing: First step to do, then do the second step, then do the third step, all in order.\n",
    "* Use algorithms to create mathematical expressions. \n",
    "\n",
    "\n",
    "Arithmetic operator: languages that use addition, substraction, multipliations, division, and modulus operator.\n",
    "\n",
    "Examples of arithmetic operators:\n",
    "    10 + (5 * 8) / 4\n",
    "* num1 = 10\n",
    "* num2 = 5\n",
    "* num3 = 7\n",
    "result = num1 + num2 + num3\n",
    "print(result) = answer"
   ]
  },
  {
   "cell_type": "markdown",
   "metadata": {},
   "source": []
  },
  {
   "cell_type": "markdown",
   "metadata": {},
   "source": []
  }
 ],
 "metadata": {
  "kernelspec": {
   "display_name": "Python 3.8.10 64-bit",
   "language": "python",
   "name": "python3"
  },
  "language_info": {
   "name": "python",
   "version": "3.8.10"
  },
  "orig_nbformat": 4,
  "vscode": {
   "interpreter": {
    "hash": "916dbcbb3f70747c44a77c7bcd40155683ae19c65e1c03b4aa3499c5328201f1"
   }
  }
 },
 "nbformat": 4,
 "nbformat_minor": 2
}
