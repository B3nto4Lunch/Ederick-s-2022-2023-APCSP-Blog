{
 "cells": [
  {
   "attachments": {},
   "cell_type": "markdown",
   "metadata": {},
   "source": [
    "# Week 1 Notes\n",
    "\n",
    "- categories: [Notes]"
   ]
  },
  {
   "cell_type": "markdown",
   "metadata": {},
   "source": [
    "\n",
    "\n",
    "### 3.3 - 3.4\n",
    "\n",
    "* algorithm: A finite set of instructions that accomplishes a task. This can expressed by natural language, diagrams, and various other methods\n",
    "* Three  parts to an algorithm:\n",
    "    * Sequencing: The order of how to do something to achieve a result, similarly to how you follow \"instructions from a teacher.\"\n",
    "    * Selection: Selections allow an algorithm to make a decision based on if a condition is met (fulfilled or confirmed). An example of this would be traveling to a gas station to fill your car,\n",
    "    * Iteration: An iteration is a loop and continues to loop until the condition if met, like if there was a check for when you put away your computer when you finish your work every five seconds, and will continue to repeat until you finish your work, otherwise meaning that your conditions are met.\n",
    "\n",
    "Mathematical Expressions\n",
    "* Sequential code statement: Sequential statements are used in processes to specify how signals are assigned. The process is executed in order as a whole. After all the sequential statements in the process are executed the signals are assigned their new values. They execute in the order in which they appear in the process.\n",
    "* Sequencing: First step to do, then do the second step, then do the third step, all in order.\n",
    "* Use algorithms to create mathematical expressions. \n",
    "\n",
    "\n",
    "Arithmetic operator: languages that use addition, subtraction, multiplications, division, and modulus operator.\n",
    "\n",
    "Examples of arithmetic operators:\n",
    "    10 + (5 * 8) / 4\n",
    "* num1 = 10\n",
    "* num2 = 5\n",
    "* num3 = 7\n",
    "result = num1 + num2 + num3\n",
    "print(result) = answer"
   ]
  },
  {
   "cell_type": "markdown",
   "metadata": {},
   "source": [
    "### 3.5 - 3.7\n",
    "\n",
    "#### Boolean\n",
    "\n",
    "* Boolean: a denoting system of algebraic notation used to represent logical propositions, especially in computing and electronics.\n",
    "*  Booleans show is something is either true or false\n",
    "* Testing if two numbers or variables are equal is a common example. (another example can be that the sky is blue = True/False)\n",
    "There is some testing below to show my understanding of booleans. This can probably be used to compare values in future projects."
   ]
  },
  {
   "cell_type": "code",
   "execution_count": 1,
   "metadata": {},
   "outputs": [
    {
     "name": "stdout",
     "output_type": "stream",
     "text": [
      "False\n"
     ]
    }
   ],
   "source": [
    "x = 3\n",
    "y = 4\n",
    "\n",
    "result = bool(x>y)\n",
    "print(result)"
   ]
  },
  {
   "cell_type": "markdown",
   "metadata": {},
   "source": [
    "#### Relational Operators\n",
    "\n",
    "* Relational Operators: the mathematical relationship between two variables \n",
    "* Determines an output on whether or not the statement is true\n",
    "* Examples of Relational Operators: =, >, < (Not specific but I think <= and >= are also relational operators)\n",
    "\n",
    "#### Logical Operators\n",
    "\n",
    "- Not: displays the opposite of whatever the data is. This is mainly used for true/false statements, does NOT affect the variables\n",
    "\n",
    "- And: used to evaluate two conditions together and determine if both conditions are met\n",
    "\n",
    "- Or: When using \"Or\" the function only looks to see if one of the conditions is met."
   ]
  },
  {
   "cell_type": "code",
   "execution_count": 2,
   "metadata": {},
   "outputs": [
    {
     "name": "stdout",
     "output_type": "stream",
     "text": [
      "False\n",
      "pass\n",
      "done\n"
     ]
    }
   ],
   "source": [
    "# Example of NOT\n",
    "\n",
    "Awake = True\n",
    "result = not(Awake)\n",
    "print(result)\n",
    "\n",
    "# Example of AND\n",
    "\n",
    "score = 80\n",
    "if score > 70 and score <= 100:\n",
    "    print(\"pass\")\n",
    "\n",
    "# Example of OR\n",
    "\n",
    "money = 10\n",
    "time = 30\n",
    "\n",
    "if money < 5 or time >= 30:\n",
    "    print(\"done\")\n"
   ]
  },
  {
   "cell_type": "markdown",
   "metadata": {},
   "source": [
    "Learning Objectives:\n",
    "- Conditionals alow for the expression of algorithms that utilize selection without a programming language.\n",
    "- WRiting conditional statements is key to computer science.\n",
    "- Determine the result of conditional statements.\n",
    "\n",
    "Vocab Terms: \n",
    "- Selection: The specific block of code that will execute depending on the algorithm condition returning true or false.\n",
    "- Algorithm: \"A finite set of instructions that accomplish a specific task.\"\n",
    "- Conditional Statement / If-Statement: A statement that affects the sequence of control by executing certain statements depending on the value of a boolean.\n",
    "\n",
    "Essential Knowledge (Key Takeaways):\n",
    "- Conditional statements (\"if\" statements) affect the sequential flow of control by executing different statements based on the Boolean expression's value."
   ]
  }
 ],
 "metadata": {
  "kernelspec": {
   "display_name": "Python 3.8.10 64-bit",
   "language": "python",
   "name": "python3"
  },
  "language_info": {
   "codemirror_mode": {
    "name": "ipython",
    "version": 3
   },
   "file_extension": ".py",
   "mimetype": "text/x-python",
   "name": "python",
   "nbconvert_exporter": "python",
   "pygments_lexer": "ipython3",
   "version": "3.8.10"
  },
  "orig_nbformat": 4,
  "vscode": {
   "interpreter": {
    "hash": "916dbcbb3f70747c44a77c7bcd40155683ae19c65e1c03b4aa3499c5328201f1"
   }
  }
 },
 "nbformat": 4,
 "nbformat_minor": 2
}
