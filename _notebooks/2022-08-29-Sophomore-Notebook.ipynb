{
 "cells": [
  {
   "cell_type": "markdown",
   "metadata": {},
   "source": [
    "# School Notebook for School 2022-2023"
   ]
  },
  {
   "cell_type": "code",
   "execution_count": null,
   "metadata": {
    "vscode": {
     "languageId": "shellscript"
    }
   },
   "outputs": [],
   "source": [
    "\n",
    "print(\"This will be the place where I paste work from school here.\n",
    "World History 1\n",
    "Integrated IIIa\n",
    "Chinese 7\n",
    "AP CSP\n",
    "AP Bio\")"
   ]
  }
 ],
 "metadata": {
  "language_info": {
   "name": "python"
  },
  "orig_nbformat": 4
 },
 "nbformat": 4,
 "nbformat_minor": 2
}
