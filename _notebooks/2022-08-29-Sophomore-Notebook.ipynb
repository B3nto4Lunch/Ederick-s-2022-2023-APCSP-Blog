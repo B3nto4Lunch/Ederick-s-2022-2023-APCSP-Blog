{
 "cells": [
  {
   "cell_type": "markdown",
   "metadata": {},
   "source": [
    "# School Notebook for School 2022-2023"
   ]
  },
  {
   "cell_type": "markdown",
   "metadata": {
    "vscode": {
     "languageId": "shellscript"
    }
   },
   "source": [
    "This will be an \"online notebook\" for things in the future.\n",
    "\n",
    "The courses that I am currently taking are WH, Int IIIa, Chinese, APCSP, and AP Bio\n",
    "\n",
    "Integrated IIIa Calendar:\n",
    "https://docs.google.com/document/d/1aI_BJORFEkLuE7Q6xc5MRPZno6jRKCvWmNq9AG3nTAU/edit \n",
    "\n",
    "AP Biology:\n",
    "https://docs.google.com/document/d/1dQvNBH_TDJQEz8DsNwrLZnDGMAPq-IB1Q2LhppIqU70/edit \n",
    "\n"
   ]
  }
 ],
 "metadata": {
  "language_info": {
   "name": "python"
  },
  "orig_nbformat": 4
 },
 "nbformat": 4,
 "nbformat_minor": 2
}
