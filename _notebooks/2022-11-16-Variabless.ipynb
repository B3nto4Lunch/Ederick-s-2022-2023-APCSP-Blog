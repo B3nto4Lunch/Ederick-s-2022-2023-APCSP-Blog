{
 "cells": [
  {
   "cell_type": "markdown",
   "metadata": {},
   "source": [
    "---\n",
    "title: Variables\n",
    "toc: true\n",
    "layout: post\n",
    "description: How variables are used\n",
    "categories: [markdown]\n",
    "---"
   ]
  },
  {
   "cell_type": "markdown",
   "metadata": {},
   "source": [
    "# Variables And How They Are Used"
   ]
  },
  {
   "cell_type": "markdown",
   "metadata": {},
   "source": [
    "PLAN FOR VARIABLES\n",
    "\n",
    "\n",
    "Firstly, starting with an introduction to the variables will be optimal for understanding the content of the course and will make it easier for different references or problems being introduced in the future\n",
    "* Go over the materials learned in the course and show how it can be used in commonly used code and how they can use it in code two\n",
    "* Introduce a practice problem for each given variables (Winner possibly gets prize, have not fully thought out yet)\n",
    "* After the practice problems, rinse and repeat throughout to consistently to strengthen understanding. \n",
    "* At the very end of the topic/lesson, make a short practice quiz and FRQ (maybe only like a 1 minute quiz) to check for understanding and how it can be used for improvement in the future.\n",
    "* Have a smooth transition into the next person introducing a similar topic\n",
    "\n",
    "\n",
    "Things to go over:\n",
    "* What EXACTLY is a Variable?\n",
    "* What are the qualities of a Variable?\n",
    "* Can variables be updated and how can they be used in code to make sentences?\n",
    "* Why can't I just use raw answers rather than code?\n",
    "* Tips for organization when using variables\n"
   ]
  },
  {
   "cell_type": "markdown",
   "metadata": {},
   "source": [
    "Variables are used to assign values to particular and specific names, such as \"Firstname\" being assigned a value of \"Steve.\" For example, variables can be used to be printed and are constantly being updated depending on the most recent change towards said update. (eg. if I had a code block, for instance, that had Firstname = \"Steve\", but the very next line is now Firstname = \"John\", the new value is now John rather than Steve."
   ]
  },
  {
   "cell_type": "code",
   "execution_count": 4,
   "metadata": {},
   "outputs": [
    {
     "name": "stdout",
     "output_type": "stream",
     "text": [
      "Jae\n",
      "Jae\n"
     ]
    }
   ],
   "source": [
    "x = \"Jae\"\n",
    "print(x)\n",
    "print(\"Jae\")\n",
    "\n",
    "# Notice how we can use x as a faster alternation that printing \"Jae\" every single time, saves more space and makes it more organized"
   ]
  },
  {
   "cell_type": "code",
   "execution_count": 5,
   "metadata": {},
   "outputs": [
    {
     "name": "stdout",
     "output_type": "stream",
     "text": [
      "John\n"
     ]
    }
   ],
   "source": [
    "Firstname = \"Steven\"\n",
    "Firstname = \"John\"\n",
    "print(Firstname)"
   ]
  },
  {
   "cell_type": "markdown",
   "metadata": {},
   "source": [
    "Additionally, variables can be combined to create a sentence. You can use a user's input as well. An example is given below."
   ]
  },
  {
   "cell_type": "code",
   "execution_count": 6,
   "metadata": {},
   "outputs": [
    {
     "name": "stdout",
     "output_type": "stream",
     "text": [
      "Will likes Perrywinkle.\n"
     ]
    }
   ],
   "source": [
    "Name = input(\"What is your name? \")\n",
    "Color = input(\"What is your favorite color? \")\n",
    "# Using the two variables, we can create a sentence using the inputs the user gave to create a sentence!\n",
    "print(Name + \" likes \" + Color + \".\")"
   ]
  },
  {
   "cell_type": "markdown",
   "metadata": {},
   "source": [
    "[Learn More About Variables](https://www.youtube.com/watch?v=ghCbURMWBD8)"
   ]
  }
 ],
 "metadata": {
  "kernelspec": {
   "display_name": "Python 3.8.10 64-bit",
   "language": "python",
   "name": "python3"
  },
  "language_info": {
   "codemirror_mode": {
    "name": "ipython",
    "version": 3
   },
   "file_extension": ".py",
   "mimetype": "text/x-python",
   "name": "python",
   "nbconvert_exporter": "python",
   "pygments_lexer": "ipython3",
   "version": "3.8.10"
  },
  "orig_nbformat": 4,
  "vscode": {
   "interpreter": {
    "hash": "916dbcbb3f70747c44a77c7bcd40155683ae19c65e1c03b4aa3499c5328201f1"
   }
  }
 },
 "nbformat": 4,
 "nbformat_minor": 2
}
