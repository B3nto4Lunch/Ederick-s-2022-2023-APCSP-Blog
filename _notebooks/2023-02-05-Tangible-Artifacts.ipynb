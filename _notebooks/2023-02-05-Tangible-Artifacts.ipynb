{
 "cells": [
  {
   "cell_type": "code",
   "execution_count": null,
   "metadata": {},
   "outputs": [],
   "source": []
  },
  {
   "attachments": {},
   "cell_type": "markdown",
   "metadata": {},
   "source": [
    "# Tangible Artifacts Progress Log\n"
   ]
  },
  {
   "attachments": {},
   "cell_type": "markdown",
   "metadata": {},
   "source": [
    "### Coding Hours 1-4\n",
    "\n",
    "Throughout this process, there was not really much I could do. \n",
    "**For the past week, I have been trying to get my SQL Database to function, but on three computers the functions for nix protocol were not working. i have been trying to get them fixed, but to no avail. I think that I might skip over this and ask for a teammates assistance and instead try and create user interactable buttons**"
   ]
  }
 ],
 "metadata": {
  "language_info": {
   "name": "python"
  },
  "orig_nbformat": 4
 },
 "nbformat": 4,
 "nbformat_minor": 2
}
