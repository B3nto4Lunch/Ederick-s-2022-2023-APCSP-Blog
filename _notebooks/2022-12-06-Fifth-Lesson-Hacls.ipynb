{
 "cells": [
  {
   "attachments": {},
   "cell_type": "markdown",
   "metadata": {},
   "source": [
    "# 3.9 and 3.11 Hacks\n",
    "\n",
    "- categories: [Lesson]\n",
    "- description: All hacks done for students teaching lesson 3.9 and 3.11\n"
   ]
  },
  {
   "attachments": {},
   "cell_type": "markdown",
   "metadata": {},
   "source": [
    "### 3.9.1 Hacks\n",
    "\n",
    "1. Why is it important to know that algorithms that look different can do the same thing and that algorithms that look the same might have different results?\n",
    "    - It is important to know that algorithms that look different can do the same thing because there are a multitude of different methods and structures that can be used to receive the same answer. For example, in the examples given in the presentation, there are different methods that were used to derive similar results. One used if and else statements to find out which conditions best suited the predicament. The other one simply used factors A, B, and C to categorize the value given, and although both displayed the same result, different inputs may result in different outcomes (outputs). Debugging will also vary.\n",
    "\n",
    "2. Converted Boolean conversion:\n"
   ]
  },
  {
   "cell_type": "code",
   "execution_count": 58,
   "metadata": {},
   "outputs": [
    {
     "name": "stdout",
     "output_type": "stream",
     "text": [
      "At least you're not missing practice\n"
     ]
    }
   ],
   "source": [
    "Sick = True\n",
    "Practice = False\n",
    "\n",
    "if Sick == True and Practice == True:\n",
    "    print(\"I think you should skip practice today\")\n",
    "elif Sick == True and Practice == False:\n",
    "    print(\"At least you're not missing practice\")\n",
    "elif Sick == False and Practice == True:\n",
    "    print(\"Go to practice!\")"
   ]
  },
  {
   "cell_type": "code",
   "execution_count": 49,
   "metadata": {},
   "outputs": [
    {
     "name": "stdout",
     "output_type": "stream",
     "text": [
      "Go to practice!\n"
     ]
    }
   ],
   "source": [
    "Sick = False\n",
    "Practice = True\n",
    "\n",
    "Bed = not(Practice) and (Sick)\n",
    "if Bed == True:\n",
    "    print(\"Stay in bed!\")\n",
    "elif Bed == False:\n",
    "    print(\"Go to practice!\")"
   ]
  },
  {
   "attachments": {},
   "cell_type": "markdown",
   "metadata": {},
   "source": [
    "### 3.9.2 Hacks "
   ]
  },
  {
   "attachments": {},
   "cell_type": "markdown",
   "metadata": {},
   "source": [
    "[Link to the Flowchart](https://www.canva.com/design/DAFUS3OCGqU/RI23b-wNT9TM6y1lUi9vDw/view?utm_content=DAFUS3OCGqU&utm_campaign=designshare&utm_medium=link2&utm_source=sharebutton)"
   ]
  },
  {
   "attachments": {},
   "cell_type": "markdown",
   "metadata": {},
   "source": [
    "1. Print what directions I need the user to know\n",
    "2. State the price of the products\n",
    "3. Ask if they are paying with Credit Card or money\n",
    "4. Ask how much money you have that you are going to pay with if cash, ignore if credit\n",
    "5. Ask How many shirts you have\n",
    "6. ASk how many pants you have\n",
    "7. Ring up the total, give the following responses based on your balance:\n",
    "    - If you can afford, say the total and the change\n",
    "    - If you cannot afford the total, ask to put something back\n",
    "    - if you cannot afford anything in the first place (less than 3), tell them that they can't afford anything in the first place\n",
    "    - if you spend more than 100 dollars with a credit card, you will have exceeded your CC spending limit"
   ]
  },
  {
   "cell_type": "code",
   "execution_count": 50,
   "metadata": {},
   "outputs": [
    {
     "name": "stdout",
     "output_type": "stream",
     "text": [
      "Welcome to a shop\n",
      "Shirts are $3, Pants are $4\n",
      "If you do not have enough money, we will ask that you put away some items and try again\n",
      "Are you going to pay with cash or credit?\n",
      "credit\n",
      "How many shirts do you have?\n",
      "4\n",
      "How many pants do you have\n",
      "2\n",
      "Your total is: 20, have a good day\n"
     ]
    }
   ],
   "source": [
    "print(\"Welcome to a shop\")\n",
    "print(\"Shirts are $3, Pants are $4\")\n",
    "print(\"If you do not have enough money, we will ask that you put away some items and try again\")\n",
    "shirts = 3\n",
    "pants = 4\n",
    "print(\"Are you going to pay with cash or credit?\")\n",
    "Question = input(\"In all lowercases: Cash or Credit?\")\n",
    "print(Question)\n",
    "\n",
    "if Question == \"credit\":\n",
    "    print(\"How many shirts do you have?\")\n",
    "    num_shirts = int(input(\"How many shirts do you have? \"))\n",
    "    print(num_shirts)\n",
    "    print(\"How many pants do you have\")\n",
    "    num_pants = int(input(\"How many pants do you have? \"))\n",
    "    print(num_pants)\n",
    "    prod = shirts * num_shirts\n",
    "    prod2 = pants * num_pants\n",
    "    if (prod + prod2) <= 100 and (prod + prod2) <= 5:\n",
    "        print(\"Your total is: \" + str(prod + prod2) + \", have a good day\")\n",
    "    elif (prod + prod2) > 100:\n",
    "        print(\"You exceeded your spending limit\")\n",
    "elif Question == \"cash\":\n",
    "    print(\"How much money do you have?\")\n",
    "    money = int(input(\"How much money do you have? \"))\n",
    "    print(money)\n",
    "    print(\"How many shirts do you have?\")\n",
    "    num_shirts = int(input(\"How many shirts do you have? \"))\n",
    "    print(num_shirts)\n",
    "    print(\"How many pants do you have\")\n",
    "    num_pants = int(input(\"How many pants do you have? \"))\n",
    "    print(num_pants)\n",
    "    prod = shirts * num_shirts\n",
    "    prod2 = pants * num_pants\n",
    "    if money >= prod + prod2:\n",
    "        print(\"Your change is \" + str(money - (prod + prod2)) + \", have a good day\")\n",
    "    elif money < prod + prod2 and money >= 3:\n",
    "        print(\"please put something back, you are \" + str((prod + prod2) - money) + \" short\")\n",
    "    else:\n",
    "        print(\"Bro you can't afford anything in the first place\")\n",
    "\n",
    "\n",
    "\n",
    "\n",
    "\n",
    "\n"
   ]
  },
  {
   "attachments": {},
   "cell_type": "markdown",
   "metadata": {},
   "source": [
    "### 3.9.3\n",
    "\n"
   ]
  },
  {
   "cell_type": "code",
   "execution_count": 57,
   "metadata": {},
   "outputs": [
    {
     "name": "stdout",
     "output_type": "stream",
     "text": [
      "9\n",
      "n is odd\n"
     ]
    }
   ],
   "source": [
    "n = int(input(\"choose a number \"))\n",
    "y = 2\n",
    "print(n)\n",
    "\n",
    "if n % y == 0:\n",
    "    print(\"n is even\")\n",
    "else:\n",
    "    print(\"n is odd\")\n"
   ]
  },
  {
   "attachments": {},
   "cell_type": "markdown",
   "metadata": {},
   "source": [
    "[Link to the Flowchart for Number Guessing](https://www.canva.com/design/DAFUSwzA_-I/Xe4y7hBUbQ81iQK1RCs2ww/view?utm_content=DAFUSwzA_-I&utm_campaign=designshare&utm_medium=link2&utm_source=sharebutton)"
   ]
  },
  {
   "cell_type": "code",
   "execution_count": 6,
   "metadata": {},
   "outputs": [
    {
     "name": "stdout",
     "output_type": "stream",
     "text": [
      "I'm thinking of a number between 1 and 100.\n",
      "You guessed 50.\n",
      "too high, try again! :)\n",
      "Guess a number between 0 and 50.\n",
      "You guessed 25.\n",
      "too high, try again! :)\n",
      "Guess a number between 0 and 25.\n",
      "You guessed 11.\n",
      "Too low, try again! :)\n",
      "Guess a number between 11 and 25.\n",
      "You guessed 17.\n",
      "too high, try again! :)\n",
      "Guess a number between 11 and 17.\n",
      "You guessed 13.\n",
      "Too low, try again! :)\n",
      "Guess a number between 13 and 17.\n",
      "You guessed 15.\n",
      "Too low, try again! :)\n",
      "Guess a number between 15 and 17.\n",
      "You guessed 16.\n",
      "Guess a number between 15 and 17.\n",
      "You guessed the number in 12 guesses!\n"
     ]
    }
   ],
   "source": [
    "import random\n",
    "\n",
    "#sets variables for the game\n",
    "num_guesses = 5\n",
    "user_guess = 0\n",
    "upper_bound = 100\n",
    "lower_bound = 0\n",
    "\n",
    "#generates a random number\n",
    "number = random.randint(1,100)\n",
    "\n",
    "# print(number)     #for testing purposes\n",
    "\n",
    "print(f\"I'm thinking of a number between 1 and 100.\")\n",
    "\n",
    "#Write a function that gets a guess from the user using input()\n",
    "def guess():\n",
    "    numero = int(input(\"Number\"))\n",
    "    return numero#add something here \n",
    "\n",
    "#Change the print statements to give feedback on whether the player guessed too high or too low\n",
    "def search(number, guess):\n",
    "    global lower_bound, upper_bound\n",
    "    if guess < number:\n",
    "        print(\"Too low, try again! :)\") #change this\n",
    "        lower_bound = guess\n",
    "    elif guess > number:\n",
    "        print(\"too high, try again! :)\") #change this\n",
    "        upper_bound = guess\n",
    "    return lower_bound, upper_bound\n",
    "\n",
    "while user_guess != number:\n",
    "    user_guess = guess()\n",
    "    num_guesses += 1\n",
    "    print(f\"You guessed {user_guess}.\")\n",
    "    lower_bound, upper_bound = search(number, user_guess)\n",
    "    print(f\"Guess a number between {lower_bound} and {upper_bound}.\")\n",
    "\n",
    "print(f\"You guessed the number in {num_guesses} guesses!\")"
   ]
  },
  {
   "attachments": {},
   "cell_type": "markdown",
   "metadata": {},
   "source": [
    "### 3.11\n",
    "\n",
    "1. calculate the middle index and create a binary tree for each of these lists\n",
    "    - 12, 14, 43, 57, 79, 80, 99\n",
    "        - 57\n",
    "        - **[Link to Binary Tree 1](https://www.canva.com/design/DAFUTN1a1Io/hpODOi_zT68_yYP5GIcOPA/view?utm_content=DAFUTN1a1Io&utm_campaign=designshare&utm_medium=link2&utm_source=sharebutton)**\n",
    "    - 92, 43, 74, 66, 30, 12, 1\n",
    "        - 1, 12, 30, 43, 66, 74, 92\n",
    "        - 43\n",
    "        -**[Link to Binary Tree 2](https://www.canva.com/design/DAFUTKZ9PDc/PClfh4cC8THu-SC5uPr25Q/view?utm_content=DAFUTKZ9PDc&utm_campaign=designshare&utm_medium=link2&utm_source=sharebutton)**\n",
    "    - 7, 13, 96, 111, 33, 84, 60\n",
    "        - sort into order: 7, 13, 33, 60, 84, 96, 111\n",
    "        - 7, 13, 33, 60, 84, 96, 111\n",
    "            - 60\n",
    "            - **[Link to Binary Tree 3](https://www.canva.com/design/DAFUTrnDBIg/IRHUCkm2j9s7tx-gceoVrQ/view?utm_content=DAFUTrnDBIg&utm_campaign=designshare&utm_medium=link2&utm_source=sharebutton)**\n"
   ]
  },
  {
   "cell_type": "markdown",
   "metadata": {},
   "source": [
    "2. Using one of the sets of numbers from the question above, what would be the second number looked at in a binary search if the number is more than the middle number?\n",
    "    - **12, 14, 43, 57, 79, 80 99**\n",
    "    - 80\n",
    "\n",
    "3. Which of the following lists can NOT a binary search be used in order to find a targeted value?\n",
    "\n",
    "a. [\"amy\", \"beverly\", \"christian\", \"devin\"]\n",
    "\n",
    "b. [-1, 2, 6, 9, 19]\n",
    "\n",
    "c. [3, 2, 8, 12, 99]\n",
    "\n",
    "d. [\"xylophone\", \"snowman\", \"snake\", \"doorbell\", \"author\"]\n",
    "\n",
    "\n",
    "**c. [3, 2, 8, 12, 99]** because the numbers are not sorted into ascending or descending order like b and it is not in alphabetical order like d and a!!!!"
   ]
  },
  {
   "cell_type": "code",
   "execution_count": 1,
   "metadata": {},
   "outputs": [
    {
     "name": "stdout",
     "output_type": "stream",
     "text": [
      "[1, 12, 30, 43, 66, 74, 92]\n",
      "[7, 13, 33, 60, 84, 96, 111]\n"
     ]
    }
   ],
   "source": [
    "Binary2 =  [92, 43, 74, 66, 30, 12, 1]\n",
    "Binary2.sort()\n",
    "print(Binary2)\n",
    "\n",
    "Binary3 = [7, 13, 96, 111, 33, 84, 60]\n",
    "Binary3.sort()\n",
    "print(Binary3)\n",
    "\n"
   ]
  }
 ],
 "metadata": {
  "kernelspec": {
   "display_name": "Python 3.8.10 64-bit",
   "language": "python",
   "name": "python3"
  },
  "language_info": {
   "codemirror_mode": {
    "name": "ipython",
    "version": 3
   },
   "file_extension": ".py",
   "mimetype": "text/x-python",
   "name": "python",
   "nbconvert_exporter": "python",
   "pygments_lexer": "ipython3",
   "version": "3.8.10"
  },
  "orig_nbformat": 4,
  "vscode": {
   "interpreter": {
    "hash": "916dbcbb3f70747c44a77c7bcd40155683ae19c65e1c03b4aa3499c5328201f1"
   }
  }
 },
 "nbformat": 4,
 "nbformat_minor": 2
}
