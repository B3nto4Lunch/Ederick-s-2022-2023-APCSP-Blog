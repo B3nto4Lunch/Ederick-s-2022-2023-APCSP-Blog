{
 "cells": [
  {
   "cell_type": "code",
   "execution_count": 6,
   "metadata": {},
   "outputs": [
    {
     "name": "stdout",
     "output_type": "stream",
     "text": [
      "Welcome to a shop\n"
     ]
    },
    {
     "ename": "ValueError",
     "evalue": "invalid literal for int() with base 10: ''",
     "output_type": "error",
     "traceback": [
      "\u001b[0;31m---------------------------------------------------------------------------\u001b[0m",
      "\u001b[0;31mValueError\u001b[0m                                Traceback (most recent call last)",
      "Cell \u001b[0;32mIn[6], line 8\u001b[0m\n\u001b[1;32m      6\u001b[0m num1 \u001b[39m=\u001b[39m \u001b[39mint\u001b[39m(\u001b[39minput\u001b[39m(\u001b[39m\"\u001b[39m\u001b[39mHow many shirts have you bought? \u001b[39m\u001b[39m\"\u001b[39m))\n\u001b[1;32m      7\u001b[0m num2 \u001b[39m=\u001b[39m \u001b[39mint\u001b[39m(\u001b[39minput\u001b[39m(\u001b[39m\"\u001b[39m\u001b[39mHow many pants have you bought? \u001b[39m\u001b[39m\"\u001b[39m))\n\u001b[0;32m----> 8\u001b[0m num3 \u001b[39m=\u001b[39m \u001b[39mint\u001b[39;49m(\u001b[39minput\u001b[39;49m(\u001b[39m\"\u001b[39;49m\u001b[39mHow many underwear items have you bought? \u001b[39;49m\u001b[39m\"\u001b[39;49m))\n\u001b[1;32m     10\u001b[0m \u001b[39mprint\u001b[39m(\u001b[39m\"\u001b[39m\u001b[39mYou have bought \u001b[39m\u001b[39m\"\u001b[39m \u001b[39m+\u001b[39m num1 \u001b[39m+\u001b[39m \u001b[39m\"\u001b[39m\u001b[39m shirts\u001b[39m\u001b[39m\"\u001b[39m)\n\u001b[1;32m     11\u001b[0m \u001b[39mprint\u001b[39m(\u001b[39m\"\u001b[39m\u001b[39mYou have bought \u001b[39m\u001b[39m\"\u001b[39m \u001b[39m+\u001b[39m num2 \u001b[39m+\u001b[39m \u001b[39m\"\u001b[39m\u001b[39m pants\u001b[39m\u001b[39m\"\u001b[39m)\n",
      "\u001b[0;31mValueError\u001b[0m: invalid literal for int() with base 10: ''"
     ]
    }
   ],
   "source": [
    "print(\"Welcome to a shop\")\n",
    "\n",
    "shirts = 5\n",
    "pants = 10\n",
    "underwear = 3\n",
    "num1 = int(input(\"How many shirts have you bought? \"))\n",
    "num2 = int(input(\"How many pants have you bought? \"))\n",
    "num3 = int(input(\"How many underwear items have you bought? \"))\n",
    "\n",
    "print(\"You have bought \" + num1 + \" shirts\")\n",
    "print(\"You have bought \" + num2 + \" pants\")\n",
    "print(\"You have bought \" + num3 + \"underwear\")\n",
    "\n",
    "print(\"Your total is: \")\n",
    "print(int(num1(shirts) + num2(pants) + num3(underwear)))\n"
   ]
  }
 ],
 "metadata": {
  "kernelspec": {
   "display_name": "Python 3.8.10 64-bit",
   "language": "python",
   "name": "python3"
  },
  "language_info": {
   "codemirror_mode": {
    "name": "ipython",
    "version": 3
   },
   "file_extension": ".py",
   "mimetype": "text/x-python",
   "name": "python",
   "nbconvert_exporter": "python",
   "pygments_lexer": "ipython3",
   "version": "3.8.10"
  },
  "orig_nbformat": 4,
  "vscode": {
   "interpreter": {
    "hash": "916dbcbb3f70747c44a77c7bcd40155683ae19c65e1c03b4aa3499c5328201f1"
   }
  }
 },
 "nbformat": 4,
 "nbformat_minor": 2
}
