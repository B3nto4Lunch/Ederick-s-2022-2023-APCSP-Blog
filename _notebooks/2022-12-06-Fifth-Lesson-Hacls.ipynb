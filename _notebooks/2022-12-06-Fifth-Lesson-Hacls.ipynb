{
 "cells": [
  {
   "attachments": {},
   "cell_type": "markdown",
   "metadata": {},
   "source": [
    "# 3.9 and 3.11 Hacks"
   ]
  },
  {
   "attachments": {},
   "cell_type": "markdown",
   "metadata": {},
   "source": [
    "### 3.9.1 Hacks\n",
    "\n",
    "1. Why is it important to know that algorithms that look different can do the same thing and that algorithms that look the same might have different results?\n",
    "    - It is important to know that algorithms that look different can do the same thing because there are a multitude of different methods and structures that can be used to receive the same answer. For example, in the examples given in the presentation, there are different methods that were used to derive similar results. One used if and else statements to find out which conditions best suited the predicament. The other one simply used factors A, B, and C to categorize the value given, and although both displayed the same result, different inputs may result in different outcomes (outputs).\n",
    "\n",
    "2. Converted Boolean conversion (???)\n"
   ]
  },
  {
   "attachments": {},
   "cell_type": "markdown",
   "metadata": {},
   "source": [
    "### 3.9.2 Hacks "
   ]
  },
  {
   "attachments": {},
   "cell_type": "markdown",
   "metadata": {},
   "source": [
    "1. Print what directions I need the user to know\n",
    "2. State the price of the products\n",
    "3. Ask if they are paying with Credit Card or money\n",
    "4. Ask how much money you have that you are going to pay with if cash, ignore if credit\n",
    "5. Ask How many shirts you have\n",
    "6. ASk how many pants you have\n",
    "7. Ring up the total, give the following responses based on your balance:\n",
    "    - If you can afford, say the total and the change\n",
    "    - If you cannot afford the total, ask to put something back\n",
    "    - if you cannot afford anything in the first place (less than 3), tell them that they can't afford anything in the first place"
   ]
  },
  {
   "cell_type": "code",
   "execution_count": 23,
   "metadata": {},
   "outputs": [
    {
     "name": "stdout",
     "output_type": "stream",
     "text": [
      "Welcome to a shop\n",
      "Shirts are $3, Pants are $4\n",
      "If you do not have enough money, we will ask that you put away some items and try again\n",
      "Are you going to pay with cash or credit?\n",
      "cash\n",
      "How much money do you have?\n",
      "1\n",
      "How many shirts do you have?\n",
      "3\n",
      "How many pants do you have\n",
      "2\n",
      "Bro you can't afford anything in the first place\n"
     ]
    }
   ],
   "source": [
    "print(\"Welcome to a shop\")\n",
    "print(\"Shirts are $3, Pants are $4\")\n",
    "print(\"If you do not have enough money, we will ask that you put away some items and try again\")\n",
    "shirts = 3\n",
    "pants = 4\n",
    "print(\"Are you going to pay with cash or credit?\")\n",
    "Question = input(\"In all lowercases: Cash or Credit?\")\n",
    "print(Question)\n",
    "\n",
    "if Question == \"credit\":\n",
    "    print(\"How many shirts do you have?\")\n",
    "    num_shirts = int(input(\"How many shirts do you have? \"))\n",
    "    print(num_shirts)\n",
    "    print(\"How many pants do you have\")\n",
    "    num_pants = int(input(\"How many pants do you have? \"))\n",
    "    print(num_pants)\n",
    "    prod = shirts * num_shirts\n",
    "    prod2 = pants * num_pants\n",
    "    print(\"Your total is: \" + str(prod + prod2) + \", have a good day\")\n",
    "elif Question == \"cash\":\n",
    "    print(\"How much money do you have?\")\n",
    "    money = int(input(\"How much money do you have? \"))\n",
    "    print(money)\n",
    "    print(\"How many shirts do you have?\")\n",
    "    num_shirts = int(input(\"How many shirts do you have? \"))\n",
    "    print(num_shirts)\n",
    "    print(\"How many pants do you have\")\n",
    "    num_pants = int(input(\"How many pants do you have? \"))\n",
    "    print(num_pants)\n",
    "    prod = shirts * num_shirts\n",
    "    prod2 = pants * num_pants\n",
    "    if money >= prod + prod2:\n",
    "        print(\"Your change is \" + str(money - (prod + prod2)) + \", have a good day\")\n",
    "    elif money < prod + prod2 and money >= 3:\n",
    "        print(\"please put something back, you are \" + str((prod + prod2) - money) + \" short\")\n",
    "    else:\n",
    "        print(\"Bro you can't afford anything in the first place\")\n",
    "\n",
    "\n",
    "\n",
    "\n",
    "\n"
   ]
  },
  {
   "attachments": {},
   "cell_type": "markdown",
   "metadata": {},
   "source": [
    "### 3.9.3\n",
    "\n"
   ]
  },
  {
   "cell_type": "code",
   "execution_count": 5,
   "metadata": {},
   "outputs": [
    {
     "name": "stdout",
     "output_type": "stream",
     "text": [
      "n is odd\n"
     ]
    }
   ],
   "source": [
    "n = int(input(\"choose a number \"))\n",
    "y = 2\n",
    "\n",
    "if n % y == 0:\n",
    "    print(\"n is even\")\n",
    "else:\n",
    "    print(\"n is odd\")\n"
   ]
  },
  {
   "cell_type": "code",
   "execution_count": 3,
   "metadata": {},
   "outputs": [
    {
     "name": "stdout",
     "output_type": "stream",
     "text": [
      "I'm thinking of a number between 1 and 100.\n"
     ]
    },
    {
     "ename": "KeyboardInterrupt",
     "evalue": "Interrupted by user",
     "output_type": "error",
     "traceback": [
      "\u001b[0;31m---------------------------------------------------------------------------\u001b[0m",
      "\u001b[0;31mKeyboardInterrupt\u001b[0m                         Traceback (most recent call last)",
      "Cell \u001b[0;32mIn[3], line 33\u001b[0m\n\u001b[1;32m     30\u001b[0m     \u001b[39mreturn\u001b[39;00m lower_bound, upper_bound\n\u001b[1;32m     32\u001b[0m \u001b[39mwhile\u001b[39;00m user_guess \u001b[39m!=\u001b[39m number:\n\u001b[0;32m---> 33\u001b[0m     user_guess \u001b[39m=\u001b[39m guess()\n\u001b[1;32m     34\u001b[0m     num_guesses \u001b[39m+\u001b[39m\u001b[39m=\u001b[39m \u001b[39m1\u001b[39m\n\u001b[1;32m     35\u001b[0m     \u001b[39mprint\u001b[39m(\u001b[39mf\u001b[39m\u001b[39m\"\u001b[39m\u001b[39mYou guessed \u001b[39m\u001b[39m{\u001b[39;00muser_guess\u001b[39m}\u001b[39;00m\u001b[39m.\u001b[39m\u001b[39m\"\u001b[39m)\n",
      "Cell \u001b[0;32mIn[3], line 19\u001b[0m, in \u001b[0;36mguess\u001b[0;34m()\u001b[0m\n\u001b[1;32m     17\u001b[0m \u001b[39mdef\u001b[39;00m \u001b[39mguess\u001b[39m():\n\u001b[1;32m     18\u001b[0m     \u001b[39minput\u001b[39m(\u001b[39m\"\u001b[39m\u001b[39mguess a number\u001b[39m\u001b[39m\"\u001b[39m)\u001b[39m#add something here\u001b[39;00m\n\u001b[0;32m---> 19\u001b[0m     \u001b[39mreturn\u001b[39;00m guess()\n",
      "Cell \u001b[0;32mIn[3], line 19\u001b[0m, in \u001b[0;36mguess\u001b[0;34m()\u001b[0m\n\u001b[1;32m     17\u001b[0m \u001b[39mdef\u001b[39;00m \u001b[39mguess\u001b[39m():\n\u001b[1;32m     18\u001b[0m     \u001b[39minput\u001b[39m(\u001b[39m\"\u001b[39m\u001b[39mguess a number\u001b[39m\u001b[39m\"\u001b[39m)\u001b[39m#add something here\u001b[39;00m\n\u001b[0;32m---> 19\u001b[0m     \u001b[39mreturn\u001b[39;00m guess()\n",
      "    \u001b[0;31m[... skipping similar frames: guess at line 19 (13 times)]\u001b[0m\n",
      "Cell \u001b[0;32mIn[3], line 19\u001b[0m, in \u001b[0;36mguess\u001b[0;34m()\u001b[0m\n\u001b[1;32m     17\u001b[0m \u001b[39mdef\u001b[39;00m \u001b[39mguess\u001b[39m():\n\u001b[1;32m     18\u001b[0m     \u001b[39minput\u001b[39m(\u001b[39m\"\u001b[39m\u001b[39mguess a number\u001b[39m\u001b[39m\"\u001b[39m)\u001b[39m#add something here\u001b[39;00m\n\u001b[0;32m---> 19\u001b[0m     \u001b[39mreturn\u001b[39;00m guess()\n",
      "Cell \u001b[0;32mIn[3], line 18\u001b[0m, in \u001b[0;36mguess\u001b[0;34m()\u001b[0m\n\u001b[1;32m     17\u001b[0m \u001b[39mdef\u001b[39;00m \u001b[39mguess\u001b[39m():\n\u001b[0;32m---> 18\u001b[0m     \u001b[39minput\u001b[39;49m(\u001b[39m\"\u001b[39;49m\u001b[39mguess a number\u001b[39;49m\u001b[39m\"\u001b[39;49m)\u001b[39m#add something here\u001b[39;00m\n\u001b[1;32m     19\u001b[0m     \u001b[39mreturn\u001b[39;00m guess()\n",
      "File \u001b[0;32m~/.local/lib/python3.8/site-packages/ipykernel/kernelbase.py:1177\u001b[0m, in \u001b[0;36mKernel.raw_input\u001b[0;34m(self, prompt)\u001b[0m\n\u001b[1;32m   1173\u001b[0m \u001b[39mif\u001b[39;00m \u001b[39mnot\u001b[39;00m \u001b[39mself\u001b[39m\u001b[39m.\u001b[39m_allow_stdin:\n\u001b[1;32m   1174\u001b[0m     \u001b[39mraise\u001b[39;00m StdinNotImplementedError(\n\u001b[1;32m   1175\u001b[0m         \u001b[39m\"\u001b[39m\u001b[39mraw_input was called, but this frontend does not support input requests.\u001b[39m\u001b[39m\"\u001b[39m\n\u001b[1;32m   1176\u001b[0m     )\n\u001b[0;32m-> 1177\u001b[0m \u001b[39mreturn\u001b[39;00m \u001b[39mself\u001b[39;49m\u001b[39m.\u001b[39;49m_input_request(\n\u001b[1;32m   1178\u001b[0m     \u001b[39mstr\u001b[39;49m(prompt),\n\u001b[1;32m   1179\u001b[0m     \u001b[39mself\u001b[39;49m\u001b[39m.\u001b[39;49m_parent_ident[\u001b[39m\"\u001b[39;49m\u001b[39mshell\u001b[39;49m\u001b[39m\"\u001b[39;49m],\n\u001b[1;32m   1180\u001b[0m     \u001b[39mself\u001b[39;49m\u001b[39m.\u001b[39;49mget_parent(\u001b[39m\"\u001b[39;49m\u001b[39mshell\u001b[39;49m\u001b[39m\"\u001b[39;49m),\n\u001b[1;32m   1181\u001b[0m     password\u001b[39m=\u001b[39;49m\u001b[39mFalse\u001b[39;49;00m,\n\u001b[1;32m   1182\u001b[0m )\n",
      "File \u001b[0;32m~/.local/lib/python3.8/site-packages/ipykernel/kernelbase.py:1219\u001b[0m, in \u001b[0;36mKernel._input_request\u001b[0;34m(self, prompt, ident, parent, password)\u001b[0m\n\u001b[1;32m   1216\u001b[0m             \u001b[39mbreak\u001b[39;00m\n\u001b[1;32m   1217\u001b[0m \u001b[39mexcept\u001b[39;00m \u001b[39mKeyboardInterrupt\u001b[39;00m:\n\u001b[1;32m   1218\u001b[0m     \u001b[39m# re-raise KeyboardInterrupt, to truncate traceback\u001b[39;00m\n\u001b[0;32m-> 1219\u001b[0m     \u001b[39mraise\u001b[39;00m \u001b[39mKeyboardInterrupt\u001b[39;00m(\u001b[39m\"\u001b[39m\u001b[39mInterrupted by user\u001b[39m\u001b[39m\"\u001b[39m) \u001b[39mfrom\u001b[39;00m \u001b[39mNone\u001b[39m\n\u001b[1;32m   1220\u001b[0m \u001b[39mexcept\u001b[39;00m \u001b[39mException\u001b[39;00m:\n\u001b[1;32m   1221\u001b[0m     \u001b[39mself\u001b[39m\u001b[39m.\u001b[39mlog\u001b[39m.\u001b[39mwarning(\u001b[39m\"\u001b[39m\u001b[39mInvalid Message:\u001b[39m\u001b[39m\"\u001b[39m, exc_info\u001b[39m=\u001b[39m\u001b[39mTrue\u001b[39;00m)\n",
      "\u001b[0;31mKeyboardInterrupt\u001b[0m: Interrupted by user"
     ]
    }
   ],
   "source": [
    "import random\n",
    "\n",
    "#sets variables for the game\n",
    "num_guesses = 5\n",
    "user_guess = 0\n",
    "upper_bound = 100\n",
    "lower_bound = 0\n",
    "\n",
    "#generates a random number\n",
    "number = random.randint(1,100)\n",
    "\n",
    "# print(number)     #for testing purposes\n",
    "\n",
    "print(f\"I'm thinking of a number between 1 and 100.\")\n",
    "\n",
    "#Write a function that gets a guess from the user using input()\n",
    "def guess():\n",
    "    input(\"guess a number\")#add something here\n",
    "    return guess() #add something here \n",
    "\n",
    "#Change the print statements to give feedback on whether the player guessed too high or too low\n",
    "def search(number, guess):\n",
    "    global lower_bound, upper_bound\n",
    "    if guess < number:\n",
    "        print(\"Higher\") #change this\n",
    "        lower_bound = guess\n",
    "    elif guess > number:\n",
    "        print(\"Lower\") #change this\n",
    "        upper_bound = guess\n",
    "    return lower_bound, upper_bound\n",
    "\n",
    "while user_guess != number:\n",
    "    user_guess = guess()\n",
    "    num_guesses += 1\n",
    "    print(f\"You guessed {user_guess}.\")\n",
    "    lower_bound, upper_bound = search(number, user_guess)\n",
    "    print(f\"Guess a number between {lower_bound} and {upper_bound}.\")\n",
    "\n",
    "print(f\"You guessed the number in {num_guesses} guesses!\")\n"
   ]
  },
  {
   "attachments": {},
   "cell_type": "markdown",
   "metadata": {},
   "source": [
    "### 3.11\n",
    "\n",
    "1. calculate the middle index and create a binary tree for each of these lists\n",
    "    - 12, 14, 43, 57, 79, 80, 99\n",
    "        - 57\n",
    "    - 92, 43, 74, 66, 30, 12, 1\n",
    "        - 66\n",
    "    - 7, 13, 96, 111, 33, 84, 60\n",
    "        - sort into order: 7, 13, 33, 60, 84, 96, 111\n",
    "            - 60\n",
    "2. Using one of the sets of numbers from the question above, what would be the second number looked at in a binary search if the number is more than the middle number?\n",
    "    - **12, 14, 43, 57, 79, 80 99**\n",
    "    - 80\n",
    "\n",
    "3. Which of the following lists can NOT a binary search be used in order to find a targeted value?\n",
    "\n",
    "a. [\"amy\", \"beverly\", \"christian\", \"devin\"]\n",
    "\n",
    "b. [-1, 2, 6, 9, 19]\n",
    "\n",
    "**c. [3, 2, 8, 12, 99]** because the numbers are not sorted into ascending or descending order like b and it is not in alphabetical order like d and a\n",
    "\n",
    "d. [\"xylophone\", \"snowman\", \"snake\", \"doorbell\", \"author\"]"
   ]
  }
 ],
 "metadata": {
  "kernelspec": {
   "display_name": "Python 3.8.10 64-bit",
   "language": "python",
   "name": "python3"
  },
  "language_info": {
   "codemirror_mode": {
    "name": "ipython",
    "version": 3
   },
   "file_extension": ".py",
   "mimetype": "text/x-python",
   "name": "python",
   "nbconvert_exporter": "python",
   "pygments_lexer": "ipython3",
   "version": "3.8.10"
  },
  "orig_nbformat": 4,
  "vscode": {
   "interpreter": {
    "hash": "916dbcbb3f70747c44a77c7bcd40155683ae19c65e1c03b4aa3499c5328201f1"
   }
  }
 },
 "nbformat": 4,
 "nbformat_minor": 2
}
