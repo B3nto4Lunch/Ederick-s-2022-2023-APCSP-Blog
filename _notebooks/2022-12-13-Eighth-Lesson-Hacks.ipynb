{
 "cells": [
  {
   "attachments": {},
   "cell_type": "markdown",
   "metadata": {},
   "source": [
    "# 3.16 Hacks"
   ]
  },
  {
   "attachments": {},
   "cell_type": "markdown",
   "metadata": {},
   "source": [
    "### Hack #1\n",
    "Create an idea for a simulation and describe it (you don’t actually have to code it just think about/answer the guiding questions).\n",
    "- An idea for a simulation could be:\n",
    "    - A company wants to give their product and business more attraction, but they do not know how much money to spend on advertising (Where they will post their flyers in multiple locations and billboards) and do not want to spend too much money, so they are trying to find the optimal amount of flyers and money to spend. They create a simulation where in each location that their posters are placed, 1 in every 200 people will call the business/product and 1 in every 1300 people will buy the business/product. They have the populations for every location their advertisements are in and run it. This is a simulation because it is similar to real life, but is not as accurate as an actual experiment because there can't be a definite probability that a person will be interested in said product. However, the simulation will save a lot more time and money at the cost of its imminent inaccuracy. "
   ]
  },
  {
   "attachments": {},
   "cell_type": "markdown",
   "metadata": {},
   "source": [
    "### Hack #2"
   ]
  },
  {
   "cell_type": "code",
   "execution_count": 2,
   "metadata": {},
   "outputs": [
    {
     "name": "stdout",
     "output_type": "stream",
     "text": [
      "Welcome to the Simulations Quiz!\n",
      "\n",
      " True or False: Simulations will always have the same result. \n",
      " A: True, \n",
      " B: False\n",
      "You said:  B\n",
      "Correct!\n",
      "\n",
      " True or False: A simulation has results that are more accurate than an experiment \n",
      " A: True, \n",
      " B: False\n",
      "You said:  B\n",
      "Correct!\n",
      "\n",
      " True or False: A simulation can model real world events that are not practical for experiments \n",
      " A: True, \n",
      " B: False\n",
      "You said:  A\n",
      "Correct!\n",
      "\n",
      " Which one of these is FALSE regarding simulations \n",
      " A: Reduces Costs, \n",
      " B: Is safer than real life experiments, \n",
      " C: More Efficient, \n",
      " D: More accurate than real life experiments\n",
      "You said:  D\n",
      "Correct!\n",
      "\n",
      " Which of the following scenarios would be the LEAST beneficial to have as a simulation \n",
      " A: A retail company wants to identify the item which sold the most on their website, \n",
      " B: A restaurant wants to determine if the use of robots will increase efficiency, \n",
      " C: An insurance company wants to study the impact of rain on car accidents, \n",
      " D: A sports car company wants to study design changes to their new bike design \n",
      "You said:  A\n",
      "Correct!\n",
      "\n",
      " Which of the following is better to do as a simulation than as a calculation \n",
      " A: Keeping score at a basketball game, \n",
      " B: Keeping track of how many games a person has won, \n",
      " C: Determining the average grade for a group of tests, \n",
      " D: Studying the impact of carbon emissions on the environment\n",
      "You said:  D\n",
      "Correct!\n",
      "You scored:  6 /6\n"
     ]
    }
   ],
   "source": [
    "questions_number = 6\n",
    "answers_correct = 0\n",
    "questions = [\n",
    "    \"True or False: Simulations will always have the same result. \\n A: True, \\n B: False\",\n",
    "    \"True or False: A simulation has results that are more accurate than an experiment \\n A: True, \\n B: False\",\n",
    "    \"True or False: A simulation can model real world events that are not practical for experiments \\n A: True, \\n B: False\",\n",
    "    \"Which one of these is FALSE regarding simulations \\n A: Reduces Costs, \\n B: Is safer than real life experiments, \\n C: More Efficient, \\n D: More accurate than real life experiments\",\n",
    "    \"Which of the following scenarios would be the LEAST beneficial to have as a simulation \\n A: A retail company wants to identify the item which sold the most on their website, \\n B: A restaurant wants to determine if the use of robots will increase efficiency, \\n C: An insurance company wants to study the impact of rain on car accidents, \\n D: A sports car company wants to study design changes to their new bike design \",\n",
    "    \"Which of the following is better to do as a simulation than as a calculation \\n A: Keeping score at a basketball game, \\n B: Keeping track of how many games a person has won, \\n C: Determining the average grade for a group of tests, \\n D: Studying the impact of carbon emissions on the environment\"\n",
    "]\n",
    "question_answers = [\n",
    "    \"B\",\n",
    "    \"B\",\n",
    "    \"A\",\n",
    "    \"D\",\n",
    "    \"A\",\n",
    "    \"D\"\n",
    "]\n",
    "\n",
    "print(\"Welcome to the Simulations Quiz!\")\n",
    "\n",
    "def ask_question (question, answer):\n",
    "    print(\"\\n\", question)\n",
    "    user_answer = input(question)\n",
    "    print(\"You said: \", user_answer)\n",
    "\n",
    "    if user_answer == answer:\n",
    "        print(\"Correct!\")\n",
    "        global answers_correct\n",
    "        answers_correct = answers_correct + 1\n",
    "    else:\n",
    "        print(\"You are incorrect\")\n",
    "    \n",
    "for num in range(questions_number):\n",
    "    ask_question(questions[num], question_answers[num])\n",
    "\n",
    "print(\"You scored: \", answers_correct, \"/6\")"
   ]
  },
  {
   "attachments": {},
   "cell_type": "markdown",
   "metadata": {},
   "source": [
    "### Hack #3\n",
    "Describe the rolling dice simulation (answer guiding questions)\n",
    "- What makes it a simulation? \n",
    "    - The simulation is, well, a simulation is because the results that the dice outputs will not always be the same and therefore it emulates that of real life.\n",
    "- What are it’s advantages and disadvantages?\n",
    "    - The advantage is that the results that the computer outputs can be more time efficient, and can save money (if someone is being payed and such to roll the dice at random). However, the dice game may not be as accurate as a real life demonstrate because of some variable or factor (like the face the dice is being rolled at, height above the surface, etc.)\n",
    "- In your opinion, would an experiment be better in this situation?\n",
    "    In my opinion, the dice as a simulation would be better because you can receive a large amount of data from the simulation that would otherwise be similar to an experiment -- random -- and in addition save some time.\n"
   ]
  },
  {
   "attachments": {},
   "cell_type": "markdown",
   "metadata": {},
   "source": [
    "### Hack #4\n",
    "Add a feature onto the rolling dice simulation above\n",
    "ex: a 14-sided dice or expand the purpose of the simulation (hint: use conditionals to make dice part of a game/real life situation)\n",
    " **I added conditionals similar to something like a casino, the place where dice are used the most**\n",
    "**Below are the conditionals used in the simulation**\n",
    " ```python\n",
    " \n",
    "for item in roll_results:\n",
    "    if item == 1 or item == 6:\n",
    "        print(\"Oh! Sorry! You lost all your earnings!\")\n",
    "    elif item == 2 or  item == 3:\n",
    "        print(\"Oh, sorry! You earned nothing! Want to play again?\")\n",
    "    elif item == 4:\n",
    "        print(\"Woah! You're so lucky! You just earned yourself $100!\")\n",
    "    elif item == 5:\n",
    "        print(\"Lucky lucky! You just earned $1000!\")\n",
    "    elif item == 7:\n",
    "        print(\"You earned all of the casino's earnings! Get my joke?\")\n",
    "```"
   ]
  },
  {
   "cell_type": "code",
   "execution_count": 22,
   "metadata": {},
   "outputs": [
    {
     "name": "stdout",
     "output_type": "stream",
     "text": [
      "you rolled: [6, 6, 4, 1, 6]\n",
      "Oh! Sorry! You lost all your earnings!\n",
      "Oh! Sorry! You lost all your earnings!\n",
      "Woah! You're so lucky! You just earned yourself $100!\n",
      "Oh! Sorry! You lost all your earnings!\n",
      "Oh! Sorry! You lost all your earnings!\n"
     ]
    }
   ],
   "source": [
    "def parse_input(input_string):\n",
    "    if input_string.strip() in {\"1\", \"2\", \"3\",\"4\", \"5\", \"6\"}:\n",
    "        return int(input_string)\n",
    "    else:\n",
    "        print(\"Please enter a number from 1 to 6.\")\n",
    "        raise SystemExit(1)\n",
    "\n",
    "import random\n",
    "\n",
    "def roll_dice(num_dice):\n",
    "    roll_results = []\n",
    "    for _ in range(num_dice):\n",
    "        roll = random.randint(1, 6)\n",
    "        roll_results.append(roll)\n",
    "    return roll_results\n",
    "\n",
    "\n",
    "num_dice_input = input(\"How many dice do you want to roll? [1-6] \")\n",
    "num_dice = parse_input(num_dice_input)\n",
    "roll_results = roll_dice(num_dice)\n",
    "print(\"you rolled:\", roll_results) \n",
    "\n",
    "for item in roll_results:\n",
    "    if item == 1 or item == 6:\n",
    "        print(\"Oh! Sorry! You lost all your earnings!\")\n",
    "    elif item == 2 or  item == 3:\n",
    "        print(\"Oh, sorry! You earned nothing! Want to play again?\")\n",
    "    elif item == 4:\n",
    "        print(\"Woah! You're so lucky! You just earned yourself $100!\")\n",
    "    elif item == 5:\n",
    "        print(\"Lucky lucky! You just earned $1000!\")\n",
    "    elif item == 7:\n",
    "        print(\"You earned all of the casino's earnings! Get my joke?\")\n"
   ]
  }
 ],
 "metadata": {
  "kernelspec": {
   "display_name": "Python 3",
   "language": "python",
   "name": "python3"
  },
  "language_info": {
   "codemirror_mode": {
    "name": "ipython",
    "version": 3
   },
   "file_extension": ".py",
   "mimetype": "text/x-python",
   "name": "python",
   "nbconvert_exporter": "python",
   "pygments_lexer": "ipython3",
   "version": "3.8.10"
  },
  "orig_nbformat": 4,
  "vscode": {
   "interpreter": {
    "hash": "916dbcbb3f70747c44a77c7bcd40155683ae19c65e1c03b4aa3499c5328201f1"
   }
  }
 },
 "nbformat": 4,
 "nbformat_minor": 2
}
