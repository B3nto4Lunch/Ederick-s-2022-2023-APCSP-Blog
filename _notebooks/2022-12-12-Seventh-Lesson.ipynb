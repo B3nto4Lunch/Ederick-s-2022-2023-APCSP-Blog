{
 "cells": [
  {
   "attachments": {},
   "cell_type": "markdown",
   "metadata": {},
   "source": [
    "# 3.14 and 3.15 Hacks"
   ]
  },
  {
   "attachments": {},
   "cell_type": "markdown",
   "metadata": {},
   "source": [
    "# 3.14.1 Hacks"
   ]
  },
  {
   "cell_type": "code",
   "execution_count": 9,
   "metadata": {},
   "outputs": [
    {
     "data": {
      "text/plain": [
       "35136.41828644462"
      ]
     },
     "execution_count": 9,
     "metadata": {},
     "output_type": "execute_result"
    }
   ],
   "source": [
    "import math\n",
    "\n",
    "def root(a):\n",
    "    a = int(input())\n",
    "    Answer = math.sqrt(a)\n",
    "    return Answer\n",
    "    print(Answer)\n",
    "\n",
    "root(1)\n",
    "\n",
    "\n"
   ]
  },
  {
   "cell_type": "code",
   "execution_count": 47,
   "metadata": {},
   "outputs": [
    {
     "name": "stdout",
     "output_type": "stream",
     "text": [
      "Green\n"
     ]
    }
   ],
   "source": [
    "import random\n",
    "\n",
    "area = random.randint(1,8)\n",
    "if area == 1:\n",
    "    print(\"Green\")\n",
    "elif area == 2:\n",
    "    print(\"Green\")\n",
    "elif area == 3:\n",
    "    print(\"Green\")\n",
    "elif area == 4:\n",
    "    print(\"Blue\")\n",
    "elif area == 5:\n",
    "    print(\"Blue\")\n",
    "elif area == 6:\n",
    "    print(\"Purple\")\n",
    "elif area == 7:\n",
    "    print(\"Red\")\n",
    "elif area == 8:\n",
    "    print(\"Orange\")"
   ]
  }
 ],
 "metadata": {
  "kernelspec": {
   "display_name": "Python 3",
   "language": "python",
   "name": "python3"
  },
  "language_info": {
   "codemirror_mode": {
    "name": "ipython",
    "version": 3
   },
   "file_extension": ".py",
   "mimetype": "text/x-python",
   "name": "python",
   "nbconvert_exporter": "python",
   "pygments_lexer": "ipython3",
   "version": "3.8.10 (default, Jun 22 2022, 20:18:18) \n[GCC 9.4.0]"
  },
  "orig_nbformat": 4,
  "vscode": {
   "interpreter": {
    "hash": "916dbcbb3f70747c44a77c7bcd40155683ae19c65e1c03b4aa3499c5328201f1"
   }
  }
 },
 "nbformat": 4,
 "nbformat_minor": 2
}
