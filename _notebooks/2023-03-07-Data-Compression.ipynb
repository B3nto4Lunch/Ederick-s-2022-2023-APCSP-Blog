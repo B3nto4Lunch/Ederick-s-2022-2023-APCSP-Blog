{
 "cells": [
  {
   "cell_type": "code",
   "execution_count": null,
   "metadata": {},
   "outputs": [],
   "source": []
  },
  {
   "attachments": {},
   "cell_type": "markdown",
   "metadata": {},
   "source": [
    "---\n",
    "title: Data Compression\n",
    "description: \"Data compression tech talk\"\n",
    "---"
   ]
  },
  {
   "attachments": {},
   "cell_type": "markdown",
   "metadata": {},
   "source": [
    "### Data Compression\n",
    "\n",
    "There are different ways of displaying images in python Jupyter Notebook.\n",
    "\n",
    "Some of which include:\n",
    "- IpYthon\n",
    "- Pathlib\n",
    "\n",
    "### Lossy vs Lossless\n",
    "\n",
    "Lossy means some of the data that is in the image is lost during compression, whereas lossless means that the image should not lose any data during compression\n",
    "\n"
   ]
  }
 ],
 "metadata": {
  "language_info": {
   "name": "python"
  },
  "orig_nbformat": 4
 },
 "nbformat": 4,
 "nbformat_minor": 2
}
