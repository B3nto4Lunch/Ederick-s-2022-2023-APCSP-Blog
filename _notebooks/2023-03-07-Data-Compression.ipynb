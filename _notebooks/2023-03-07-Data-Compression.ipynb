{
 "cells": [
  {
   "cell_type": "code",
   "execution_count": null,
   "metadata": {},
   "outputs": [],
   "source": []
  },
  {
   "attachments": {},
   "cell_type": "markdown",
   "metadata": {},
   "source": [
    "---\n",
    "title: Data Compression\n",
    "description: \"Data compression tech talk\"\n",
    "---"
   ]
  },
  {
   "attachments": {},
   "cell_type": "markdown",
   "metadata": {},
   "source": [
    "### Data Compression\n",
    "\n",
    "There are different ways of displaying images in python Jupyter Notebook.\n",
    "\n",
    "Some of which include:\n",
    "- IpYthon\n",
    "- Pathlib\n",
    "\n",
    "### Lossy vs Lossless\n",
    "\n",
    "Lossy means some of the data that is in the image is lost during compression, whereas lossless means that the image should not lose any data during compression\n",
    "\n"
   ]
  }
 ],
 "metadata": {
  "kernelspec": {
   "display_name": "Python 3",
   "language": "python",
   "name": "python3"
  },
  "language_info": {
   "name": "python",
   "version": "3.9.6"
  },
  "orig_nbformat": 4,
  "vscode": {
   "interpreter": {
    "hash": "31f2aee4e71d21fbe5cf8b01ff0e069b9275f58929596ceb00d14d90e3e16cd6"
   }
  }
 },
 "nbformat": 4,
 "nbformat_minor": 2
}
