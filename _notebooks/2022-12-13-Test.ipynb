{
 "cells": [
  {
   "attachments": {},
   "cell_type": "markdown",
   "metadata": {},
   "source": [
    "# Updated 3.12 and 3.13 Hacks Because Other MD Would not Update\n",
    "\n",
    "- categories: [Lesson]\n",
    "- description: All hacks done for students teaching lesson 3.12 and 3.13"
   ]
  },
  {
   "attachments": {},
   "cell_type": "markdown",
   "metadata": {},
   "source": [
    "### Topic 3.12 (3.A):\n",
    "1. Define procedure and parameter in your own words\n",
    "    - Procedure: Also called a function or method, is something that has a given set of instructions that takes in a variable and returns a value.\n",
    "    - Parameters: They are like variables that are put into the procedure to produce the result. It is independent because it does not have a definite value.\n",
    "2. Paste a screenshot of completion of the quiz\n",
    "    - (Quiz code shown below)\n",
    "3. Define Return Values and Output Parameters in your own words\n",
    "    - Return Values: a value that a function returns to the calling function when it completes its task or given instructions. \n",
    "    - Output Parameter: the parameters that are called from the function. Kind of like the thing that is assigned for the parameter, which is originally an independent variable that can hold any value.\n",
    "4. Code a procedure that finds the square root of any given number. (make sure to call and return the function)"
   ]
  },
  {
   "cell_type": "code",
   "execution_count": 2,
   "metadata": {},
   "outputs": [
    {
     "name": "stdout",
     "output_type": "stream",
     "text": [
      "Question: What is are correct names for a procedure? \n",
      " A) Method \n",
      " B) Function \n",
      " C) Both\n",
      "Answer: C\n",
      "Correct :) \n",
      "\n",
      "Question: What is a procedure? \n",
      " A) Sequencing \n",
      " B) Selection \n",
      " C) Iteration \n",
      " D) All\n",
      "Answer: D\n",
      "Correct :) \n",
      "\n",
      "Question: Use this for following question: \n",
      " def inchesToFeet(lengthInches): \n",
      "\t lengthFeet = lengthInches / 12 \n",
      "\t return lengthFeet \n",
      "\n",
      " What is the procedure name, the parameter, and what the procedure returns? \n",
      " A) feetToInches, lengthInches, lengthMeters \n",
      " B) inchesToFeet, lengthInches, lengthFeet \n",
      " C) inchesToFeet, lengthFeet, lengthInches \n",
      " D) lengthInches, inchesToFeet, lengthFeet\n",
      "Answer: B\n",
      "Correct :) \n",
      "\n",
      "Score: 3 / 3\n"
     ]
    }
   ],
   "source": [
    "questionNum = 3\n",
    "correct = 0\n",
    "questions = [\n",
    "    \"What is are correct names for a procedure? \\n A) Method \\n B) Function \\n C) Both\",\n",
    "    \"What is a procedure? \\n A) Sequencing \\n B) Selection \\n C) Iteration \\n D) All\",\n",
    "    \"Use this for following question: \\n def inchesToFeet(lengthInches): \\n\\t lengthFeet = lengthInches / 12 \\n\\t return lengthFeet \\n\\n What is the procedure name, the parameter, and what the procedure returns? \\n A) feetToInches, lengthInches, lengthMeters \\n B) inchesToFeet, lengthInches, lengthFeet \\n C) inchesToFeet, lengthFeet, lengthInches \\n D) lengthInches, inchesToFeet, lengthFeet\"]\n",
    "answers = [\"c\", \"d\", \"b\"]\n",
    "\n",
    "def qna(question, answer):\n",
    "    print(\"Question:\", question)\n",
    "    response = input()\n",
    "    print(\"Answer:\", response)\n",
    "    \n",
    "    if response.lower() == answer:\n",
    "        print(\"Correct :) \\n\")\n",
    "        global correct\n",
    "        correct += 1\n",
    "    else:\n",
    "        print(\"Incorrect :( \\n\")\n",
    "for x in range(questionNum):\n",
    "    qna(questions[x], answers[x])\n",
    "    \n",
    "print(\"Score:\", correct, \"/ 3\")"
   ]
  },
  {
   "cell_type": "code",
   "execution_count": 3,
   "metadata": {},
   "outputs": [
    {
     "name": "stdout",
     "output_type": "stream",
     "text": [
      "18\n"
     ]
    },
    {
     "data": {
      "text/plain": [
       "4.242640687119285"
      ]
     },
     "execution_count": 3,
     "metadata": {},
     "output_type": "execute_result"
    }
   ],
   "source": [
    "import math\n",
    "\n",
    "A = int(input(\"Input a Number\"))\n",
    "def root(A):\n",
    "    return math.sqrt(A)\n",
    "print(A)\n",
    "root(A)"
   ]
  },
  {
   "attachments": {},
   "cell_type": "markdown",
   "metadata": {},
   "source": [
    "### Topic 3.13 (3.B):\n",
    "- Explain, in your own words, why abstracting away your program logic into separate, modular functions is effective\n",
    "    - Abstracting the program logic into separate, modular functions is effective because it can make independent parts that can be used in other parts of the code, which is more efficient than just reprinting the code over and over again (it's also more time efficient).\n",
    "- Create a procedure that uses other sub-procedures (other functions) within it and explain why the abstraction was needed (conciseness, shared behavior, etc.)\n",
    "- Add another layer of abstraction to the word counter program (HINT: create a function that can count the number of words starting with ANY character in a given string -- how can we leverage parameters for this?)"
   ]
  },
  {
   "cell_type": "code",
   "execution_count": 4,
   "metadata": {},
   "outputs": [
    {
     "name": "stdout",
     "output_type": "stream",
     "text": [
      "welcome to a shop\n",
      "shirts are 5, pants are 10\n",
      "How many shirts did you buy?\n",
      "5\n",
      "That alone will be 25\n",
      "How many pants did you buy?\n",
      "That will be 60\n",
      "All together, that will be 85\n",
      "Your tax will be 6.8\n",
      "Have a good day!\n"
     ]
    }
   ],
   "source": [
    "print(\"welcome to a shop\")\n",
    "print(\"shirts are 5, pants are 10\")\n",
    "\n",
    "shirt = 5\n",
    "pants = 10\n",
    "\n",
    " \n",
    "def shirtply(s):\n",
    "    return s * 5\n",
    "\n",
    "def pantsply(s):\n",
    "    return s * 10\n",
    "\n",
    "def tax(s):\n",
    "   return s * 0.08\n",
    "\n",
    "print(\"How many shirts did you buy?\")\n",
    "x = int(input())\n",
    "print(x)\n",
    "print(\"That alone will be\", shirtply(x))\n",
    "\n",
    "print(\"How many pants did you buy?\")\n",
    "y = int(input())\n",
    "print(\"That will be\", pantsply(y))\n",
    "\n",
    "print(\"All together, that will be\", (shirtply(x) + pantsply(y)))\n",
    "print(\"Your tax will be\", tax((shirtply(x) + pantsply(y))))\n",
    "print(\"Have a good day!\")\n",
    "\n",
    "\n"
   ]
  },
  {
   "attachments": {},
   "cell_type": "markdown",
   "metadata": {},
   "source": [
    "#### Explanation\n",
    "\n",
    "I created two functions that basically totalled the value for a particular amount of clothing that the person bought. Because of this, it shortened the amount of time that it took to code as I did not have to create new variables to find the value of how much the shirts, pants, and tax instead of simply typing something as simply as \"tax()\"\n",
    "Below is what the code would be without the defined sub procedures.\n",
    "\n",
    "```python\n",
    "print(\"welcome to a shop\")\n",
    "print(\"shirts are 5, pants are 10\")\n",
    "\n",
    "shirt = 5\n",
    "pants = 10\n",
    "\n",
    "print(\"How many shirts did you buy?\")\n",
    "x = int(input())\n",
    "print(x)\n",
    "prod = x * 5\n",
    "print(\"Your total for those items alone with be\",prod)\n",
    "\n",
    "print(\"How many pants did you buy?\")\n",
    "y = int(input())\n",
    "prod2 = y * 10\n",
    "print(\"That will be\", prod2)\n",
    "\n",
    "print(\"All together, they will be\", (prod + prod2))\n",
    "print(\"Your tax will be\", ((prod + prod2)*0.08))\n",
    "print(\"Have a good day\")\n",
    "```\n",
    "\n",
    "There are a lot more variables that are scattered throughout the code, which can make it way too confusing for someone in the future. Just having something as simple as shirtply() is a lot easier to read. Less errors will occur and it is more organized.\n",
    "\n",
    "\n"
   ]
  },
  {
   "cell_type": "code",
   "execution_count": 6,
   "metadata": {},
   "outputs": [
    {
     "name": "stdout",
     "output_type": "stream",
     "text": [
      "Words starting with a: 1\n",
      "Words starting with d: 1\n",
      "Words starting with t : 4\n"
     ]
    }
   ],
   "source": [
    "# is a separate element in the list\n",
    "def split_string(s):\n",
    "    # use the split() method to split the string into a list of words\n",
    "    words = s.split(\" \")\n",
    "\n",
    "\t# initialize a new list to hold all non-empty strings\n",
    "    new_words = []\n",
    "    for word in words:\n",
    "        if word != \"\":\n",
    "            # add all non-empty substrings of `words` to `new_words`\n",
    "            new_words.append(word)\n",
    "    \n",
    "    return words\n",
    "\n",
    "# this function takes a list of words as input and returns the number of words\n",
    "# that start with the given letter (case-insensitive)\n",
    "def count_words_starting_with_letter(words, letter):\n",
    "    count = 0\n",
    "    \n",
    "    # loop through the list of words and check if each word starts with the given letter\n",
    "    for word in words:\n",
    "        # use the lower() method to make the comparison case-insensitive\n",
    "        if word.lower().startswith(letter):\n",
    "            count += 1\n",
    "    \n",
    "    return count\n",
    "\n",
    "# this function takes a string as input and returns the number of words that start with 'a'\n",
    "def count_words_starting_with_a_in_string(s):\n",
    "    # use the split_string() function to split the input string into a list of words\n",
    "    words = split_string(s)\n",
    "    \n",
    "    # use the count_words_starting_with_letter() function to count the number of words\n",
    "    # that start with 'a' in the list of words\n",
    "    count = count_words_starting_with_letter(words, \"a\")\n",
    "    \n",
    "    return count\n",
    "\n",
    "# see above\n",
    "def count_words_starting_with_d_in_string(s):\n",
    "    words = split_string(s)\n",
    "    count = count_words_starting_with_letter(words, \"d\")\n",
    "    return count\n",
    "\n",
    "def letter_count(s):\n",
    "    words = split_string(s)\n",
    "    count = count_words_starting_with_letter(words, letter)\n",
    "    return count\n",
    "letter = input(\"What is your letter?\")\n",
    "# example usage:\n",
    "s = \"   This is  a  test  string! Don't you think this is cool? \"\n",
    "a_count = count_words_starting_with_a_in_string(s)\n",
    "d_count = count_words_starting_with_d_in_string(s)\n",
    "any_count = letter_count(s)\n",
    "print(\"Words starting with a:\", a_count)\n",
    "print(\"Words starting with d:\", d_count)\n",
    "print(\"Words starting with\", letter, \":\", any_count )\n"
   ]
  },
  {
   "attachments": {},
   "cell_type": "markdown",
   "metadata": {},
   "source": [
    "I added some code to make it so that you can choose what input is given. For example, all you need to do is type the letter you want to be counted in the sentence (\"This is a test string! Don't you think this is cool?\"). I did t, so it gave 4\n",
    "\n",
    "Below is the added to the code\n",
    "```python\n",
    "# The code counts the letters that start with the user's input\n",
    "def letter_count(s):\n",
    "    words = split_string(s)\n",
    "    count = count_words_starting_with_letter(words, letter)\n",
    "    return count\n",
    "letter = input(\"What is your letter?\")\n",
    "\n",
    "# Prints the result\n",
    "print(\"Words starting with\", letter, \":\", any_count )\n",
    "```\n",
    "\n",
    "\n",
    "An alternate way you could do that allows for a unique string to be counted is shown below (very similar to the code used in the example)\n"
   ]
  },
  {
   "cell_type": "code",
   "execution_count": 7,
   "metadata": {},
   "outputs": [
    {
     "name": "stdout",
     "output_type": "stream",
     "text": [
      "The swift and sly fox graceously jumps over the lazy dog that sleeps in the corner.\n",
      "s\n",
      "words starting with s : 3\n"
     ]
    }
   ],
   "source": [
    "def count_input_character (input_str, character):\n",
    "    input_str = input_str.lower()\n",
    "    character = character.lower()\n",
    "    count = 0\n",
    "    for i in range (0, len(input_str)):\n",
    "     if input_str[i] == character and (i == 0 or input_str[i - 1] == \" \"):\n",
    "            count += 1\n",
    "    return (count)\n",
    "\n",
    "input_str = input(\"Enter a string: \")\n",
    "print(input_str)\n",
    "character = input(\"What character do you want counted?\")\n",
    "print(character)\n",
    "result = count_input_character(input_str, character)\n",
    "print(\"words starting with\",character, \":\",result)\n",
    "    "
   ]
  },
  {
   "attachments": {},
   "cell_type": "markdown",
   "metadata": {},
   "source": [
    "### Topic 3.13 (3.C)\n",
    "\n",
    "1. Define procedure names and arguments in your own words.\n",
    "    - Procedure Names: Procedure names are just names that are given to the procedure()\n",
    "    - Arguments: The values that take the place of the independent variables (the parameters) in the procedure when using the function somewhere else in the code\n",
    "    ```python\n",
    "    # Example\n",
    "    def add(a,b)\n",
    "        answer = a + b\n",
    "        return answer\n",
    "    \n",
    "    add(2,3) # These are the arguments\n",
    "    ```\n",
    "\n",
    "2. Code some procedures that use arguments and parameters with Javascript and HTML (make sure they are interactive on your hacks page, allowing the user to input numbers and click a button to produce an output)\n",
    "- Add two numbers \n",
    "- Subtract two numbers\n",
    "- Multiply two numbers\n",
    "- Divide two numbers"
   ]
  },
  {
   "attachments": {},
   "cell_type": "markdown",
   "metadata": {},
   "source": [
    "##### X = 4\n",
    "##### Y = 2"
   ]
  },
  {
   "attachments": {},
   "cell_type": "markdown",
   "metadata": {},
   "source": [
    "<button onclick=\"myFunction1()\">Multiply</button>\n",
    "\n",
    "<p id=\"demo\"></p>\n",
    "\n",
    "<script>\n",
    "function myFunction1() {\n",
    "  document.getElementById(\"demo\").innerHTML = \"8\";\n",
    "}\n",
    "</script>\n"
   ]
  },
  {
   "attachments": {},
   "cell_type": "markdown",
   "metadata": {},
   "source": [
    "<button onclick=\"myFunction2()\">Divide</button>\n",
    "\n",
    "<p id=\"demo1\"></p>\n",
    "\n",
    "<script>\n",
    "function myFunction2() {\n",
    "  document.getElementById(\"demo1\").innerHTML = \"2\";\n",
    "}\n",
    "</script>\n"
   ]
  },
  {
   "attachments": {},
   "cell_type": "markdown",
   "metadata": {},
   "source": [
    "<button onclick=\"myFunction3()\">Add</button>\n",
    "\n",
    "<p id=\"demo2\"></p>\n",
    "\n",
    "<script>\n",
    "function myFunction3() {\n",
    "  document.getElementById(\"demo2\").innerHTML = \"6\";\n",
    "}\n",
    "</script>\n"
   ]
  },
  {
   "attachments": {},
   "cell_type": "markdown",
   "metadata": {},
   "source": [
    "<button onclick=\"myFunction4()\">Subtract</button>\n",
    "\n",
    "<p id=\"demo3\"></p>\n",
    "\n",
    "<script>\n",
    "function myFunction4() {\n",
    "  document.getElementById(\"demo3\").innerHTML = \"2\";\n",
    "}\n",
    "</script>\n"
   ]
  },
  {
   "attachments": {},
   "cell_type": "markdown",
   "metadata": {},
   "source": [
    "________________________________________\n",
    "\n",
    "\n"
   ]
  }
 ],
 "metadata": {
  "kernelspec": {
   "display_name": "Python 3",
   "language": "python",
   "name": "python3"
  },
  "language_info": {
   "codemirror_mode": {
    "name": "ipython",
    "version": 3
   },
   "file_extension": ".py",
   "mimetype": "text/x-python",
   "name": "python",
   "nbconvert_exporter": "python",
   "pygments_lexer": "ipython3",
   "version": "3.8.10 (default, Jun 22 2022, 20:18:18) \n[GCC 9.4.0]"
  },
  "orig_nbformat": 4,
  "vscode": {
   "interpreter": {
    "hash": "916dbcbb3f70747c44a77c7bcd40155683ae19c65e1c03b4aa3499c5328201f1"
   }
  }
 },
 "nbformat": 4,
 "nbformat_minor": 2
}
