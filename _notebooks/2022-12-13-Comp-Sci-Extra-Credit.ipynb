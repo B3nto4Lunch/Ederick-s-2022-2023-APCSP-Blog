{
 "cells": [
  {
   "attachments": {},
   "cell_type": "markdown",
   "metadata": {},
   "source": [
    "# Computer Science Extra Credit December 13, 2022\n",
    "\n",
    "- categories: [Extra-Credit]"
   ]
  },
  {
   "attachments": {},
   "cell_type": "markdown",
   "metadata": {},
   "source": [
    "## Kathyleen Beveridge\n",
    "\n",
    "##### Background Information\n",
    "\n",
    "- Born in Vietnam\n",
    "- Moved to California\n",
    "- Studied with John Mortensen\n",
    "\n",
    "##### Education\n",
    "Recieved bachelors degree in Santa Clara\n",
    "\n",
    "##### Career Tech +\n",
    "- Passion, mission is to thrive in Passion\n",
    "- Finance Major, first job was an investment banker at Wells Fargo\n",
    "- On track to be a stock broker, was not preferred\n",
    "- Switched careers to high tech\n",
    "- Learned how to surf, does not pay bills though!\n",
    "- Left Qualcomm about the same time as Mort\n",
    "- Specializes in parts of development\n",
    "\n",
    "- ***IS CURRENTLY A SENIOR DIRECTOR FOR MARKET SALES***\n",
    "\n",
    "##### Company Mission Statements\n",
    "- HP Inc- Create technology that makes life better for everyone, everywhere\n",
    "- Qualcomm - Inventing the tech the world loves\n",
    "- Thermo Fisher Scientific - enable our customers to be healthier, cleaner and safer\n",
    "- World leader in serving science\n",
    "    - More than 100,000 members (colleagues)\n",
    "    - 7,0000 branches\n",
    "    - 1.5 billion dollars\n",
    "    - 40 billion dollars in revenue\n",
    "\n",
    "Companies love utilizing tech and collaboration to increase productivity and create a better society that advances and improved for the future.\n"
   ]
  },
  {
   "attachments": {},
   "cell_type": "markdown",
   "metadata": {},
   "source": [
    "## Kris Porter\n",
    "\n",
    "- Software Engineer, SRE, DevOPS Engineer, Infrastructure Engineer\n",
    "\n",
    "##### How it Started\n",
    " - Went to Livermore High School\n",
    "    - Enjoyed Stem classes\n",
    "- Enrolled at UCLA for Electrical Engineering\n",
    "    - First course was in Comptuer Networking, Failed\n",
    "- Master's Degree in Electrical Engineering from Cal State LA\n",
    "\n",
    "\n",
    "##### Research\n",
    "\n",
    "Did some research for embedded networked sensors\n",
    "The thing he did research for is for creating a robot that scanned the local readings of the area. Was a monkey or such that swung to locate the entire area.\n",
    "\n",
    "\n",
    "##### Career Slide\n",
    "- 2008: Finished Graduate School\n",
    "- 1010: Worked for a bit for fixing computers\n",
    "- 2011-2012: NBC Universal, Streaming media infrastructure.\n",
    "- 2014: Introduction to DevOPS, transition to Qualcomm (Thanks to Mr.M)\n",
    "- 2021: Working at Twitter... (ELON MUSK!)\n",
    "\n",
    "\n",
    "Did heavy emphasis for Security, very good, did it for the olympic games\n",
    "HEAVY EMPHASIS ON DEV OPS!!!\n",
    "\n",
    "\n",
    "##### Highlights\n",
    "\n",
    "- Continuous learning is somethin that is really important because it can get boring sometimes, so constantly learning can make the experience more enjoyable and therefore will get you furthr ahead in life and have some more passion to it!\n",
    "- Taught Python to himself"
   ]
  },
  {
   "attachments": {},
   "cell_type": "markdown",
   "metadata": {},
   "source": [
    "# Questions\n",
    "\n",
    "1.  Different companies have their own version of Agile and they will adjust depending on what they need from their employees.\n",
    "    - The concept of \"agile\" is so important, where some projects could be due in 6 months, 8 months, and you really need to be flexible to adjust the workflow according to the time\n",
    "\n",
    "2.  Are you still working at Twitter?\n",
    "    - Kris: No, I am going to go work for something called (Kristin Lab?? Sorry I can't hear very well).\n",
    "3.  Can you go more in depth into machine based learning?\n",
    "    - Kris: It's kind of like utilizing the python libraries provided and the ability to run experiments. So, the only project that I did at Qualcomm, we used something like GitLabs, and we had a 100,000 something repositories, and we were very concerned with who is pushing/pulling/downloading what, so we had management over that and used the information to predict when to archive and when to do something, which often times can cost money. Lots of petabytes being used and bought by Qualcomm, yeah.\n",
    "4. Data sciences can still be used in a non technical form/word\n",
    "5. What do you think is the most important skill to have in the tech industry?\n",
    "    - Kris: The most important to me is overtime, is the continuous learning. I think it is very important, where you are not just learning about particular programming, but a lot of you guys will be going into engineering classes and careers, and its just that thing about learning to learn. Do not be too concerned on what's on the news. The only risk that I have is not learning while in that job when I'm taking that job offer. Everything else kinda falls into place when you're continuously learning.\n",
    "    - Kathyleen: Yeah, continuous learning is very important. You know, zigzagging, is kind of useful, but if I develop more skills, maybe I can use it to help people that do not possess [some of the skills I have]. Some of the best technical people that I have worked with have listened, Listening is very important and solving the given requirements is very important. If you can help explain it to someone else, that is really something else.\n",
    "6. Biggest Challenge in the Tech Industry?\n",
    "    - Kathyleen: When I worked at Qualcomm, you know how it's a semi conductor? Yeah, it went through acquisitions. Qual is a very big fish in the pond and it was something that I had to work with/adapt to. You have to be adaptive in the work environment.\n",
    "    - Kris: The hardest thing, I would say, would, well, besides interviews, basically would be for Silicon Valley jobs would be a series of random test questions that you did not know what it was and being able to pass those tests are hard!\n",
    "7. Make sure that you can be flexible with your colleges because sometimes there are other factors that can affect your day to day life.\n",
    "8. How do you think that tech knowledge can help in other various jobs that do not have to do with software engineering?\n",
    "    - Kathyleen: Problem solving and stuff can really help in any work environment. You are in a room, no phone, no computer, no electronics, just a pen and a pencil. How many cars do you think were sold in the US last year? I don't wanna know the answer, I just want to know the assumptions that you made. (I missed a lot sorry, tired hands)\n",
    "9. Some jobs do not require the strong use of AWS\n",
    "10. How does coding help with investment and finance?\n",
    "    - Kathyleen: I think that if you understand coding, understanding those algorithms can help understand the solution to these problems."
   ]
  },
  {
   "attachments": {},
   "cell_type": "markdown",
   "metadata": {},
   "source": [
    "# Takeaway, Conclusion, What I Learned\n",
    "\n",
    "Coding and Tech are crucial, not just in their aspects, but they can help with other tasks and strategies that are derived and utilized in other parts of my life. One example is continuous learning, where no matter where or when because it helps develop and grow as a person. Kris stated that progressing and improving are important, because if you stunt your learning growth while at a job, then the job probably is not suitable (one, you are not constructing better mechanics, and two, the job will because dull and meaningless). Other skills that can help with other things are: being able to communicate with others and being flexible, and adjusting to your workflow. Being able to accomplish due dates and such on time is a struggle in addition to having the functionality to adapt to conditions. "
   ]
  }
 ],
 "metadata": {
  "kernelspec": {
   "display_name": "Python 3",
   "language": "python",
   "name": "python3"
  },
  "language_info": {
   "name": "python",
   "version": "3.8.10 (default, Jun 22 2022, 20:18:18) \n[GCC 9.4.0]"
  },
  "orig_nbformat": 4,
  "vscode": {
   "interpreter": {
    "hash": "916dbcbb3f70747c44a77c7bcd40155683ae19c65e1c03b4aa3499c5328201f1"
   }
  }
 },
 "nbformat": 4,
 "nbformat_minor": 2
}
