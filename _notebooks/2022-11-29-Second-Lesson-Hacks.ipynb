{
 "cells": [
  {
   "cell_type": "markdown",
   "metadata": {},
   "source": [
    "# 3.3 to 3.4 Lesson Hacks"
   ]
  },
  {
   "cell_type": "markdown",
   "metadata": {},
   "source": [
    "# Luka's Hacks\n",
    "\n",
    "1. Set item to number to search for.\n",
    "2. Get next number in the list\n",
    "3. If number = item, display \"item found\"\n",
    "4. If there are more numbers in the list, go back to Step 2.\n",
    "5. Display \"item not found.\"m \n",
    "\n",
    " \n",
    "Sequencing: 1, 2, 5\n",
    "Selection: 3\n",
    "Iteration: 4,"
   ]
  },
  {
   "cell_type": "markdown",
   "metadata": {},
   "source": [
    "# Antony's Hacks\n",
    "\n",
    "Crossword Puzzle:\n",
    "* 1 Down: Iteration\n",
    "* 2 Down: Selection\n",
    "* 3 Across: Sequence\n",
    "\n"
   ]
  },
  {
   "cell_type": "markdown",
   "metadata": {},
   "source": [
    "![]({{ site.baseurl }}/images/3.3-3.4 Quiz.png) "
   ]
  }
 ],
 "metadata": {
  "kernelspec": {
   "display_name": "Python 3.8.10 64-bit",
   "language": "python",
   "name": "python3"
  },
  "language_info": {
   "name": "python",
   "version": "3.8.10"
  },
  "orig_nbformat": 4,
  "vscode": {
   "interpreter": {
    "hash": "916dbcbb3f70747c44a77c7bcd40155683ae19c65e1c03b4aa3499c5328201f1"
   }
  }
 },
 "nbformat": 4,
 "nbformat_minor": 2
}
