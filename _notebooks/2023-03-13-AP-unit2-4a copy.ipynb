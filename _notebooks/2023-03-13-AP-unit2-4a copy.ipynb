{
 "cells": [
  {
   "attachments": {},
   "cell_type": "markdown",
   "metadata": {},
   "source": [
    "#  Unit 2.4b and a for Books\n",
    "> Using Programs with Data is focused on SQL and database actions.  Part A focuses on SQLAlchemy and an OOP programming style,\n",
    "- toc: true\n",
    "- image: /images/python.png\n",
    "- categories: []\n",
    "- type: ap\n",
    "- week: 26"
   ]
  },
  {
   "attachments": {},
   "cell_type": "markdown",
   "metadata": {},
   "source": [
    "# Database and SQLAlchemy\n",
    "> In this blog we will explore using programs with data, focused on Databases.  We will use SQLite Database to learn more about using Programs with Data.\n",
    "\n",
    "- College Board talks about ideas like \n",
    "    - Program Usage. \"iterative and interactive way when processing information\"\n",
    "    - Managing Data.  \"classifying data are part of the process in using programs\", \"data files in a Table\"\n",
    "    - Insight \"insight and knowledge can be obtained from ...  digitally represented information\"\n",
    "    - Filter systems. 'tools for finding information and recognizing patterns\"\n",
    "    - Application. \"the preserve has two databases\", \"an employee wants to count the number of book\"\n",
    "\n",
    "- PBL, Databases, Iterative/OOP\n",
    "    - Iterative. Refers to a sequence of instructions or code being repeated until a specific end result is achieved\n",
    "    - OOP. A computer programming model that organizes software design around data, or objects, rather than functions and logic\n",
    "    - SQL. Structured Query Language, abbreviated as SQL, is a language used in programming, managing, and structuring data \n"
   ]
  },
  {
   "attachments": {},
   "cell_type": "markdown",
   "metadata": {},
   "source": [
    "## Imports and Flask Objects\n",
    "> Defines and key object creations\n",
    "\n",
    "- Comment on where you have observed these working?\n",
    "1. Flask app object\n",
    "    Ive seen this working in the CPT projects in flask\n",
    "2. SQLAlchemy object\n",
    "    This is in the model and the API"
   ]
  },
  {
   "cell_type": "code",
   "execution_count": 3,
   "metadata": {},
   "outputs": [],
   "source": [
    "\"\"\"\n",
    "These imports define the key objects\n",
    "\"\"\"\n",
    "\n",
    "from flask import Flask\n",
    "from flask_sqlalchemy import SQLAlchemy\n",
    "\n",
    "\"\"\"\n",
    "These object and definitions are used throughout the Jupyter Notebook.\n",
    "\"\"\"\n",
    "database = 'sqlite:///sqlite.db'  # path and filename of database\n",
    "# Setup of key Flask object (app)\n",
    "app = Flask(__name__)\n",
    "# Setup SQLAlchemy object and properties for the database (db)\n",
    "database = 'sqlite:///sqlite.db' # path and filename of database\n",
    "app.config['SQLALCHEMY_TRACK_MODIFICATIONS'] = False\n",
    "app.config['SQLALCHEMY_DATABASE_URI'] = database\n",
    "app.config['SECRET_KEY'] = 'SECRET_KEY'\n",
    "db = SQLAlchemy()\n",
    "\n",
    "\n",
    "# This belongs in place where it runs once per project\n",
    "db.init_app(app)\n"
   ]
  },
  {
   "attachments": {},
   "cell_type": "markdown",
   "metadata": {},
   "source": [
    "## Model Definition\n",
    "> Define columns, initialization, and CRUD methods for users table in sqlite.db\n",
    "\n",
    "- Comment on these items in the class\n",
    "- class User purpose\n",
    "    - The purpose of a \"User\" class depends on the specific software application or system that it is being used in. In general, a User class represents an individual who is interacting with the system, and it typically includes attributes such as the user's name, email, password, and other information that is relevant to the application.\n",
    "- db.Model inheritance\n",
    "    - In Flask and SQLAlchemy, you can create a hierarchy of classes using inheritance to model related database tables. When you define a model in SQLAlchemy, you can create a new model that inherits from an existing model by specifying the base model class as a parameter to the new class.\n",
    "- _init_ method\n",
    "    - the *__init__* method is a special method in Python classes that gets called when an instance of the class is created. It is also known as the constructor method.\n",
    "\n",
    "The purpose of the *__init__* method is to initialize the attributes of the object to their initial state. This is where you can set default values for attributes, and accept arguments that can be used to initialize the object's attributes.\n",
    "\n",
    "Here is an example of a simple class with an __ini\n",
    "- @property, @<column>.setter\n",
    "- additional methods"
   ]
  },
  {
   "cell_type": "code",
   "execution_count": 14,
   "metadata": {},
   "outputs": [],
   "source": [
    "\"\"\" database dependencies to support sqlite examples \"\"\"\n",
    "import datetime\n",
    "from datetime import datetime\n",
    "import json\n",
    "\n",
    "from sqlalchemy.exc import IntegrityError\n",
    "from werkzeug.security import generate_password_hash, check_password_hash\n",
    "\n",
    "\n",
    "''' Tutorial: https://www.sqlalchemy.org/library.html#tutorials, try to get into a Python shell and follow along '''\n",
    "\n",
    "# Define the User class to manage actions in the 'users' table\n",
    "# -- Object Relational Mapping (ORM) is the key concept of SQLAlchemy\n",
    "# -- a.) db.Model is like an inner layer of the onion in ORM\n",
    "# -- b.) User represents data we want to store, something that is built on db.Model\n",
    "# -- c.) SQLAlchemy ORM is layer on top of SQLAlchemy Core, then SQLAlchemy engine, SQL\n",
    "\n",
    "import sqlite3\n",
    "\n",
    "# Define a Book class\n",
    "class Book:\n",
    "    def __init__(self, title, author, year_published, isbn):\n",
    "        self.title = title\n",
    "        self.author = author\n",
    "        self.year_published = year_published\n",
    "        self.isbn = isbn\n",
    "\n",
    "# Create a connection to the database\n",
    "conn = sqlite3.connect('books.db')\n",
    "\n",
    "# Create a cursor object\n",
    "c = conn.cursor()\n",
    "\n",
    "# Create a table to store books\n",
    "c.execute('''CREATE TABLE books\n",
    "             (title text, author text, year_published int, isbn text)''')\n",
    "\n",
    "# Define some sample books\n",
    "b1 = Book('To Kill a Mockingbird', 'Harper Lee', 1960, '9780061120084')\n",
    "b2 = Book('1984', 'George Orwell', 1949, '9780451524935')\n",
    "b3 = Book('Pride and Prejudice', 'Jane Austen', 1813, '9780486284736')\n",
    "\n",
    "# Add the sample books to the database\n",
    "books = [b1, b2, b3]\n",
    "for book in books:\n",
    "    c.execute(\"INSERT INTO books VALUES (?, ?, ?, ?)\",\n",
    "              (book.title, book.author, book.year_published, book.isbn))\n",
    "\n",
    "# Save changes to the database\n",
    "conn.commit()\n",
    "\n",
    "# Close the connection to the database\n",
    "conn.close()\n"
   ]
  },
  {
   "attachments": {},
   "cell_type": "markdown",
   "metadata": {},
   "source": [
    "## Initial Data\n",
    "> Uses SQLALchemy db.create_all() to initialize rows into sqlite.db\n",
    "\n",
    "- Comment on how these work?\n",
    "1. Create All Tables from db Object\n",
    "    All items are created using the DB object\n",
    "2. User Object Constructors\n",
    "    Object constructors create the specific columns and such\n",
    "3. Try / Except \n",
    "    Try this... except if something happens, do this...\n"
   ]
  },
  {
   "attachments": {},
   "cell_type": "markdown",
   "metadata": {},
   "source": [
    "## Check for given Credentials in users table in sqlite.db\n",
    "> Use of ORM Query object and custom methods to identify user to credentials uid and password\n",
    "\n",
    "- Comment on purpose of following\n",
    "1. User.query.filter_by\n",
    "    - This function will essentially filter out all of the user ids and will be a check for any specific calls made in the db\n",
    "2. user.password\n",
    "    - Creates password?? (Unknown, wasn't here)"
   ]
  },
  {
   "cell_type": "code",
   "execution_count": 17,
   "metadata": {},
   "outputs": [],
   "source": [
    "# SQLAlchemy extracts single user from database matching User ID\n",
    "def find_by_book_name(title):\n",
    "    with app.app_context():\n",
    "        book = Book.query.filter_by(_title=title).first()\n",
    "    return book # returns user object\n",
    "\n",
    "# Check credentials by finding user and verify password\n",
    "def check_credentials(uid, password):\n",
    "    # query email and return user record\n",
    "    user = find_by_uid(uid)\n",
    "    if user == None:\n",
    "        return False\n",
    "    if (user.is_password(password)):\n",
    "        return True\n",
    "    return False\n",
    "        \n",
    "#check_credentials(\"indi\", \"123qwerty\")"
   ]
  },
  {
   "cell_type": "code",
   "execution_count": 18,
   "metadata": {},
   "outputs": [
    {
     "ename": "OperationalError",
     "evalue": "no such table: books",
     "output_type": "error",
     "traceback": [
      "\u001b[0;31m---------------------------------------------------------------------------\u001b[0m",
      "\u001b[0;31mOperationalError\u001b[0m                          Traceback (most recent call last)",
      "\u001b[0;32m/var/folders/r0/j8t2jdsj4mz5cg5ssn4mncj40000gp/T/ipykernel_75522/1980942257.py\u001b[0m in \u001b[0;36m<module>\u001b[0;34m\u001b[0m\n\u001b[1;32m     69\u001b[0m         \u001b[0;32melse\u001b[0m\u001b[0;34m:\u001b[0m\u001b[0;34m\u001b[0m\u001b[0;34m\u001b[0m\u001b[0m\n\u001b[1;32m     70\u001b[0m             \u001b[0mprint\u001b[0m\u001b[0;34m(\u001b[0m\u001b[0;34m\"No\"\u001b[0m\u001b[0;34m)\u001b[0m\u001b[0;34m\u001b[0m\u001b[0;34m\u001b[0m\u001b[0m\n\u001b[0;32m---> 71\u001b[0;31m \u001b[0mdelete_book\u001b[0m\u001b[0;34m(\u001b[0m\u001b[0;34m)\u001b[0m\u001b[0;34m\u001b[0m\u001b[0;34m\u001b[0m\u001b[0m\n\u001b[0m",
      "\u001b[0;32m/var/folders/r0/j8t2jdsj4mz5cg5ssn4mncj40000gp/T/ipykernel_75522/1980942257.py\u001b[0m in \u001b[0;36mdelete_book\u001b[0;34m()\u001b[0m\n\u001b[1;32m     60\u001b[0m     \u001b[0;32mwith\u001b[0m \u001b[0msqlite3\u001b[0m\u001b[0;34m.\u001b[0m\u001b[0mconnect\u001b[0m\u001b[0;34m(\u001b[0m\u001b[0;34m\"library.db\"\u001b[0m\u001b[0;34m)\u001b[0m \u001b[0;32mas\u001b[0m \u001b[0mconn\u001b[0m\u001b[0;34m:\u001b[0m\u001b[0;34m\u001b[0m\u001b[0;34m\u001b[0m\u001b[0m\n\u001b[1;32m     61\u001b[0m         \u001b[0mc\u001b[0m \u001b[0;34m=\u001b[0m \u001b[0mconn\u001b[0m\u001b[0;34m.\u001b[0m\u001b[0mcursor\u001b[0m\u001b[0;34m(\u001b[0m\u001b[0;34m)\u001b[0m\u001b[0;34m\u001b[0m\u001b[0;34m\u001b[0m\u001b[0m\n\u001b[0;32m---> 62\u001b[0;31m         \u001b[0mc\u001b[0m\u001b[0;34m.\u001b[0m\u001b[0mexecute\u001b[0m\u001b[0;34m(\u001b[0m\u001b[0;34m\"SELECT * FROM books WHERE isbn=?\"\u001b[0m\u001b[0;34m,\u001b[0m \u001b[0;34m(\u001b[0m\u001b[0misbn\u001b[0m\u001b[0;34m,\u001b[0m\u001b[0;34m)\u001b[0m\u001b[0;34m)\u001b[0m\u001b[0;34m\u001b[0m\u001b[0;34m\u001b[0m\u001b[0m\n\u001b[0m\u001b[1;32m     63\u001b[0m         \u001b[0mbook\u001b[0m \u001b[0;34m=\u001b[0m \u001b[0mc\u001b[0m\u001b[0;34m.\u001b[0m\u001b[0mfetchone\u001b[0m\u001b[0;34m(\u001b[0m\u001b[0;34m)\u001b[0m\u001b[0;34m\u001b[0m\u001b[0;34m\u001b[0m\u001b[0m\n\u001b[1;32m     64\u001b[0m         \u001b[0;32mif\u001b[0m \u001b[0mbook\u001b[0m\u001b[0;34m:\u001b[0m\u001b[0;34m\u001b[0m\u001b[0;34m\u001b[0m\u001b[0m\n",
      "\u001b[0;31mOperationalError\u001b[0m: no such table: books"
     ]
    }
   ],
   "source": [
    "import sqlite3\n",
    "\n",
    "# Define the Book class\n",
    "class Book:\n",
    "    def __init__(self, title, author, year_published, isbn):\n",
    "        self.title = title\n",
    "        self.author = author\n",
    "        self.year_published = year_published\n",
    "        self.isbn = isbn\n",
    "\n",
    "# Define a function to display all the books in the database\n",
    "def display_books():\n",
    "    with sqlite3.connect(\"books.db\") as conn:\n",
    "        c = conn.cursor()\n",
    "        c.execute(\"SELECT * FROM books\")\n",
    "        books = c.fetchall()\n",
    "        if books:\n",
    "            for book in books:\n",
    "                print(f\"{book[0]} - {book[1]} by {book[2]}, published in {book[3]}. ISBN: {book[4]}\")\n",
    "        else:\n",
    "            print(\"There are no books in the database.\")\n",
    "\n",
    "# Define a function to add a new book to the database\n",
    "def add_book():\n",
    "    title = input(\"Enter the title of the book: \")\n",
    "    author = input(\"Enter the author of the book: \")\n",
    "    year_published = input(\"Enter the year the book was published: \")\n",
    "    isbn = input(\"Enter the ISBN of the book: \")\n",
    "    new_book = Book(title, author, year_published, isbn)\n",
    "    with sqlite3.connect(\"books.db\") as conn:\n",
    "        c = conn.cursor()\n",
    "        c.execute(\"INSERT INTO books VALUES (?, ?, ?, ?)\", (new_book.title, new_book.author, new_book.year_published, new_book.isbn))\n",
    "        print(f\"{new_book.title} by {new_book.author} has been added to the database.\")\n",
    "\n",
    "# Define a function to update an existing book in the database\n",
    "def update_book():\n",
    "    isbn = input(\"Enter the ISBN of the book you want to update: \")\n",
    "    with sqlite3.connect(\"books.db\") as conn:\n",
    "        c = conn.cursor()\n",
    "        c.execute(\"SELECT * FROM books WHERE isbn=?\", (isbn,))\n",
    "        book = c.fetchone()\n",
    "        if book:\n",
    "            print(f\"You are updating {book[0]} by {book[1]}\")\n",
    "            title = input(\"Enter the new title of the book (leave blank to keep the same): \")\n",
    "            author = input(\"Enter the new author of the book (leave blank to keep the same): \")\n",
    "            year_published = input(\"Enter the new year the book was published (leave blank to keep the same): \")\n",
    "            if title:\n",
    "                c.execute(\"UPDATE books SET title=? WHERE isbn=?\", (title, isbn))\n",
    "            if author:\n",
    "                c.execute(\"UPDATE books SET author=? WHERE isbn=?\", (author, isbn))\n",
    "            if year_published:\n",
    "                c.execute(\"UPDATE books SET year_published=? WHERE isbn=?\", (year_published, isbn))\n",
    "            print(f\"{book[0]} by {book[1]} has been updated in the database.\")\n",
    "        else:\n",
    "            print(\"No book with that ISBN was found in the database.\")\n",
    "\n",
    "# Define a function to delete an existing book from the database\n",
    "def delete_book():\n",
    "    isbn = input(\"Enter the ISBN of the book you want to delete: \")\n",
    "    with sqlite3.connect(\"books.db\") as conn:\n",
    "        c = conn.cursor()\n",
    "        c.execute(\"SELECT * FROM books WHERE isbn=?\", (isbn,))\n",
    "        book = c.fetchone()\n",
    "        if book:\n",
    "            confirm = input(f\"Are you sure you want to delete {book[0]} by {book[1]}? (y/n)\")\n",
    "            if confirm.lower() == \"y\":\n",
    "                c.execute(\"DELETE FROM books WHERE isbn=?\", (isbn,))\n",
    "                print(f\"{book[0]} by {book[1]} has been deleted from the database.\")\n",
    "        else:\n",
    "            print(\"No\")\n",
    "delete_book()"
   ]
  },
  {
   "attachments": {},
   "cell_type": "markdown",
   "metadata": {},
   "source": [
    "In this code, we can see that the program is organized into four functions: display_books(), add_book(), update_book(), and delete_book(). Each function performs a specific task related to managing a book library database. For example, display_books() retrieves all the books from the database and displays them, while add_book() allows the user to input information for a new book and adds it to the database.\n",
    "\n",
    "Each function has a specific purpose and can be called or executed from other parts of the program. This helps to keep the code organized and easier to understand and maintain. Additionally, by using functions, the code can be reused in other programs, making it more modular and scalable."
   ]
  },
  {
   "attachments": {},
   "cell_type": "markdown",
   "metadata": {},
   "source": [
    "## Create a new User in table in Sqlite.db\n",
    "> Uses SQLALchemy and custom user.create() method to add row.\n",
    "\n",
    "- Comment on purpose of following\n",
    "1. user.find_by_uid() and try/except\n",
    "    - this command tries to find user based on the ID. This should theoretically increase the ease of access when accesses large database files and trying to locate specifc information.\n",
    "2. user = User(...)\n",
    "    - This command should defind the user as whatever the input is. \n",
    "3. user.dob and try/except\n",
    "4. user.create() and try/except\n",
    "    - Creates a specific user if all traits are qualified."
   ]
  },
  {
   "cell_type": "code",
   "execution_count": null,
   "metadata": {},
   "outputs": [],
   "source": []
  },
  {
   "attachments": {},
   "cell_type": "markdown",
   "metadata": {},
   "source": [
    "## Reading users table in sqlite.db\n",
    "> Uses SQLALchemy query.all method to read data\n",
    "\n",
    "- Comment on purpose of following\n",
    "1. User.query.all\n",
    "2. json_ready assignment\n",
    "\n",
    "User.query.all() is a SQLAlchemy query that retrieves all instances of the User model from the database. In this code, it retrieves all users from the database.\n",
    "\n",
    "json_ready is a list comprehension that creates a new list by iterating through each user in the table (which contains all users from the database) and calling the read() method on each user. The read() method of each User object would be responsible for creating a JSON representation of that object. This list of JSON objects is assigned to the json_ready variable, which is then returned by the read() function."
   ]
  },
  {
   "cell_type": "code",
   "execution_count": 55,
   "metadata": {},
   "outputs": [
    {
     "data": {
      "text/plain": [
       "[{'id': 1,\n",
       "  'name': 'Thomas Edison',\n",
       "  'uid': 'toby',\n",
       "  'dob': '02-11-1847',\n",
       "  'age': 176},\n",
       " {'id': 2,\n",
       "  'name': 'Nikola Tesla',\n",
       "  'uid': 'niko',\n",
       "  'dob': '03-15-2023',\n",
       "  'age': 0},\n",
       " {'id': 3,\n",
       "  'name': 'Alexander Graham Bell',\n",
       "  'uid': 'lex',\n",
       "  'dob': '03-15-2023',\n",
       "  'age': 0},\n",
       " {'id': 4,\n",
       "  'name': 'Eli Whitney',\n",
       "  'uid': 'whit',\n",
       "  'dob': '03-15-2023',\n",
       "  'age': 0},\n",
       " {'id': 5,\n",
       "  'name': 'Indiana Jones',\n",
       "  'uid': 'indi',\n",
       "  'dob': '10-21-1920',\n",
       "  'age': 102},\n",
       " {'id': 6,\n",
       "  'name': 'Marion Ravenwood',\n",
       "  'uid': 'raven',\n",
       "  'dob': '10-21-1921',\n",
       "  'age': 101}]"
      ]
     },
     "execution_count": 55,
     "metadata": {},
     "output_type": "execute_result"
    }
   ],
   "source": [
    "\n",
    "# SQLAlchemy extracts all users from database, turns each user into JSON\n",
    "def read():\n",
    "    with app.app_context():\n",
    "        table = User.query.all()\n",
    "    json_ready = [user.read() for user in table] # each user adds user.read() to list\n",
    "    return json_ready\n",
    "\n",
    "read()"
   ]
  },
  {
   "attachments": {},
   "cell_type": "markdown",
   "metadata": {},
   "source": [
    "# Hacks\n",
    "- Add this Blog to you own Blogging site.  In the Blog add notes and observations on each code cell.\n",
    "- Add Update functionality to this blog.\n",
    "- Add Delete functionality to this blog."
   ]
  },
  {
   "cell_type": "code",
   "execution_count": 8,
   "metadata": {},
   "outputs": [
    {
     "name": "stdout",
     "output_type": "stream",
     "text": [
      "The row with id 1 was successfully deleted from the table\n"
     ]
    }
   ],
   "source": [
    "import sqlite3\n",
    "database = 'instance/sqlite.db' \n",
    "\n",
    "def delete():\n",
    "    # Get the id of the row to delete\n",
    "    row_id = input(\"Enter the id of the row to delete: \")\n",
    "\n",
    "    # Connect to the database file\n",
    "    conn = sqlite3.connect(database)\n",
    "\n",
    "    # Create a cursor object to execute SQL commands\n",
    "    cursor = conn.cursor()\n",
    "\n",
    "    try:\n",
    "        # Execute the DELETE command using the id column\n",
    "        cursor.execute(\"DELETE FROM users WHERE id = ?\", (row_id,))\n",
    "\n",
    "        if cursor.rowcount == 0:\n",
    "            # The row with the given id was not found in the table\n",
    "            print(f\"No row with id {row_id} was found in the table\")\n",
    "        else:\n",
    "            # The row was successfully deleted\n",
    "            print(f\"The row with id {row_id} was successfully deleted from the table\")\n",
    "    except sqlite3.Error as error:\n",
    "        print(f\"Error deleting row: {error}\")\n",
    "    finally:\n",
    "        # Commit the changes and close the database connection\n",
    "        conn.commit()\n",
    "        conn.close()\n",
    "        \n",
    "        \n",
    "delete()\n"
   ]
  },
  {
   "attachments": {},
   "cell_type": "markdown",
   "metadata": {},
   "source": [
    "Does this show procedural abstraction? if so, explain:\n",
    "\n",
    "\n",
    "Yes, this code shows procedural abstraction. Procedural abstraction is a programming concept that involves breaking down a program into smaller, more manageable tasks, each of which can be executed as a procedure or function. In this code, each function (display_books, add_book, update_book, and delete_book) represents a specific task or operation that can be performed on the database, and each function encapsulates the details of that operation. This allows the main program or other parts of the program to interact with the database using a simple function call, without needing to know the details of how the operation is performed. Procedural abstraction helps to simplify complex programs and makes them easier to maintain and modify."
   ]
  }
 ],
 "metadata": {
  "kernelspec": {
   "display_name": "base",
   "language": "python",
   "name": "python3"
  },
  "language_info": {
   "codemirror_mode": {
    "name": "ipython",
    "version": 3
   },
   "file_extension": ".py",
   "mimetype": "text/x-python",
   "name": "python",
   "nbconvert_exporter": "python",
   "pygments_lexer": "ipython3",
   "version": "3.9.13"
  },
  "orig_nbformat": 4,
  "vscode": {
   "interpreter": {
    "hash": "40d3a090f54c6569ab1632332b64b2c03c39dcf918b08424e98f38b5ae0af88f"
   }
  }
 },
 "nbformat": 4,
 "nbformat_minor": 2
}
