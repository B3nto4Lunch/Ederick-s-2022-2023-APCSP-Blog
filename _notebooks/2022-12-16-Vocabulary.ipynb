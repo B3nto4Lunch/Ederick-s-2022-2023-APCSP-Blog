{
 "cells": [
  {
   "attachments": {},
   "cell_type": "markdown",
   "metadata": {},
   "source": [
    "# Vocabulary Terms\n",
    "\n",
    "- categories: [Notes]\n",
    "- description: All the mandatory vocabulary terms that I need to know for Computer Science"
   ]
  },
  {
   "attachments": {},
   "cell_type": "markdown",
   "metadata": {},
   "source": [
    "### Unit 2 Vocabulary Terms\n",
    "\n",
    "Bits, Bytes, Hexadecimal / Nibbles\n",
    "\n",
    "- **Bits** - A given byte contains either bits or a code. A designation of 'bits' means that each individual bit has its own meaning, independent of the meaning of other bits in the byte.\n",
    "- **Byte** - code is computer object code that an interpreter converts into binary machine code so it can be read by a computer's hardware processor.\n",
    "- **Hexadecimal** - relating to or using a system of numerical notation that has 16 rather than 10 as its base.\n",
    "- **Nibble** - a nibble is four consecutive binary digits or half of an 8-bit byte. \n",
    "\n",
    "____________________________________________________________________________________________________\n",
    "\n",
    "Unsigned Integer, Signed Integer, Floating Point\n",
    "\n",
    "- **Unsigned Integer** - Unsigned Integers (often called \"uints\") are just like integers (whole numbers) but have the property that they don't have a + or - sign associated with them\n",
    "- **Signed Integer** - A signed integer is a 32-bit datum that encodes an integer in the range [-2147483648 to 2147483647]. \n",
    "- **Floating Point** - There are two floating point primitive types. Data type float is sometimes called \"single-precision floating point\". Data type double has twice as many bits and is sometimes called \"double-precision floating point\".\n",
    "\n",
    "____________________________________________________________________________________________________\n",
    "\n",
    "Binary Data Abstractions: Boolean, ASCII, Unicode, RGB\n",
    "\n",
    "- **Boolean** - True or False statements\n",
    "- **ASCII** - ASCII (American Standard Code for Information Interchange) is the most common character encoding format for text data in computers and on the internet.\n",
    "- **Unicode** - an international encoding standard for use with different languages and scripts, by which each letter, digit, or symbol is assigned a unique numeric value that applies across different platforms and programs.\n",
    "- **RGB** - Red Green Blue (Gamer)\n",
    "\n",
    "____________________________________________________________________________________________________\n",
    "\n",
    "Data Compression: Lossy, Lossless (note discussed yet)\n",
    "\n",
    "- **Lossy** - Lossy is a data encoding and compression technique that deliberately discards some data in the compression process.\n",
    "- **Lossless** - With lossless compression, every bit of data originally in a file remains after it is uncompressed, and all the information is restored\n",
    "\n",
    "\n"
   ]
  },
  {
   "attachments": {},
   "cell_type": "markdown",
   "metadata": {},
   "source": [
    "### Unit 2 Vocabulary Terms"
   ]
  },
  {
   "attachments": {},
   "cell_type": "markdown",
   "metadata": {},
   "source": [
    "### Unit 3 Vocabulary Terms\n",
    "\n",
    "- **Variables**: A variable is an abstraction made inside a program that holds a value. These variables are used in code to refer to more complex values that the variable contains and makes the program code more organized and smoother to run.\n",
    "- **Data Types**: Variables have different data types that store specific kinds of data depending on what is being represented. Some examples are shown below:\n",
    "    * integer (numbers)\n",
    "    * string (or text/letters)\n",
    "    * Boolean (True/False statements)\n",
    "- **Assignment Operators**: Collegeboard uses <– as the assignment operator. The assignment operator looks different for different types of coding languages A variable will take the most recent value assigned\n",
    "- **Lists**: Lists are sequences of elements with each element being a variable. An example of a list can be the names of the students in this classroom.\n",
    "- **2D Lists**: A two-dimensional list can be considered as a matrix where each row can have different lengths and supports different data types.\n",
    "- **Dictionary**: Dictionaries are used to store data values in key:value pairs. A dictionary is a collection which is ordered*, changeable and do not allow duplicates.\n",
    "- **Class**: a class is a template definition of the method s and variable s in a particular kind of object\n",
    "- **Algorithms**: An algorithm is a finite set of instructions that accomplish a task, it can be expressed by natural language, diagrams, and various other ways.\n",
    "- **Sequence**: The order that the steps go in of a Algorithm\n",
    "- **Selection**: A selection allows an algorithm to make a decision based on if a condition is met. It's like a boolean True or False statement or a set of options that will determine the next step.\n",
    "- **Iteration**: An iteration is a loop and doing something again until a condition is met, like how something will continue to be checked for each item in a list until a condition is met.\n",
    "- **Expressions**: An expression in Python is a combination of operators and operands. It is like an equation or something that defines a variable's value.\n",
    "- **Comparison Operators**: Signs like < and > and = that compare the values of variables and other things to determine the next step in their algorithm.\n",
    "- **Booleans Expressions and Selection**: Based on the Boolean's True or False, it will make a selection\n",
    "- **Booleans Expressions and Iteration**: Based on the Boolean's True or False, it will iterate something in the algorithm or not. \n",
    "- **Truth Tables**: A truth table has one column for each input variable (for example, p and q), and one final column showing all of the possible results of the logical operation that the table represents.\n",
    "- **Characters**: Alternatively referred to as the character set, charset, and character encoding, a character code describes a specific encoding for characters as defined in the code page.\n",
    "- **Strings**: Basically just text, but it can be something like a sentence, not just a single letter or word.\n",
    "- **Length**: Determines the length of a string or a list or a variable or whatever the length of x is.\n",
    "- **Concatenation**: returns a single string consisting of str1 followed by str 2 (concat(str1,str2))\n",
    "- **Upper and Lower Definitions**: A top-code for a variable is an upper limit on all published values of that variable. Any value greater than this upper limit is replaced by the upper limit or is not published on the micro-data file at all. Similarly, a bottom-code is a lower limit on all published values for a variable.\n",
    "- **Traversing Strings**: String Traversal. Traversing a string. Traversing just means to process every character in a string, usually from left end to right end.\n",
    "- **Python Conditionals**:\n",
    "    - if: If something is equal or not equal to or meets this conditional: do this\n",
    "    - elif: if the following if statements do not meet the conditions, try this statement instead.\n",
    "    - Else: if something meets the conditionals do this, otherwise do this (else). (if this is 1 say Hello, Else say goodbye)\n",
    "    - Nested Conditionals: It's like another conditional for if else statements, where if it does this, do it, else: if this... else that.\n",
    "    ```python\n",
    "    x = 3\n",
    "    y = 2\n",
    "    if x = y\n",
    "        print(\"x = y\")\n",
    "    else:\n",
    "        if x < y:\n",
    "            print(\"x < y\")\n",
    "        else:\n",
    "            print(\"x > y\")\n",
    "    ```\n",
    "- **Python For, While loops with Range, with list**\n",
    "    - For: The for statement can help access every single definition in the list. For example, if I had a list that had multiple values and I wanted each thing to be evaluated by my code, I would use the for item. Example Below.\n",
    "    ```python\n",
    "    listA = [2, 3, 4, 5, 6, 100]\n",
    "    for item in listA:\n",
    "        if item >= 5:\n",
    "            print(\"Greater than 5\")\n",
    "        else:\n",
    "            print(\"Less than 5\")\n",
    "    ```\n",
    "    - While Loops with Range: While basically just means that *\"while the thing that you are assessing meets this condition, keep doing it until it doesn't\"*. Range is simply used to define how many times you want something to repeat. \n",
    "    - Lists: The two things above can be used with lists. Again, to reiterate, the for function is basically used to assess every value in the less rather than just a single variable at a time because lists can hold multiple values and the for and while functions work to help the user.\n",
    "- **Break**: The Break function is basically where you want to create a loop that follow the code, unless it does this, then **break** or in other words, stop the code.\n",
    "- **Continue**: Similar to the break function, the continue does the exactly opposite, where if you want the code to stop, but then once another condition is met, you can use continue to continue running the code. Example will be below:\n",
    "```python \n",
    "for i in range (1,40):\n",
    "    if i == 20:\n",
    "        break\n",
    "    print(i)\n",
    "```\n",
    "- **Procedural Abstraction**: Procedural abstraction is when we write code sections (called \"procedures\" or in Java, \"static methods\") which are generalized by having variable parameters. The idea is that we have code which can cope with a variety of different situations, depending on how its parameters are set when it is called.\n",
    "- **Python Def Procedures**: . A procedure allows us to group a block of code under a name, known as a procedure name. A procedure is a named set of instructions that can take in parameters and return values. It may be called \"method\" or \"function\" in different programming languages. Example:\n",
    "```python\n",
    "def multiply(x, y):\n",
    "    product = x * y\n",
    "    return product\n",
    "```\n",
    "It is basically like a function to do this two the two parameters (which are independent variables to be filled with defined values) instead of constantly doing something like z = x * y and then printing Z. Using def is a lot more efficient and the python code below will show examples. Returning what you want see from it is also needed, so like, if I wanted to multiply x and y, I want to return, or see, the product.\n",
    "- **Parameters**: Parameters are independent variables used in the procedure to produce a result. It allows a procedure to execute without initially knowing specific input values.\n",
    "- **Return Values**: To use return values, you have to write the syntax return followed by the expression you would like to return var. A return statement exits a function and instructs python to continue executing the program and to return a certain value.\n",
    "\n",
    "\n",
    "Everything Defined:\n",
    "Variables, Data Types, Assignment Operators\n",
    "Managing Complexity with Variables:  Lists, 2D Lists, Dictionaries, Class\n",
    "Algorithms, Sequence, Selection, Iteration\n",
    "Expressions, Comparison Operators, Booleans Expressions and Selection, Booleans Expressions and Iteration, Truth Tables\n",
    "Characters, Strings, Length, Concatenation, Upper, Lower, Traversing Strings\n",
    "Python If, Elif, Else conditionals; Nested Selection Statements\n",
    "Python For, While loops with Range, with List\n",
    "Combining loops with conditionals to Break, Continue\n",
    "Procedural Abstraction, Python Def procedures, Parameters, Return Values\n",
    "\n"
   ]
  },
  {
   "cell_type": "code",
   "execution_count": 11,
   "metadata": {},
   "outputs": [
    {
     "data": {
      "text/plain": [
       "180"
      ]
     },
     "execution_count": 11,
     "metadata": {},
     "output_type": "execute_result"
    }
   ],
   "source": [
    "### Example of a Def function and why it's more convenient\n",
    "\n",
    "def multiply(x,y):\n",
    "    product = x * y\n",
    "    return product\n",
    "a = 5\n",
    "b = 10\n",
    "c = 12\n",
    "d = 15\n",
    "x = 17\n",
    "y = 2\n",
    "\n",
    "multiply(x, y)\n",
    "multiply(c,b)\n",
    "multiply(a,y)\n",
    "multiply(c,d)\n",
    "\n",
    "### Instead of creating multiple variables that are the result of var1 and var2 and having to print it out, we can save some time by creating these functions.\n"
   ]
  }
 ],
 "metadata": {
  "kernelspec": {
   "display_name": "Python 3",
   "language": "python",
   "name": "python3"
  },
  "language_info": {
   "codemirror_mode": {
    "name": "ipython",
    "version": 3
   },
   "file_extension": ".py",
   "mimetype": "text/x-python",
   "name": "python",
   "nbconvert_exporter": "python",
   "pygments_lexer": "ipython3",
   "version": "3.8.10"
  },
  "orig_nbformat": 4,
  "vscode": {
   "interpreter": {
    "hash": "916dbcbb3f70747c44a77c7bcd40155683ae19c65e1c03b4aa3499c5328201f1"
   }
  }
 },
 "nbformat": 4,
 "nbformat_minor": 2
}
